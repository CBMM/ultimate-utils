{
 "cells": [
  {
   "cell_type": "code",
   "execution_count": 3,
   "metadata": {
    "collapsed": false,
    "jupyter": {
     "outputs_hidden": false
    },
    "pycharm": {
     "is_executing": false,
     "name": "#%%\n"
    }
   },
   "outputs": [
    {
     "name": "stdout",
     "output_type": "stream",
     "text": [
      "3.7.6 (default, Jan  8 2020, 13:42:34) \n",
      "[Clang 4.0.1 (tags/RELEASE_401/final)]\n"
     ]
    }
   ],
   "source": [
    "import sys\n",
    "print(sys.version)\n"
   ]
  },
  {
   "cell_type": "code",
   "execution_count": 1,
   "metadata": {},
   "outputs": [
    {
     "name": "stdout",
     "output_type": "stream",
     "text": [
      "['key:a', 'key:b']\n",
      "['key:a, value:0', 'key:b, value:1']\n"
     ]
    }
   ],
   "source": [
    "## dictionary comprehension looping\n",
    "\n",
    "d = {'a': 0, 'b': 1}\n",
    "lst1 = [f'key:{k}' for k in d]\n",
    "lst2 = [f'key:{k}, value:{v}' for k,v in d.items()]\n",
    "\n",
    "print(lst1)\n",
    "print(lst2)"
   ]
  },
  {
   "cell_type": "code",
   "execution_count": 1,
   "metadata": {},
   "outputs": [
    {
     "name": "stdout",
     "output_type": "stream",
     "text": [
      "{'a': 0, 'b': 1, 'c': 2, 'd': 3, 'e': 4, 'f': 5, 'g': 6}\n"
     ]
    }
   ],
   "source": [
    "## merging two dictionaries\n",
    "\n",
    "d1 = {'a':0,'b':1}\n",
    "d2 = {'c':2,'d':3}\n",
    "d3 = {'e':4, 'f':5, 'g':6}\n",
    "d = {**d1, **d2, **d3}\n",
    "\n",
    "print(d)"
   ]
  },
  {
   "cell_type": "code",
   "execution_count": 17,
   "metadata": {},
   "outputs": [
    {
     "name": "stdout",
     "output_type": "stream",
     "text": [
      "OrderedDict([('first', 1)])\n",
      "OrderedDict([('first', 2)])\n",
      "3\n",
      "OrderedDict([(0, 0), (1, 1), (2, 2)])\n",
      "inf\n"
     ]
    }
   ],
   "source": [
    "\n",
    "from collections import OrderedDict\n",
    "\n",
    "od = OrderedDict([\n",
    "    ('first',1)\n",
    "])\n",
    "\n",
    "print(od)\n",
    "od['first'] = 2\n",
    "print(od)\n",
    "\n",
    "lst = sum( [i for i in range(3)] )\n",
    "print(lst)\n",
    "od3 = OrderedDict( [ (i,i) for i in range(3)] )\n",
    "print(od3)\n",
    "print(3+float('Inf'))"
   ]
  },
  {
   "cell_type": "code",
   "execution_count": 26,
   "metadata": {},
   "outputs": [
    {
     "name": "stdout",
     "output_type": "stream",
     "text": [
      "True\n",
      "\n"
     ]
    },
    {
     "ename": "AttributeError",
     "evalue": "_str",
     "output_type": "error",
     "traceback": [
      "\u001b[0;31m---------------------------------------------------------------------------\u001b[0m",
      "\u001b[0;31mAttributeError\u001b[0m                            Traceback (most recent call last)",
      "\u001b[0;32m<ipython-input-26-cca7652b8638>\u001b[0m in \u001b[0;36m<module>\u001b[0;34m\u001b[0m\n\u001b[1;32m     25\u001b[0m \u001b[0mprint\u001b[0m\u001b[0;34m(\u001b[0m\u001b[0;34m)\u001b[0m\u001b[0;34m\u001b[0m\u001b[0;34m\u001b[0m\u001b[0m\n\u001b[1;32m     26\u001b[0m \u001b[0;34m\u001b[0m\u001b[0m\n\u001b[0;32m---> 27\u001b[0;31m \u001b[0mlog_dir\u001b[0m \u001b[0;34m=\u001b[0m \u001b[0mmake_dirpath_current_datetime_hostname\u001b[0m\u001b[0;34m(\u001b[0m\u001b[0;34m)\u001b[0m\u001b[0;34m\u001b[0m\u001b[0;34m\u001b[0m\u001b[0m\n\u001b[0m\u001b[1;32m     28\u001b[0m \u001b[0mprint\u001b[0m\u001b[0;34m(\u001b[0m\u001b[0mlog_dir\u001b[0m\u001b[0;34m)\u001b[0m\u001b[0;34m\u001b[0m\u001b[0;34m\u001b[0m\u001b[0m\n\u001b[1;32m     29\u001b[0m \u001b[0mlog_dir\u001b[0m \u001b[0;34m=\u001b[0m \u001b[0mmake_dirpath_current_datetime_hostname\u001b[0m\u001b[0;34m(\u001b[0m\u001b[0;34m'~'\u001b[0m\u001b[0;34m)\u001b[0m\u001b[0;34m\u001b[0m\u001b[0;34m\u001b[0m\u001b[0m\n",
      "\u001b[0;32m<ipython-input-26-cca7652b8638>\u001b[0m in \u001b[0;36mmake_dirpath_current_datetime_hostname\u001b[0;34m(path, comment, replace_dots)\u001b[0m\n\u001b[1;32m     15\u001b[0m     \u001b[0mlog_dir\u001b[0m \u001b[0;34m=\u001b[0m \u001b[0mos\u001b[0m\u001b[0;34m.\u001b[0m\u001b[0mpath\u001b[0m\u001b[0;34m.\u001b[0m\u001b[0mjoin\u001b[0m\u001b[0;34m(\u001b[0m\u001b[0;34m'runs'\u001b[0m\u001b[0;34m,\u001b[0m \u001b[0mcurrent_time\u001b[0m \u001b[0;34m+\u001b[0m \u001b[0;34m'_'\u001b[0m \u001b[0;34m+\u001b[0m \u001b[0msocket\u001b[0m\u001b[0;34m.\u001b[0m\u001b[0mgethostname\u001b[0m\u001b[0;34m(\u001b[0m\u001b[0;34m)\u001b[0m \u001b[0;34m+\u001b[0m \u001b[0mcomment\u001b[0m\u001b[0;34m)\u001b[0m\u001b[0;34m\u001b[0m\u001b[0;34m\u001b[0m\u001b[0m\n\u001b[1;32m     16\u001b[0m     \u001b[0mlog_dir\u001b[0m \u001b[0;34m=\u001b[0m \u001b[0mPath\u001b[0m\u001b[0;34m(\u001b[0m\u001b[0mlog_dir\u001b[0m\u001b[0;34m)\u001b[0m\u001b[0;34m\u001b[0m\u001b[0;34m\u001b[0m\u001b[0m\n\u001b[0;32m---> 17\u001b[0;31m     \u001b[0mprint\u001b[0m\u001b[0;34m(\u001b[0m\u001b[0mlog_dir\u001b[0m\u001b[0;34m.\u001b[0m\u001b[0m_str\u001b[0m\u001b[0;34m)\u001b[0m\u001b[0;34m\u001b[0m\u001b[0;34m\u001b[0m\u001b[0m\n\u001b[0m\u001b[1;32m     18\u001b[0m     \u001b[0;32mif\u001b[0m \u001b[0mreplace_dots\u001b[0m\u001b[0;34m:\u001b[0m\u001b[0;34m\u001b[0m\u001b[0;34m\u001b[0m\u001b[0m\n\u001b[1;32m     19\u001b[0m         \u001b[0mlog_dir\u001b[0m \u001b[0;34m=\u001b[0m \u001b[0mPath\u001b[0m\u001b[0;34m(\u001b[0m\u001b[0mlog_dir\u001b[0m\u001b[0;34m.\u001b[0m\u001b[0m_str\u001b[0m\u001b[0;34m.\u001b[0m\u001b[0mreplace\u001b[0m\u001b[0;34m(\u001b[0m\u001b[0;34m'.'\u001b[0m\u001b[0;34m,\u001b[0m\u001b[0;34m'_'\u001b[0m\u001b[0;34m)\u001b[0m\u001b[0;34m)\u001b[0m\u001b[0;34m\u001b[0m\u001b[0;34m\u001b[0m\u001b[0m\n",
      "\u001b[0;31mAttributeError\u001b[0m: _str"
     ]
    }
   ],
   "source": [
    "import pathlib\n",
    "from pathlib import Path\n",
    "\n",
    "def make_dirpath_current_datetime_hostname(path=None, comment='', replace_dots=True):\n",
    "    '''\n",
    "    make dir string: runs/CURRENT_DATETIME_HOSTNAME\n",
    "    '''\n",
    "    import socket\n",
    "    import os\n",
    "    from datetime import datetime\n",
    "    # check if root is a PosixPath object\n",
    "    if type(path) != pathlib.PosixPath and path is not None:\n",
    "        path = Path(path)\n",
    "    current_time = datetime.now().strftime('%b%d_%H-%M-%S')\n",
    "    log_dir = os.path.join('runs', current_time + '_' + socket.gethostname() + comment)\n",
    "    log_dir = Path(log_dir)\n",
    "    print(log_dir._str)\n",
    "    if replace_dots:\n",
    "        log_dir = Path(log_dir._str.replace('.','_'))\n",
    "    if path is not None:\n",
    "        log_dir = path / log_dir\n",
    "    return log_dir\n",
    "\n",
    "print(type(Path('~')) == pathlib.PosixPath)\n",
    "print()\n",
    "\n",
    "log_dir = make_dirpath_current_datetime_hostname()\n",
    "print(log_dir)\n",
    "log_dir = make_dirpath_current_datetime_hostname('~')\n",
    "print(log_dir)\n",
    "log_dir = make_dirpath_current_datetime_hostname('~','_jupyter')\n",
    "print(log_dir)\n",
    "log_dir = make_dirpath_current_datetime_hostname('~').expanduser()\n",
    "print(log_dir)\n",
    "\n",
    "string = \"geeks for geeks geeks geeks geeks\" \n",
    "# Prints the string by replacing geeks by Geeks  \n",
    "print( string.replace(\"geeks\", \"Geeks\") )\n",
    "\n",
    "log_dir = make_dirpath_current_datetime_hostname('~','_jupyter',True)\n",
    "print(log_dir)"
   ]
  },
  {
   "cell_type": "code",
   "execution_count": 2,
   "metadata": {},
   "outputs": [
    {
     "name": "stdout",
     "output_type": "stream",
     "text": [
      "{'a': 3}\n"
     ]
    }
   ],
   "source": [
    "# adding keys to empty dic\n",
    "\n",
    "d = {}\n",
    "d['a'] = 3\n",
    "print(d)"
   ]
  },
  {
   "cell_type": "code",
   "execution_count": 2,
   "metadata": {},
   "outputs": [
    {
     "name": "stdout",
     "output_type": "stream",
     "text": [
      "1\n"
     ]
    }
   ],
   "source": [
    "# unpack list?\n",
    "\n",
    "(a,b,c) = [1,2,3]\n",
    "print(a)"
   ]
  },
  {
   "cell_type": "code",
   "execution_count": 7,
   "metadata": {},
   "outputs": [
    {
     "name": "stdout",
     "output_type": "stream",
     "text": [
      "()\n",
      "{}\n",
      "(1, 2, 3)\n",
      "{'a': 1, 'b': 2, 'c': 3}\n"
     ]
    }
   ],
   "source": [
    "## kwargs\n",
    "\n",
    "def f(*args, **kwargs):\n",
    "    print(args)\n",
    "    print(kwargs)\n",
    "\n",
    "f()\n",
    "f(1,2,3,a=1,b=2,c=3)"
   ]
  },
  {
   "cell_type": "code",
   "execution_count": 1,
   "metadata": {},
   "outputs": [
    {
     "output_type": "error",
     "ename": "NameError",
     "evalue": "name 'p' is not defined",
     "traceback": [
      "\u001b[0;31m---------------------------------------------------------------------------\u001b[0m",
      "\u001b[0;31mNameError\u001b[0m                                 Traceback (most recent call last)",
      "\u001b[0;32m<ipython-input-1-96106720132d>\u001b[0m in \u001b[0;36m<module>\u001b[0;34m\u001b[0m\n\u001b[1;32m      4\u001b[0m \u001b[0;34m\u001b[0m\u001b[0m\n\u001b[1;32m      5\u001b[0m \u001b[0;31m# p = Path('~/automl-meta-learning/automl/experiments/pw_app.config.json').expanduser()\u001b[0m\u001b[0;34m\u001b[0m\u001b[0;34m\u001b[0m\u001b[0;34m\u001b[0m\u001b[0m\n\u001b[0;32m----> 6\u001b[0;31m \u001b[0;32mwith\u001b[0m \u001b[0mopen\u001b[0m\u001b[0;34m(\u001b[0m\u001b[0mp\u001b[0m\u001b[0;34m)\u001b[0m \u001b[0;32mas\u001b[0m \u001b[0mf\u001b[0m\u001b[0;34m:\u001b[0m\u001b[0;34m\u001b[0m\u001b[0;34m\u001b[0m\u001b[0m\n\u001b[0m\u001b[1;32m      7\u001b[0m   \u001b[0mdata\u001b[0m \u001b[0;34m=\u001b[0m \u001b[0mjson\u001b[0m\u001b[0;34m.\u001b[0m\u001b[0mload\u001b[0m\u001b[0;34m(\u001b[0m\u001b[0mf\u001b[0m\u001b[0;34m)\u001b[0m\u001b[0;34m\u001b[0m\u001b[0;34m\u001b[0m\u001b[0m\n\u001b[1;32m      8\u001b[0m   \u001b[0mprint\u001b[0m\u001b[0;34m(\u001b[0m\u001b[0mdata\u001b[0m\u001b[0;34m)\u001b[0m\u001b[0;34m\u001b[0m\u001b[0;34m\u001b[0m\u001b[0m\n",
      "\u001b[0;31mNameError\u001b[0m: name 'p' is not defined"
     ]
    }
   ],
   "source": [
    "\n",
    "import json\n",
    "\n",
    "from pathlib import Path\n",
    "\n",
    "p = Path('~/')\n",
    "with open(p) as f:\n",
    "  data = json.load(f)\n",
    "  print(data)\n",
    "  print(data['password'])"
   ]
  },
  {
   "cell_type": "code",
   "execution_count": 5,
   "metadata": {},
   "outputs": [
    {
     "output_type": "stream",
     "name": "stdout",
     "text": "b'ls: /etc/fstab: No such file or directory\\nls: /etc/non-existent-file: No such file or directory\\n'\n"
    }
   ],
   "source": [
    "import subprocess\n",
    "\n",
    "from subprocess import Popen, PIPE, STDOUT\n",
    "\n",
    "cmd = 'ls /etc/fstab /etc/non-existent-file'\n",
    "p = Popen(cmd, shell=True, stdin=PIPE, stdout=PIPE, stderr=STDOUT, close_fds=True)\n",
    "output = p.stdout.read()\n",
    "print(output)"
   ]
  },
  {
   "cell_type": "code",
   "execution_count": 6,
   "metadata": {},
   "outputs": [
    {
     "output_type": "stream",
     "name": "stdout",
     "text": "a\n<ipykernel.iostream.OutStream object at 0x109c0d090>\n"
    }
   ],
   "source": [
    "import sys\n",
    "\n",
    "print('a')\n",
    "\n",
    "print(sys.stdout)"
   ]
  },
  {
   "cell_type": "code",
   "execution_count": 12,
   "metadata": {},
   "outputs": [
    {
     "output_type": "stream",
     "name": "stdout",
     "text": "-------> HELLOWWWWWWWW\n"
    }
   ],
   "source": [
    "from pathlib import Path\n",
    "\n",
    "def send_email(subject, message, destination, password_path=None):\n",
    "    \"\"\" Send an e-mail from with message to destination email.\n",
    "\n",
    "    NOTE: if you get an error with google gmails you might need to do this: \n",
    "    https://stackoverflow.com/questions/16512592/login-credentials-not-working-with-gmail-smtp\n",
    "    To use an app password:\n",
    "    https://stackoverflow.com/questions/60975490/how-does-one-send-an-e-mail-from-python-not-using-gmail\n",
    "\n",
    "    Arguments:\n",
    "        message {str} -- message string to send.\n",
    "        destination {str} -- destination email (as string)\n",
    "    \"\"\"\n",
    "    from socket import gethostname\n",
    "    from email.message import EmailMessage\n",
    "    import smtplib\n",
    "    import json\n",
    "    import sys\n",
    "\n",
    "    server = smtplib.SMTP('smtp.gmail.com', 587)\n",
    "    smtplib.stdout = sys.stdout\n",
    "    server.starttls()\n",
    "    with open(password_path) as f:\n",
    "        config = json.load(f)\n",
    "        server.login('slurm.miranda@gmail.com', config['password'])\n",
    "\n",
    "        # craft message\n",
    "        msg = EmailMessage()\n",
    "\n",
    "        #message = f'{message}\\nSend from Hostname: {gethostname()}'\n",
    "        #msg.set_content(message)\n",
    "        msg['Subject'] = subject\n",
    "        msg['From'] = 'slurm.miranda@gmail.com'\n",
    "        msg['To'] = destination\n",
    "        # send msg\n",
    "        server.send_message(msg)\n",
    "\n",
    "##\n",
    "print(\"-------> HELLOWWWWWWWW\")\n",
    "p = Path('~/automl-meta-learning/automl/experiments/pw_app.config.json').expanduser()\n",
    "send_email(subject='TEST: send_email2', message='MESSAGE', destination='brando.science@gmail.com', password_path=p)"
   ]
  },
  {
   "cell_type": "code",
   "execution_count": 2,
   "metadata": {},
   "outputs": [
    {
     "output_type": "display_data",
     "data": {
      "text/plain": "<Figure size 432x288 with 1 Axes>",
      "image/svg+xml": "<?xml version=\"1.0\" encoding=\"utf-8\" standalone=\"no\"?>\n<!DOCTYPE svg PUBLIC \"-//W3C//DTD SVG 1.1//EN\"\n  \"http://www.w3.org/Graphics/SVG/1.1/DTD/svg11.dtd\">\n<!-- Created with matplotlib (https://matplotlib.org/) -->\n<svg height=\"263.63625pt\" version=\"1.1\" viewBox=\"0 0 372.103125 263.63625\" width=\"372.103125pt\" xmlns=\"http://www.w3.org/2000/svg\" xmlns:xlink=\"http://www.w3.org/1999/xlink\">\n <defs>\n  <style type=\"text/css\">\n*{stroke-linecap:butt;stroke-linejoin:round;}\n  </style>\n </defs>\n <g id=\"figure_1\">\n  <g id=\"patch_1\">\n   <path d=\"M 0 263.63625 \nL 372.103125 263.63625 \nL 372.103125 0 \nL 0 0 \nz\n\" style=\"fill:none;\"/>\n  </g>\n  <g id=\"axes_1\">\n   <g id=\"patch_2\">\n    <path d=\"M 30.103125 239.758125 \nL 364.903125 239.758125 \nL 364.903125 22.318125 \nL 30.103125 22.318125 \nz\n\" style=\"fill:#ffffff;\"/>\n   </g>\n   <g id=\"matplotlib.axis_1\">\n    <g id=\"xtick_1\">\n     <g id=\"line2d_1\">\n      <defs>\n       <path d=\"M 0 0 \nL 0 3.5 \n\" id=\"mc1f1d3559b\" style=\"stroke:#000000;stroke-width:0.8;\"/>\n      </defs>\n      <g>\n       <use style=\"stroke:#000000;stroke-width:0.8;\" x=\"30.103125\" xlink:href=\"#mc1f1d3559b\" y=\"239.758125\"/>\n      </g>\n     </g>\n     <g id=\"text_1\">\n      <!-- 0 -->\n      <defs>\n       <path d=\"M 31.78125 66.40625 \nQ 24.171875 66.40625 20.328125 58.90625 \nQ 16.5 51.421875 16.5 36.375 \nQ 16.5 21.390625 20.328125 13.890625 \nQ 24.171875 6.390625 31.78125 6.390625 \nQ 39.453125 6.390625 43.28125 13.890625 \nQ 47.125 21.390625 47.125 36.375 \nQ 47.125 51.421875 43.28125 58.90625 \nQ 39.453125 66.40625 31.78125 66.40625 \nz\nM 31.78125 74.21875 \nQ 44.046875 74.21875 50.515625 64.515625 \nQ 56.984375 54.828125 56.984375 36.375 \nQ 56.984375 17.96875 50.515625 8.265625 \nQ 44.046875 -1.421875 31.78125 -1.421875 \nQ 19.53125 -1.421875 13.0625 8.265625 \nQ 6.59375 17.96875 6.59375 36.375 \nQ 6.59375 54.828125 13.0625 64.515625 \nQ 19.53125 74.21875 31.78125 74.21875 \nz\n\" id=\"DejaVuSans-48\"/>\n      </defs>\n      <g transform=\"translate(26.921875 254.356563)scale(0.1 -0.1)\">\n       <use xlink:href=\"#DejaVuSans-48\"/>\n      </g>\n     </g>\n    </g>\n    <g id=\"xtick_2\">\n     <g id=\"line2d_2\">\n      <g>\n       <use style=\"stroke:#000000;stroke-width:0.8;\" x=\"90.975852\" xlink:href=\"#mc1f1d3559b\" y=\"239.758125\"/>\n      </g>\n     </g>\n     <g id=\"text_2\">\n      <!-- 1 -->\n      <defs>\n       <path d=\"M 12.40625 8.296875 \nL 28.515625 8.296875 \nL 28.515625 63.921875 \nL 10.984375 60.40625 \nL 10.984375 69.390625 \nL 28.421875 72.90625 \nL 38.28125 72.90625 \nL 38.28125 8.296875 \nL 54.390625 8.296875 \nL 54.390625 0 \nL 12.40625 0 \nz\n\" id=\"DejaVuSans-49\"/>\n      </defs>\n      <g transform=\"translate(87.794602 254.356563)scale(0.1 -0.1)\">\n       <use xlink:href=\"#DejaVuSans-49\"/>\n      </g>\n     </g>\n    </g>\n    <g id=\"xtick_3\">\n     <g id=\"line2d_3\">\n      <g>\n       <use style=\"stroke:#000000;stroke-width:0.8;\" x=\"151.84858\" xlink:href=\"#mc1f1d3559b\" y=\"239.758125\"/>\n      </g>\n     </g>\n     <g id=\"text_3\">\n      <!-- 2 -->\n      <defs>\n       <path d=\"M 19.1875 8.296875 \nL 53.609375 8.296875 \nL 53.609375 0 \nL 7.328125 0 \nL 7.328125 8.296875 \nQ 12.9375 14.109375 22.625 23.890625 \nQ 32.328125 33.6875 34.8125 36.53125 \nQ 39.546875 41.84375 41.421875 45.53125 \nQ 43.3125 49.21875 43.3125 52.78125 \nQ 43.3125 58.59375 39.234375 62.25 \nQ 35.15625 65.921875 28.609375 65.921875 \nQ 23.96875 65.921875 18.8125 64.3125 \nQ 13.671875 62.703125 7.8125 59.421875 \nL 7.8125 69.390625 \nQ 13.765625 71.78125 18.9375 73 \nQ 24.125 74.21875 28.421875 74.21875 \nQ 39.75 74.21875 46.484375 68.546875 \nQ 53.21875 62.890625 53.21875 53.421875 \nQ 53.21875 48.921875 51.53125 44.890625 \nQ 49.859375 40.875 45.40625 35.40625 \nQ 44.1875 33.984375 37.640625 27.21875 \nQ 31.109375 20.453125 19.1875 8.296875 \nz\n\" id=\"DejaVuSans-50\"/>\n      </defs>\n      <g transform=\"translate(148.66733 254.356563)scale(0.1 -0.1)\">\n       <use xlink:href=\"#DejaVuSans-50\"/>\n      </g>\n     </g>\n    </g>\n    <g id=\"xtick_4\">\n     <g id=\"line2d_4\">\n      <g>\n       <use style=\"stroke:#000000;stroke-width:0.8;\" x=\"212.721307\" xlink:href=\"#mc1f1d3559b\" y=\"239.758125\"/>\n      </g>\n     </g>\n     <g id=\"text_4\">\n      <!-- 3 -->\n      <defs>\n       <path d=\"M 40.578125 39.3125 \nQ 47.65625 37.796875 51.625 33 \nQ 55.609375 28.21875 55.609375 21.1875 \nQ 55.609375 10.40625 48.1875 4.484375 \nQ 40.765625 -1.421875 27.09375 -1.421875 \nQ 22.515625 -1.421875 17.65625 -0.515625 \nQ 12.796875 0.390625 7.625 2.203125 \nL 7.625 11.71875 \nQ 11.71875 9.328125 16.59375 8.109375 \nQ 21.484375 6.890625 26.8125 6.890625 \nQ 36.078125 6.890625 40.9375 10.546875 \nQ 45.796875 14.203125 45.796875 21.1875 \nQ 45.796875 27.640625 41.28125 31.265625 \nQ 36.765625 34.90625 28.71875 34.90625 \nL 20.21875 34.90625 \nL 20.21875 43.015625 \nL 29.109375 43.015625 \nQ 36.375 43.015625 40.234375 45.921875 \nQ 44.09375 48.828125 44.09375 54.296875 \nQ 44.09375 59.90625 40.109375 62.90625 \nQ 36.140625 65.921875 28.71875 65.921875 \nQ 24.65625 65.921875 20.015625 65.03125 \nQ 15.375 64.15625 9.8125 62.3125 \nL 9.8125 71.09375 \nQ 15.4375 72.65625 20.34375 73.4375 \nQ 25.25 74.21875 29.59375 74.21875 \nQ 40.828125 74.21875 47.359375 69.109375 \nQ 53.90625 64.015625 53.90625 55.328125 \nQ 53.90625 49.265625 50.4375 45.09375 \nQ 46.96875 40.921875 40.578125 39.3125 \nz\n\" id=\"DejaVuSans-51\"/>\n      </defs>\n      <g transform=\"translate(209.540057 254.356563)scale(0.1 -0.1)\">\n       <use xlink:href=\"#DejaVuSans-51\"/>\n      </g>\n     </g>\n    </g>\n    <g id=\"xtick_5\">\n     <g id=\"line2d_5\">\n      <g>\n       <use style=\"stroke:#000000;stroke-width:0.8;\" x=\"273.594034\" xlink:href=\"#mc1f1d3559b\" y=\"239.758125\"/>\n      </g>\n     </g>\n     <g id=\"text_5\">\n      <!-- 4 -->\n      <defs>\n       <path d=\"M 37.796875 64.3125 \nL 12.890625 25.390625 \nL 37.796875 25.390625 \nz\nM 35.203125 72.90625 \nL 47.609375 72.90625 \nL 47.609375 25.390625 \nL 58.015625 25.390625 \nL 58.015625 17.1875 \nL 47.609375 17.1875 \nL 47.609375 0 \nL 37.796875 0 \nL 37.796875 17.1875 \nL 4.890625 17.1875 \nL 4.890625 26.703125 \nz\n\" id=\"DejaVuSans-52\"/>\n      </defs>\n      <g transform=\"translate(270.412784 254.356563)scale(0.1 -0.1)\">\n       <use xlink:href=\"#DejaVuSans-52\"/>\n      </g>\n     </g>\n    </g>\n    <g id=\"xtick_6\">\n     <g id=\"line2d_6\">\n      <g>\n       <use style=\"stroke:#000000;stroke-width:0.8;\" x=\"334.466761\" xlink:href=\"#mc1f1d3559b\" y=\"239.758125\"/>\n      </g>\n     </g>\n     <g id=\"text_6\">\n      <!-- 5 -->\n      <defs>\n       <path d=\"M 10.796875 72.90625 \nL 49.515625 72.90625 \nL 49.515625 64.59375 \nL 19.828125 64.59375 \nL 19.828125 46.734375 \nQ 21.96875 47.46875 24.109375 47.828125 \nQ 26.265625 48.1875 28.421875 48.1875 \nQ 40.625 48.1875 47.75 41.5 \nQ 54.890625 34.8125 54.890625 23.390625 \nQ 54.890625 11.625 47.5625 5.09375 \nQ 40.234375 -1.421875 26.90625 -1.421875 \nQ 22.3125 -1.421875 17.546875 -0.640625 \nQ 12.796875 0.140625 7.71875 1.703125 \nL 7.71875 11.625 \nQ 12.109375 9.234375 16.796875 8.0625 \nQ 21.484375 6.890625 26.703125 6.890625 \nQ 35.15625 6.890625 40.078125 11.328125 \nQ 45.015625 15.765625 45.015625 23.390625 \nQ 45.015625 31 40.078125 35.4375 \nQ 35.15625 39.890625 26.703125 39.890625 \nQ 22.75 39.890625 18.8125 39.015625 \nQ 14.890625 38.140625 10.796875 36.28125 \nz\n\" id=\"DejaVuSans-53\"/>\n      </defs>\n      <g transform=\"translate(331.285511 254.356563)scale(0.1 -0.1)\">\n       <use xlink:href=\"#DejaVuSans-53\"/>\n      </g>\n     </g>\n    </g>\n   </g>\n   <g id=\"matplotlib.axis_2\">\n    <g id=\"ytick_1\">\n     <g id=\"line2d_7\">\n      <defs>\n       <path d=\"M 0 0 \nL -3.5 0 \n\" id=\"m825187dec2\" style=\"stroke:#000000;stroke-width:0.8;\"/>\n      </defs>\n      <g>\n       <use style=\"stroke:#000000;stroke-width:0.8;\" x=\"30.103125\" xlink:href=\"#m825187dec2\" y=\"217.550233\"/>\n      </g>\n     </g>\n     <g id=\"text_7\">\n      <!-- 0.0 -->\n      <defs>\n       <path d=\"M 10.6875 12.40625 \nL 21 12.40625 \nL 21 0 \nL 10.6875 0 \nz\n\" id=\"DejaVuSans-46\"/>\n      </defs>\n      <g transform=\"translate(7.2 221.349452)scale(0.1 -0.1)\">\n       <use xlink:href=\"#DejaVuSans-48\"/>\n       <use x=\"63.623047\" xlink:href=\"#DejaVuSans-46\"/>\n       <use x=\"95.410156\" xlink:href=\"#DejaVuSans-48\"/>\n      </g>\n     </g>\n    </g>\n    <g id=\"ytick_2\">\n     <g id=\"line2d_8\">\n      <g>\n       <use style=\"stroke:#000000;stroke-width:0.8;\" x=\"30.103125\" xlink:href=\"#m825187dec2\" y=\"185.665403\"/>\n      </g>\n     </g>\n     <g id=\"text_8\">\n      <!-- 0.5 -->\n      <g transform=\"translate(7.2 189.464622)scale(0.1 -0.1)\">\n       <use xlink:href=\"#DejaVuSans-48\"/>\n       <use x=\"63.623047\" xlink:href=\"#DejaVuSans-46\"/>\n       <use x=\"95.410156\" xlink:href=\"#DejaVuSans-53\"/>\n      </g>\n     </g>\n    </g>\n    <g id=\"ytick_3\">\n     <g id=\"line2d_9\">\n      <g>\n       <use style=\"stroke:#000000;stroke-width:0.8;\" x=\"30.103125\" xlink:href=\"#m825187dec2\" y=\"153.780573\"/>\n      </g>\n     </g>\n     <g id=\"text_9\">\n      <!-- 1.0 -->\n      <g transform=\"translate(7.2 157.579792)scale(0.1 -0.1)\">\n       <use xlink:href=\"#DejaVuSans-49\"/>\n       <use x=\"63.623047\" xlink:href=\"#DejaVuSans-46\"/>\n       <use x=\"95.410156\" xlink:href=\"#DejaVuSans-48\"/>\n      </g>\n     </g>\n    </g>\n    <g id=\"ytick_4\">\n     <g id=\"line2d_10\">\n      <g>\n       <use style=\"stroke:#000000;stroke-width:0.8;\" x=\"30.103125\" xlink:href=\"#m825187dec2\" y=\"121.895743\"/>\n      </g>\n     </g>\n     <g id=\"text_10\">\n      <!-- 1.5 -->\n      <g transform=\"translate(7.2 125.694962)scale(0.1 -0.1)\">\n       <use xlink:href=\"#DejaVuSans-49\"/>\n       <use x=\"63.623047\" xlink:href=\"#DejaVuSans-46\"/>\n       <use x=\"95.410156\" xlink:href=\"#DejaVuSans-53\"/>\n      </g>\n     </g>\n    </g>\n    <g id=\"ytick_5\">\n     <g id=\"line2d_11\">\n      <g>\n       <use style=\"stroke:#000000;stroke-width:0.8;\" x=\"30.103125\" xlink:href=\"#m825187dec2\" y=\"90.010913\"/>\n      </g>\n     </g>\n     <g id=\"text_11\">\n      <!-- 2.0 -->\n      <g transform=\"translate(7.2 93.810132)scale(0.1 -0.1)\">\n       <use xlink:href=\"#DejaVuSans-50\"/>\n       <use x=\"63.623047\" xlink:href=\"#DejaVuSans-46\"/>\n       <use x=\"95.410156\" xlink:href=\"#DejaVuSans-48\"/>\n      </g>\n     </g>\n    </g>\n    <g id=\"ytick_6\">\n     <g id=\"line2d_12\">\n      <g>\n       <use style=\"stroke:#000000;stroke-width:0.8;\" x=\"30.103125\" xlink:href=\"#m825187dec2\" y=\"58.126083\"/>\n      </g>\n     </g>\n     <g id=\"text_12\">\n      <!-- 2.5 -->\n      <g transform=\"translate(7.2 61.925302)scale(0.1 -0.1)\">\n       <use xlink:href=\"#DejaVuSans-50\"/>\n       <use x=\"63.623047\" xlink:href=\"#DejaVuSans-46\"/>\n       <use x=\"95.410156\" xlink:href=\"#DejaVuSans-53\"/>\n      </g>\n     </g>\n    </g>\n    <g id=\"ytick_7\">\n     <g id=\"line2d_13\">\n      <g>\n       <use style=\"stroke:#000000;stroke-width:0.8;\" x=\"30.103125\" xlink:href=\"#m825187dec2\" y=\"26.241253\"/>\n      </g>\n     </g>\n     <g id=\"text_13\">\n      <!-- 3.0 -->\n      <g transform=\"translate(7.2 30.040472)scale(0.1 -0.1)\">\n       <use xlink:href=\"#DejaVuSans-51\"/>\n       <use x=\"63.623047\" xlink:href=\"#DejaVuSans-46\"/>\n       <use x=\"95.410156\" xlink:href=\"#DejaVuSans-48\"/>\n      </g>\n     </g>\n    </g>\n   </g>\n   <g id=\"LineCollection_1\">\n    <path clip-path=\"url(#p737ecaf579)\" d=\"M 54.452216 178.871979 \nL 66.626761 178.871979 \n\" style=\"fill:none;stroke:#0000ff;stroke-width:1.5;\"/>\n    <path clip-path=\"url(#p737ecaf579)\" d=\"M 84.88858 194.090686 \nL 97.063125 194.090686 \n\" style=\"fill:none;stroke:#0000ff;stroke-width:1.5;\"/>\n    <path clip-path=\"url(#p737ecaf579)\" d=\"M 115.324943 203.321299 \nL 127.499489 203.321299 \n\" style=\"fill:none;stroke:#0000ff;stroke-width:1.5;\"/>\n    <path clip-path=\"url(#p737ecaf579)\" d=\"M 145.761307 208.919948 \nL 157.935852 208.919948 \n\" style=\"fill:none;stroke:#0000ff;stroke-width:1.5;\"/>\n    <path clip-path=\"url(#p737ecaf579)\" d=\"M 176.19767 212.315701 \nL 188.372216 212.315701 \n\" style=\"fill:none;stroke:#0000ff;stroke-width:1.5;\"/>\n    <path clip-path=\"url(#p737ecaf579)\" d=\"M 206.634034 214.375329 \nL 218.80858 214.375329 \n\" style=\"fill:none;stroke:#0000ff;stroke-width:1.5;\"/>\n    <path clip-path=\"url(#p737ecaf579)\" d=\"M 237.070398 215.624556 \nL 249.244943 215.624556 \n\" style=\"fill:none;stroke:#0000ff;stroke-width:1.5;\"/>\n    <path clip-path=\"url(#p737ecaf579)\" d=\"M 267.506761 216.382251 \nL 279.681307 216.382251 \n\" style=\"fill:none;stroke:#0000ff;stroke-width:1.5;\"/>\n    <path clip-path=\"url(#p737ecaf579)\" d=\"M 297.943125 216.841816 \nL 310.11767 216.841816 \n\" style=\"fill:none;stroke:#0000ff;stroke-width:1.5;\"/>\n    <path clip-path=\"url(#p737ecaf579)\" d=\"M 328.379489 217.120557 \nL 340.554034 217.120557 \n\" style=\"fill:none;stroke:#0000ff;stroke-width:1.5;\"/>\n   </g>\n   <g id=\"LineCollection_2\">\n    <path clip-path=\"url(#p737ecaf579)\" d=\"M 60.539489 191.625911 \nL 60.539489 166.118047 \n\" style=\"fill:none;stroke:#0000ff;stroke-width:1.5;\"/>\n    <path clip-path=\"url(#p737ecaf579)\" d=\"M 90.975852 206.844618 \nL 90.975852 181.336754 \n\" style=\"fill:none;stroke:#0000ff;stroke-width:1.5;\"/>\n    <path clip-path=\"url(#p737ecaf579)\" d=\"M 121.412216 216.075231 \nL 121.412216 190.567367 \n\" style=\"fill:none;stroke:#0000ff;stroke-width:1.5;\"/>\n    <path clip-path=\"url(#p737ecaf579)\" d=\"M 151.84858 221.67388 \nL 151.84858 196.166016 \n\" style=\"fill:none;stroke:#0000ff;stroke-width:1.5;\"/>\n    <path clip-path=\"url(#p737ecaf579)\" d=\"M 182.284943 225.069633 \nL 182.284943 199.561769 \n\" style=\"fill:none;stroke:#0000ff;stroke-width:1.5;\"/>\n    <path clip-path=\"url(#p737ecaf579)\" d=\"M 212.721307 227.129261 \nL 212.721307 201.621397 \n\" style=\"fill:none;stroke:#0000ff;stroke-width:1.5;\"/>\n    <path clip-path=\"url(#p737ecaf579)\" d=\"M 243.15767 228.378488 \nL 243.15767 202.870624 \n\" style=\"fill:none;stroke:#0000ff;stroke-width:1.5;\"/>\n    <path clip-path=\"url(#p737ecaf579)\" d=\"M 273.594034 229.136183 \nL 273.594034 203.628319 \n\" style=\"fill:none;stroke:#0000ff;stroke-width:1.5;\"/>\n    <path clip-path=\"url(#p737ecaf579)\" d=\"M 304.030398 229.595748 \nL 304.030398 204.087884 \n\" style=\"fill:none;stroke:#0000ff;stroke-width:1.5;\"/>\n    <path clip-path=\"url(#p737ecaf579)\" d=\"M 334.466761 229.874489 \nL 334.466761 204.366625 \n\" style=\"fill:none;stroke:#0000ff;stroke-width:1.5;\"/>\n   </g>\n   <g id=\"LineCollection_3\">\n    <path clip-path=\"url(#p737ecaf579)\" d=\"M 54.452216 146.987149 \nL 66.626761 146.987149 \n\" style=\"fill:none;stroke:#008000;stroke-width:1.5;\"/>\n    <path clip-path=\"url(#p737ecaf579)\" d=\"M 84.88858 162.205856 \nL 97.063125 162.205856 \n\" style=\"fill:none;stroke:#008000;stroke-width:1.5;\"/>\n    <path clip-path=\"url(#p737ecaf579)\" d=\"M 115.324943 171.436469 \nL 127.499489 171.436469 \n\" style=\"fill:none;stroke:#008000;stroke-width:1.5;\"/>\n    <path clip-path=\"url(#p737ecaf579)\" d=\"M 145.761307 177.035118 \nL 157.935852 177.035118 \n\" style=\"fill:none;stroke:#008000;stroke-width:1.5;\"/>\n    <path clip-path=\"url(#p737ecaf579)\" d=\"M 176.19767 180.430871 \nL 188.372216 180.430871 \n\" style=\"fill:none;stroke:#008000;stroke-width:1.5;\"/>\n    <path clip-path=\"url(#p737ecaf579)\" d=\"M 206.634034 182.490499 \nL 218.80858 182.490499 \n\" style=\"fill:none;stroke:#008000;stroke-width:1.5;\"/>\n    <path clip-path=\"url(#p737ecaf579)\" d=\"M 237.070398 183.739726 \nL 249.244943 183.739726 \n\" style=\"fill:none;stroke:#008000;stroke-width:1.5;\"/>\n    <path clip-path=\"url(#p737ecaf579)\" d=\"M 267.506761 184.497421 \nL 279.681307 184.497421 \n\" style=\"fill:none;stroke:#008000;stroke-width:1.5;\"/>\n    <path clip-path=\"url(#p737ecaf579)\" d=\"M 297.943125 184.956986 \nL 310.11767 184.956986 \n\" style=\"fill:none;stroke:#008000;stroke-width:1.5;\"/>\n    <path clip-path=\"url(#p737ecaf579)\" d=\"M 328.379489 185.235727 \nL 340.554034 185.235727 \n\" style=\"fill:none;stroke:#008000;stroke-width:1.5;\"/>\n   </g>\n   <g id=\"LineCollection_4\">\n    <path clip-path=\"url(#p737ecaf579)\" d=\"M 60.539489 159.741081 \nL 60.539489 134.233217 \n\" style=\"fill:none;stroke:#008000;stroke-width:1.5;\"/>\n    <path clip-path=\"url(#p737ecaf579)\" d=\"M 121.412216 184.190401 \nL 121.412216 158.682537 \n\" style=\"fill:none;stroke:#008000;stroke-width:1.5;\"/>\n    <path clip-path=\"url(#p737ecaf579)\" d=\"M 151.84858 189.78905 \nL 151.84858 164.281186 \n\" style=\"fill:none;stroke:#008000;stroke-width:1.5;\"/>\n    <path clip-path=\"url(#p737ecaf579)\" d=\"M 182.284943 193.184803 \nL 182.284943 167.676939 \n\" style=\"fill:none;stroke:#008000;stroke-width:1.5;\"/>\n    <path clip-path=\"url(#p737ecaf579)\" d=\"M 243.15767 196.493658 \nL 243.15767 170.985794 \n\" style=\"fill:none;stroke:#008000;stroke-width:1.5;\"/>\n    <path clip-path=\"url(#p737ecaf579)\" d=\"M 273.594034 197.251353 \nL 273.594034 171.743489 \n\" style=\"fill:none;stroke:#008000;stroke-width:1.5;\"/>\n    <path clip-path=\"url(#p737ecaf579)\" d=\"M 304.030398 197.710918 \nL 304.030398 172.203054 \n\" style=\"fill:none;stroke:#008000;stroke-width:1.5;\"/>\n   </g>\n   <g id=\"LineCollection_5\">\n    <path clip-path=\"url(#p737ecaf579)\" d=\"M 90.975852 174.959788 \nL 90.975852 162.205856 \n\" style=\"fill:none;stroke:#008000;stroke-width:1.5;\"/>\n    <path clip-path=\"url(#p737ecaf579)\" d=\"M 212.721307 195.244431 \nL 212.721307 182.490499 \n\" style=\"fill:none;stroke:#008000;stroke-width:1.5;\"/>\n    <path clip-path=\"url(#p737ecaf579)\" d=\"M 334.466761 197.989659 \nL 334.466761 185.235727 \n\" style=\"fill:none;stroke:#008000;stroke-width:1.5;\"/>\n   </g>\n   <g id=\"LineCollection_6\">\n    <path clip-path=\"url(#p737ecaf579)\" d=\"M 54.452216 115.102319 \nL 66.626761 115.102319 \n\" style=\"fill:none;stroke:#ff0000;stroke-width:1.5;\"/>\n    <path clip-path=\"url(#p737ecaf579)\" d=\"M 84.88858 130.321026 \nL 97.063125 130.321026 \n\" style=\"fill:none;stroke:#ff0000;stroke-width:1.5;\"/>\n    <path clip-path=\"url(#p737ecaf579)\" d=\"M 115.324943 139.551639 \nL 127.499489 139.551639 \n\" style=\"fill:none;stroke:#ff0000;stroke-width:1.5;\"/>\n    <path clip-path=\"url(#p737ecaf579)\" d=\"M 145.761307 145.150288 \nL 157.935852 145.150288 \n\" style=\"fill:none;stroke:#ff0000;stroke-width:1.5;\"/>\n    <path clip-path=\"url(#p737ecaf579)\" d=\"M 176.19767 148.546041 \nL 188.372216 148.546041 \n\" style=\"fill:none;stroke:#ff0000;stroke-width:1.5;\"/>\n    <path clip-path=\"url(#p737ecaf579)\" d=\"M 206.634034 150.605669 \nL 218.80858 150.605669 \n\" style=\"fill:none;stroke:#ff0000;stroke-width:1.5;\"/>\n    <path clip-path=\"url(#p737ecaf579)\" d=\"M 237.070398 151.854896 \nL 249.244943 151.854896 \n\" style=\"fill:none;stroke:#ff0000;stroke-width:1.5;\"/>\n    <path clip-path=\"url(#p737ecaf579)\" d=\"M 267.506761 152.612591 \nL 279.681307 152.612591 \n\" style=\"fill:none;stroke:#ff0000;stroke-width:1.5;\"/>\n    <path clip-path=\"url(#p737ecaf579)\" d=\"M 297.943125 153.072156 \nL 310.11767 153.072156 \n\" style=\"fill:none;stroke:#ff0000;stroke-width:1.5;\"/>\n    <path clip-path=\"url(#p737ecaf579)\" d=\"M 328.379489 153.350897 \nL 340.554034 153.350897 \n\" style=\"fill:none;stroke:#ff0000;stroke-width:1.5;\"/>\n   </g>\n   <g id=\"LineCollection_7\">\n    <path clip-path=\"url(#p737ecaf579)\" d=\"M 60.539489 127.856251 \nL 60.539489 102.348387 \n\" style=\"fill:none;stroke:#ff0000;stroke-width:1.5;\"/>\n    <path clip-path=\"url(#p737ecaf579)\" d=\"M 90.975852 143.074958 \nL 90.975852 117.567094 \n\" style=\"fill:none;stroke:#ff0000;stroke-width:1.5;\"/>\n    <path clip-path=\"url(#p737ecaf579)\" d=\"M 151.84858 157.90422 \nL 151.84858 132.396356 \n\" style=\"fill:none;stroke:#ff0000;stroke-width:1.5;\"/>\n    <path clip-path=\"url(#p737ecaf579)\" d=\"M 212.721307 163.359601 \nL 212.721307 137.851737 \n\" style=\"fill:none;stroke:#ff0000;stroke-width:1.5;\"/>\n    <path clip-path=\"url(#p737ecaf579)\" d=\"M 243.15767 164.608828 \nL 243.15767 139.100964 \n\" style=\"fill:none;stroke:#ff0000;stroke-width:1.5;\"/>\n    <path clip-path=\"url(#p737ecaf579)\" d=\"M 273.594034 165.366523 \nL 273.594034 139.858659 \n\" style=\"fill:none;stroke:#ff0000;stroke-width:1.5;\"/>\n    <path clip-path=\"url(#p737ecaf579)\" d=\"M 334.466761 166.104829 \nL 334.466761 140.596965 \n\" style=\"fill:none;stroke:#ff0000;stroke-width:1.5;\"/>\n   </g>\n   <g id=\"LineCollection_8\">\n    <path clip-path=\"url(#p737ecaf579)\" d=\"M 121.412216 139.551639 \nL 121.412216 126.797707 \n\" style=\"fill:none;stroke:#ff0000;stroke-width:1.5;\"/>\n    <path clip-path=\"url(#p737ecaf579)\" d=\"M 182.284943 148.546041 \nL 182.284943 135.792109 \n\" style=\"fill:none;stroke:#ff0000;stroke-width:1.5;\"/>\n    <path clip-path=\"url(#p737ecaf579)\" d=\"M 304.030398 153.072156 \nL 304.030398 140.318224 \n\" style=\"fill:none;stroke:#ff0000;stroke-width:1.5;\"/>\n   </g>\n   <g id=\"LineCollection_9\">\n    <path clip-path=\"url(#p737ecaf579)\" d=\"M 54.452216 83.217489 \nL 66.626761 83.217489 \n\" style=\"fill:none;stroke:#ff00ff;stroke-width:1.5;\"/>\n    <path clip-path=\"url(#p737ecaf579)\" d=\"M 84.88858 98.436196 \nL 97.063125 98.436196 \n\" style=\"fill:none;stroke:#ff00ff;stroke-width:1.5;\"/>\n    <path clip-path=\"url(#p737ecaf579)\" d=\"M 115.324943 107.666809 \nL 127.499489 107.666809 \n\" style=\"fill:none;stroke:#ff00ff;stroke-width:1.5;\"/>\n    <path clip-path=\"url(#p737ecaf579)\" d=\"M 145.761307 113.265458 \nL 157.935852 113.265458 \n\" style=\"fill:none;stroke:#ff00ff;stroke-width:1.5;\"/>\n    <path clip-path=\"url(#p737ecaf579)\" d=\"M 176.19767 116.661211 \nL 188.372216 116.661211 \n\" style=\"fill:none;stroke:#ff00ff;stroke-width:1.5;\"/>\n    <path clip-path=\"url(#p737ecaf579)\" d=\"M 206.634034 118.720839 \nL 218.80858 118.720839 \n\" style=\"fill:none;stroke:#ff00ff;stroke-width:1.5;\"/>\n    <path clip-path=\"url(#p737ecaf579)\" d=\"M 237.070398 119.970066 \nL 249.244943 119.970066 \n\" style=\"fill:none;stroke:#ff00ff;stroke-width:1.5;\"/>\n    <path clip-path=\"url(#p737ecaf579)\" d=\"M 267.506761 120.727761 \nL 279.681307 120.727761 \n\" style=\"fill:none;stroke:#ff00ff;stroke-width:1.5;\"/>\n    <path clip-path=\"url(#p737ecaf579)\" d=\"M 297.943125 121.187326 \nL 310.11767 121.187326 \n\" style=\"fill:none;stroke:#ff00ff;stroke-width:1.5;\"/>\n    <path clip-path=\"url(#p737ecaf579)\" d=\"M 328.379489 121.466067 \nL 340.554034 121.466067 \n\" style=\"fill:none;stroke:#ff00ff;stroke-width:1.5;\"/>\n   </g>\n   <g id=\"LineCollection_10\">\n    <path clip-path=\"url(#p737ecaf579)\" d=\"M 60.539489 95.971421 \nL 60.539489 70.463557 \n\" style=\"fill:none;stroke:#ff00ff;stroke-width:1.5;\"/>\n    <path clip-path=\"url(#p737ecaf579)\" d=\"M 151.84858 126.01939 \nL 151.84858 100.511526 \n\" style=\"fill:none;stroke:#ff00ff;stroke-width:1.5;\"/>\n    <path clip-path=\"url(#p737ecaf579)\" d=\"M 243.15767 132.723998 \nL 243.15767 107.216134 \n\" style=\"fill:none;stroke:#ff00ff;stroke-width:1.5;\"/>\n    <path clip-path=\"url(#p737ecaf579)\" d=\"M 273.594034 133.481693 \nL 273.594034 107.973829 \n\" style=\"fill:none;stroke:#ff00ff;stroke-width:1.5;\"/>\n   </g>\n   <g id=\"LineCollection_11\">\n    <path clip-path=\"url(#p737ecaf579)\" d=\"M 121.412216 107.666809 \nL 121.412216 94.912877 \n\" style=\"fill:none;stroke:#ff00ff;stroke-width:1.5;\"/>\n    <path clip-path=\"url(#p737ecaf579)\" d=\"M 182.284943 116.661211 \nL 182.284943 103.907279 \n\" style=\"fill:none;stroke:#ff00ff;stroke-width:1.5;\"/>\n    <path clip-path=\"url(#p737ecaf579)\" d=\"M 304.030398 121.187326 \nL 304.030398 108.433394 \n\" style=\"fill:none;stroke:#ff00ff;stroke-width:1.5;\"/>\n   </g>\n   <g id=\"LineCollection_12\">\n    <path clip-path=\"url(#p737ecaf579)\" d=\"M 90.975852 111.190128 \nL 90.975852 98.436196 \n\" style=\"fill:none;stroke:#ff00ff;stroke-width:1.5;\"/>\n    <path clip-path=\"url(#p737ecaf579)\" d=\"M 212.721307 131.474771 \nL 212.721307 118.720839 \n\" style=\"fill:none;stroke:#ff00ff;stroke-width:1.5;\"/>\n    <path clip-path=\"url(#p737ecaf579)\" d=\"M 334.466761 134.219999 \nL 334.466761 121.466067 \n\" style=\"fill:none;stroke:#ff00ff;stroke-width:1.5;\"/>\n   </g>\n   <g id=\"LineCollection_13\">\n    <path clip-path=\"url(#p737ecaf579)\" d=\"M 48.364943 44.955693 \nL 72.714034 44.955693 \n\" style=\"fill:none;stroke:#00ffff;stroke-width:1.5;\"/>\n    <path clip-path=\"url(#p737ecaf579)\" d=\"M 139.674034 75.003662 \nL 164.023125 75.003662 \n\" style=\"fill:none;stroke:#00ffff;stroke-width:1.5;\"/>\n    <path clip-path=\"url(#p737ecaf579)\" d=\"M 230.983125 81.70827 \nL 255.332216 81.70827 \n\" style=\"fill:none;stroke:#00ffff;stroke-width:1.5;\"/>\n    <path clip-path=\"url(#p737ecaf579)\" d=\"M 261.419489 82.465965 \nL 285.76858 82.465965 \n\" style=\"fill:none;stroke:#00ffff;stroke-width:1.5;\"/>\n   </g>\n   <g id=\"LineCollection_14\">\n    <path clip-path=\"url(#p737ecaf579)\" d=\"M 121.412216 69.405013 \nL 133.586761 69.405013 \n\" style=\"fill:none;stroke:#00ffff;stroke-width:1.5;\"/>\n    <path clip-path=\"url(#p737ecaf579)\" d=\"M 182.284943 78.399415 \nL 194.459489 78.399415 \n\" style=\"fill:none;stroke:#00ffff;stroke-width:1.5;\"/>\n    <path clip-path=\"url(#p737ecaf579)\" d=\"M 304.030398 82.92553 \nL 316.204943 82.92553 \n\" style=\"fill:none;stroke:#00ffff;stroke-width:1.5;\"/>\n   </g>\n   <g id=\"LineCollection_15\">\n    <path clip-path=\"url(#p737ecaf579)\" d=\"M 78.801307 60.1744 \nL 90.975852 60.1744 \n\" style=\"fill:none;stroke:#00ffff;stroke-width:1.5;\"/>\n    <path clip-path=\"url(#p737ecaf579)\" d=\"M 200.546761 80.459043 \nL 212.721307 80.459043 \n\" style=\"fill:none;stroke:#00ffff;stroke-width:1.5;\"/>\n    <path clip-path=\"url(#p737ecaf579)\" d=\"M 322.292216 83.204271 \nL 334.466761 83.204271 \n\" style=\"fill:none;stroke:#00ffff;stroke-width:1.5;\"/>\n   </g>\n   <g id=\"LineCollection_16\">\n    <path clip-path=\"url(#p737ecaf579)\" d=\"M 60.539489 57.709625 \nL 60.539489 32.201761 \n\" style=\"fill:none;stroke:#00ffff;stroke-width:1.5;\"/>\n    <path clip-path=\"url(#p737ecaf579)\" d=\"M 90.975852 72.928332 \nL 90.975852 47.420468 \n\" style=\"fill:none;stroke:#00ffff;stroke-width:1.5;\"/>\n    <path clip-path=\"url(#p737ecaf579)\" d=\"M 121.412216 82.158945 \nL 121.412216 56.651081 \n\" style=\"fill:none;stroke:#00ffff;stroke-width:1.5;\"/>\n    <path clip-path=\"url(#p737ecaf579)\" d=\"M 182.284943 91.153347 \nL 182.284943 65.645483 \n\" style=\"fill:none;stroke:#00ffff;stroke-width:1.5;\"/>\n    <path clip-path=\"url(#p737ecaf579)\" d=\"M 212.721307 93.212975 \nL 212.721307 67.705111 \n\" style=\"fill:none;stroke:#00ffff;stroke-width:1.5;\"/>\n    <path clip-path=\"url(#p737ecaf579)\" d=\"M 273.594034 95.219897 \nL 273.594034 69.712033 \n\" style=\"fill:none;stroke:#00ffff;stroke-width:1.5;\"/>\n    <path clip-path=\"url(#p737ecaf579)\" d=\"M 304.030398 95.679462 \nL 304.030398 70.171598 \n\" style=\"fill:none;stroke:#00ffff;stroke-width:1.5;\"/>\n    <path clip-path=\"url(#p737ecaf579)\" d=\"M 334.466761 95.958203 \nL 334.466761 70.450339 \n\" style=\"fill:none;stroke:#00ffff;stroke-width:1.5;\"/>\n   </g>\n   <g id=\"LineCollection_17\">\n    <path clip-path=\"url(#p737ecaf579)\" d=\"M 243.15767 81.70827 \nL 243.15767 62.577372 \n\" style=\"fill:none;stroke:#00ffff;stroke-width:1.5;\"/>\n   </g>\n   <g id=\"LineCollection_18\">\n    <path clip-path=\"url(#p737ecaf579)\" d=\"M 151.84858 94.13456 \nL 151.84858 75.003662 \n\" style=\"fill:none;stroke:#00ffff;stroke-width:1.5;\"/>\n   </g>\n   <g id=\"line2d_14\">\n    <defs>\n     <path d=\"M -3 0 \nL 0 4.5 \nL 3 0 \n\" id=\"md75ec5e7be\" style=\"stroke:#008000;stroke-linejoin:miter;\"/>\n    </defs>\n    <g clip-path=\"url(#p737ecaf579)\">\n     <use style=\"fill:#008000;stroke:#008000;stroke-linejoin:miter;\" x=\"90.975852\" xlink:href=\"#md75ec5e7be\" y=\"174.959788\"/>\n     <use style=\"fill:#008000;stroke:#008000;stroke-linejoin:miter;\" x=\"212.721307\" xlink:href=\"#md75ec5e7be\" y=\"195.244431\"/>\n     <use style=\"fill:#008000;stroke:#008000;stroke-linejoin:miter;\" x=\"334.466761\" xlink:href=\"#md75ec5e7be\" y=\"197.989659\"/>\n    </g>\n   </g>\n   <g id=\"line2d_15\">\n    <defs>\n     <path d=\"M 3 0 \nL 0 -4.5 \nL -3 -0 \n\" id=\"md6a9e2ae9c\" style=\"stroke:#ff0000;stroke-linejoin:miter;\"/>\n    </defs>\n    <g clip-path=\"url(#p737ecaf579)\">\n     <use style=\"fill:#ff0000;stroke:#ff0000;stroke-linejoin:miter;\" x=\"121.412216\" xlink:href=\"#md6a9e2ae9c\" y=\"126.797707\"/>\n     <use style=\"fill:#ff0000;stroke:#ff0000;stroke-linejoin:miter;\" x=\"182.284943\" xlink:href=\"#md6a9e2ae9c\" y=\"135.792109\"/>\n     <use style=\"fill:#ff0000;stroke:#ff0000;stroke-linejoin:miter;\" x=\"304.030398\" xlink:href=\"#md6a9e2ae9c\" y=\"140.318224\"/>\n    </g>\n   </g>\n   <g id=\"line2d_16\">\n    <defs>\n     <path d=\"M 3 0 \nL 0 -4.5 \nL -3 -0 \n\" id=\"md0723d4125\" style=\"stroke:#ff00ff;stroke-linejoin:miter;\"/>\n    </defs>\n    <g clip-path=\"url(#p737ecaf579)\">\n     <use style=\"fill:#ff00ff;stroke:#ff00ff;stroke-linejoin:miter;\" x=\"121.412216\" xlink:href=\"#md0723d4125\" y=\"94.912877\"/>\n     <use style=\"fill:#ff00ff;stroke:#ff00ff;stroke-linejoin:miter;\" x=\"182.284943\" xlink:href=\"#md0723d4125\" y=\"103.907279\"/>\n     <use style=\"fill:#ff00ff;stroke:#ff00ff;stroke-linejoin:miter;\" x=\"304.030398\" xlink:href=\"#md0723d4125\" y=\"108.433394\"/>\n    </g>\n   </g>\n   <g id=\"line2d_17\">\n    <defs>\n     <path d=\"M -3 0 \nL 0 4.5 \nL 3 0 \n\" id=\"m0b4d3959e3\" style=\"stroke:#ff00ff;stroke-linejoin:miter;\"/>\n    </defs>\n    <g clip-path=\"url(#p737ecaf579)\">\n     <use style=\"fill:#ff00ff;stroke:#ff00ff;stroke-linejoin:miter;\" x=\"90.975852\" xlink:href=\"#m0b4d3959e3\" y=\"111.190128\"/>\n     <use style=\"fill:#ff00ff;stroke:#ff00ff;stroke-linejoin:miter;\" x=\"212.721307\" xlink:href=\"#m0b4d3959e3\" y=\"131.474771\"/>\n     <use style=\"fill:#ff00ff;stroke:#ff00ff;stroke-linejoin:miter;\" x=\"334.466761\" xlink:href=\"#m0b4d3959e3\" y=\"134.219999\"/>\n    </g>\n   </g>\n   <g id=\"line2d_18\">\n    <defs>\n     <path d=\"M -0 3 \nL 4.5 0 \nL 0 -3 \n\" id=\"mb38d8d1d92\" style=\"stroke:#00ffff;stroke-linejoin:miter;\"/>\n    </defs>\n    <g clip-path=\"url(#p737ecaf579)\">\n     <use style=\"fill:#00ffff;stroke:#00ffff;stroke-linejoin:miter;\" x=\"133.586761\" xlink:href=\"#mb38d8d1d92\" y=\"69.405013\"/>\n     <use style=\"fill:#00ffff;stroke:#00ffff;stroke-linejoin:miter;\" x=\"194.459489\" xlink:href=\"#mb38d8d1d92\" y=\"78.399415\"/>\n     <use style=\"fill:#00ffff;stroke:#00ffff;stroke-linejoin:miter;\" x=\"316.204943\" xlink:href=\"#mb38d8d1d92\" y=\"82.92553\"/>\n    </g>\n   </g>\n   <g id=\"line2d_19\">\n    <defs>\n     <path d=\"M 0 -3 \nL -4.5 -0 \nL -0 3 \n\" id=\"m2b4d3facbf\" style=\"stroke:#00ffff;stroke-linejoin:miter;\"/>\n    </defs>\n    <g clip-path=\"url(#p737ecaf579)\">\n     <use style=\"fill:#00ffff;stroke:#00ffff;stroke-linejoin:miter;\" x=\"78.801307\" xlink:href=\"#m2b4d3facbf\" y=\"60.1744\"/>\n     <use style=\"fill:#00ffff;stroke:#00ffff;stroke-linejoin:miter;\" x=\"200.546761\" xlink:href=\"#m2b4d3facbf\" y=\"80.459043\"/>\n     <use style=\"fill:#00ffff;stroke:#00ffff;stroke-linejoin:miter;\" x=\"322.292216\" xlink:href=\"#m2b4d3facbf\" y=\"83.204271\"/>\n    </g>\n   </g>\n   <g id=\"line2d_20\">\n    <defs>\n     <path d=\"M 3 0 \nL 0 -4.5 \nL -3 -0 \n\" id=\"m60e46483b5\" style=\"stroke:#00ffff;stroke-linejoin:miter;\"/>\n    </defs>\n    <g clip-path=\"url(#p737ecaf579)\">\n     <use style=\"fill:#00ffff;stroke:#00ffff;stroke-linejoin:miter;\" x=\"243.15767\" xlink:href=\"#m60e46483b5\" y=\"62.577372\"/>\n    </g>\n   </g>\n   <g id=\"line2d_21\">\n    <defs>\n     <path d=\"M -3 0 \nL 0 4.5 \nL 3 0 \n\" id=\"mf11d6399f3\" style=\"stroke:#00ffff;stroke-linejoin:miter;\"/>\n    </defs>\n    <g clip-path=\"url(#p737ecaf579)\">\n     <use style=\"fill:#00ffff;stroke:#00ffff;stroke-linejoin:miter;\" x=\"151.84858\" xlink:href=\"#mf11d6399f3\" y=\"94.13456\"/>\n    </g>\n   </g>\n   <g id=\"line2d_22\">\n    <path clip-path=\"url(#p737ecaf579)\" d=\"M 60.539489 178.871979 \nL 90.975852 194.090686 \nL 121.412216 203.321299 \nL 151.84858 208.919948 \nL 182.284943 212.315701 \nL 212.721307 214.375329 \nL 243.15767 215.624556 \nL 273.594034 216.382251 \nL 304.030398 216.841816 \nL 334.466761 217.120557 \n\" style=\"fill:none;stroke:#0000ff;stroke-dasharray:1.5,2.475;stroke-dashoffset:0;stroke-width:1.5;\"/>\n   </g>\n   <g id=\"line2d_23\">\n    <path clip-path=\"url(#p737ecaf579)\" d=\"M 60.539489 146.987149 \nL 90.975852 162.205856 \nL 121.412216 171.436469 \nL 151.84858 177.035118 \nL 182.284943 180.430871 \nL 212.721307 182.490499 \nL 243.15767 183.739726 \nL 273.594034 184.497421 \nL 304.030398 184.956986 \nL 334.466761 185.235727 \n\" style=\"fill:none;stroke:#008000;stroke-dasharray:1.5,2.475;stroke-dashoffset:0;stroke-width:1.5;\"/>\n   </g>\n   <g id=\"line2d_24\">\n    <path clip-path=\"url(#p737ecaf579)\" d=\"M 60.539489 115.102319 \nL 90.975852 130.321026 \nL 121.412216 139.551639 \nL 151.84858 145.150288 \nL 182.284943 148.546041 \nL 212.721307 150.605669 \nL 243.15767 151.854896 \nL 273.594034 152.612591 \nL 304.030398 153.072156 \nL 334.466761 153.350897 \n\" style=\"fill:none;stroke:#ff0000;stroke-dasharray:1.5,2.475;stroke-dashoffset:0;stroke-width:1.5;\"/>\n   </g>\n   <g id=\"line2d_25\">\n    <path clip-path=\"url(#p737ecaf579)\" d=\"M 60.539489 83.217489 \nL 90.975852 98.436196 \nL 121.412216 107.666809 \nL 151.84858 113.265458 \nL 182.284943 116.661211 \nL 212.721307 118.720839 \nL 243.15767 119.970066 \nL 273.594034 120.727761 \nL 304.030398 121.187326 \nL 334.466761 121.466067 \n\" style=\"fill:none;stroke:#ff00ff;stroke-dasharray:1.5,2.475;stroke-dashoffset:0;stroke-width:1.5;\"/>\n    <defs>\n     <path d=\"M 0 4 \nC 1.060812 4 2.078319 3.578535 2.828427 2.828427 \nC 3.578535 2.078319 4 1.060812 4 0 \nC 4 -1.060812 3.578535 -2.078319 2.828427 -2.828427 \nC 2.078319 -3.578535 1.060812 -4 0 -4 \nC -1.060812 -4 -2.078319 -3.578535 -2.828427 -2.828427 \nC -3.578535 -2.078319 -4 -1.060812 -4 0 \nC -4 1.060812 -3.578535 2.078319 -2.828427 2.828427 \nC -2.078319 3.578535 -1.060812 4 0 4 \nz\n\" id=\"me780d4fdd8\" style=\"stroke:#ff00ff;\"/>\n    </defs>\n    <g clip-path=\"url(#p737ecaf579)\">\n     <use style=\"fill:#ff00ff;stroke:#ff00ff;\" x=\"60.539489\" xlink:href=\"#me780d4fdd8\" y=\"83.217489\"/>\n     <use style=\"fill:#ff00ff;stroke:#ff00ff;\" x=\"90.975852\" xlink:href=\"#me780d4fdd8\" y=\"98.436196\"/>\n     <use style=\"fill:#ff00ff;stroke:#ff00ff;\" x=\"121.412216\" xlink:href=\"#me780d4fdd8\" y=\"107.666809\"/>\n     <use style=\"fill:#ff00ff;stroke:#ff00ff;\" x=\"151.84858\" xlink:href=\"#me780d4fdd8\" y=\"113.265458\"/>\n     <use style=\"fill:#ff00ff;stroke:#ff00ff;\" x=\"182.284943\" xlink:href=\"#me780d4fdd8\" y=\"116.661211\"/>\n     <use style=\"fill:#ff00ff;stroke:#ff00ff;\" x=\"212.721307\" xlink:href=\"#me780d4fdd8\" y=\"118.720839\"/>\n     <use style=\"fill:#ff00ff;stroke:#ff00ff;\" x=\"243.15767\" xlink:href=\"#me780d4fdd8\" y=\"119.970066\"/>\n     <use style=\"fill:#ff00ff;stroke:#ff00ff;\" x=\"273.594034\" xlink:href=\"#me780d4fdd8\" y=\"120.727761\"/>\n     <use style=\"fill:#ff00ff;stroke:#ff00ff;\" x=\"304.030398\" xlink:href=\"#me780d4fdd8\" y=\"121.187326\"/>\n     <use style=\"fill:#ff00ff;stroke:#ff00ff;\" x=\"334.466761\" xlink:href=\"#me780d4fdd8\" y=\"121.466067\"/>\n    </g>\n   </g>\n   <g id=\"line2d_26\">\n    <defs>\n     <path d=\"M 0 4 \nC 1.060812 4 2.078319 3.578535 2.828427 2.828427 \nC 3.578535 2.078319 4 1.060812 4 0 \nC 4 -1.060812 3.578535 -2.078319 2.828427 -2.828427 \nC 2.078319 -3.578535 1.060812 -4 0 -4 \nC -1.060812 -4 -2.078319 -3.578535 -2.828427 -2.828427 \nC -3.578535 -2.078319 -4 -1.060812 -4 0 \nC -4 1.060812 -3.578535 2.078319 -2.828427 2.828427 \nC -2.078319 3.578535 -1.060812 4 0 4 \nz\n\" id=\"mba81197f7b\" style=\"stroke:#0000ff;\"/>\n    </defs>\n    <g clip-path=\"url(#p737ecaf579)\">\n     <use style=\"fill:#00ffff;stroke:#0000ff;\" x=\"60.539489\" xlink:href=\"#mba81197f7b\" y=\"44.955693\"/>\n     <use style=\"fill:#00ffff;stroke:#0000ff;\" x=\"90.975852\" xlink:href=\"#mba81197f7b\" y=\"60.1744\"/>\n     <use style=\"fill:#00ffff;stroke:#0000ff;\" x=\"121.412216\" xlink:href=\"#mba81197f7b\" y=\"69.405013\"/>\n     <use style=\"fill:#00ffff;stroke:#0000ff;\" x=\"151.84858\" xlink:href=\"#mba81197f7b\" y=\"75.003662\"/>\n     <use style=\"fill:#00ffff;stroke:#0000ff;\" x=\"182.284943\" xlink:href=\"#mba81197f7b\" y=\"78.399415\"/>\n     <use style=\"fill:#00ffff;stroke:#0000ff;\" x=\"212.721307\" xlink:href=\"#mba81197f7b\" y=\"80.459043\"/>\n     <use style=\"fill:#00ffff;stroke:#0000ff;\" x=\"243.15767\" xlink:href=\"#mba81197f7b\" y=\"81.70827\"/>\n     <use style=\"fill:#00ffff;stroke:#0000ff;\" x=\"273.594034\" xlink:href=\"#mba81197f7b\" y=\"82.465965\"/>\n     <use style=\"fill:#00ffff;stroke:#0000ff;\" x=\"304.030398\" xlink:href=\"#mba81197f7b\" y=\"82.92553\"/>\n     <use style=\"fill:#00ffff;stroke:#0000ff;\" x=\"334.466761\" xlink:href=\"#mba81197f7b\" y=\"83.204271\"/>\n    </g>\n   </g>\n   <g id=\"patch_3\">\n    <path d=\"M 30.103125 239.758125 \nL 30.103125 22.318125 \n\" style=\"fill:none;stroke:#000000;stroke-linecap:square;stroke-linejoin:miter;stroke-width:0.8;\"/>\n   </g>\n   <g id=\"patch_4\">\n    <path d=\"M 364.903125 239.758125 \nL 364.903125 22.318125 \n\" style=\"fill:none;stroke:#000000;stroke-linecap:square;stroke-linejoin:miter;stroke-width:0.8;\"/>\n   </g>\n   <g id=\"patch_5\">\n    <path d=\"M 30.103125 239.758125 \nL 364.903125 239.758125 \n\" style=\"fill:none;stroke:#000000;stroke-linecap:square;stroke-linejoin:miter;stroke-width:0.8;\"/>\n   </g>\n   <g id=\"patch_6\">\n    <path d=\"M 30.103125 22.318125 \nL 364.903125 22.318125 \n\" style=\"fill:none;stroke:#000000;stroke-linecap:square;stroke-linejoin:miter;stroke-width:0.8;\"/>\n   </g>\n   <g id=\"text_14\">\n    <!-- Errorbar upper and lower limits -->\n    <defs>\n     <path d=\"M 9.8125 72.90625 \nL 55.90625 72.90625 \nL 55.90625 64.59375 \nL 19.671875 64.59375 \nL 19.671875 43.015625 \nL 54.390625 43.015625 \nL 54.390625 34.71875 \nL 19.671875 34.71875 \nL 19.671875 8.296875 \nL 56.78125 8.296875 \nL 56.78125 0 \nL 9.8125 0 \nz\n\" id=\"DejaVuSans-69\"/>\n     <path d=\"M 41.109375 46.296875 \nQ 39.59375 47.171875 37.8125 47.578125 \nQ 36.03125 48 33.890625 48 \nQ 26.265625 48 22.1875 43.046875 \nQ 18.109375 38.09375 18.109375 28.8125 \nL 18.109375 0 \nL 9.078125 0 \nL 9.078125 54.6875 \nL 18.109375 54.6875 \nL 18.109375 46.1875 \nQ 20.953125 51.171875 25.484375 53.578125 \nQ 30.03125 56 36.53125 56 \nQ 37.453125 56 38.578125 55.875 \nQ 39.703125 55.765625 41.0625 55.515625 \nz\n\" id=\"DejaVuSans-114\"/>\n     <path d=\"M 30.609375 48.390625 \nQ 23.390625 48.390625 19.1875 42.75 \nQ 14.984375 37.109375 14.984375 27.296875 \nQ 14.984375 17.484375 19.15625 11.84375 \nQ 23.34375 6.203125 30.609375 6.203125 \nQ 37.796875 6.203125 41.984375 11.859375 \nQ 46.1875 17.53125 46.1875 27.296875 \nQ 46.1875 37.015625 41.984375 42.703125 \nQ 37.796875 48.390625 30.609375 48.390625 \nz\nM 30.609375 56 \nQ 42.328125 56 49.015625 48.375 \nQ 55.71875 40.765625 55.71875 27.296875 \nQ 55.71875 13.875 49.015625 6.21875 \nQ 42.328125 -1.421875 30.609375 -1.421875 \nQ 18.84375 -1.421875 12.171875 6.21875 \nQ 5.515625 13.875 5.515625 27.296875 \nQ 5.515625 40.765625 12.171875 48.375 \nQ 18.84375 56 30.609375 56 \nz\n\" id=\"DejaVuSans-111\"/>\n     <path d=\"M 48.6875 27.296875 \nQ 48.6875 37.203125 44.609375 42.84375 \nQ 40.53125 48.484375 33.40625 48.484375 \nQ 26.265625 48.484375 22.1875 42.84375 \nQ 18.109375 37.203125 18.109375 27.296875 \nQ 18.109375 17.390625 22.1875 11.75 \nQ 26.265625 6.109375 33.40625 6.109375 \nQ 40.53125 6.109375 44.609375 11.75 \nQ 48.6875 17.390625 48.6875 27.296875 \nz\nM 18.109375 46.390625 \nQ 20.953125 51.265625 25.265625 53.625 \nQ 29.59375 56 35.59375 56 \nQ 45.5625 56 51.78125 48.09375 \nQ 58.015625 40.1875 58.015625 27.296875 \nQ 58.015625 14.40625 51.78125 6.484375 \nQ 45.5625 -1.421875 35.59375 -1.421875 \nQ 29.59375 -1.421875 25.265625 0.953125 \nQ 20.953125 3.328125 18.109375 8.203125 \nL 18.109375 0 \nL 9.078125 0 \nL 9.078125 75.984375 \nL 18.109375 75.984375 \nz\n\" id=\"DejaVuSans-98\"/>\n     <path d=\"M 34.28125 27.484375 \nQ 23.390625 27.484375 19.1875 25 \nQ 14.984375 22.515625 14.984375 16.5 \nQ 14.984375 11.71875 18.140625 8.90625 \nQ 21.296875 6.109375 26.703125 6.109375 \nQ 34.1875 6.109375 38.703125 11.40625 \nQ 43.21875 16.703125 43.21875 25.484375 \nL 43.21875 27.484375 \nz\nM 52.203125 31.203125 \nL 52.203125 0 \nL 43.21875 0 \nL 43.21875 8.296875 \nQ 40.140625 3.328125 35.546875 0.953125 \nQ 30.953125 -1.421875 24.3125 -1.421875 \nQ 15.921875 -1.421875 10.953125 3.296875 \nQ 6 8.015625 6 15.921875 \nQ 6 25.140625 12.171875 29.828125 \nQ 18.359375 34.515625 30.609375 34.515625 \nL 43.21875 34.515625 \nL 43.21875 35.40625 \nQ 43.21875 41.609375 39.140625 45 \nQ 35.0625 48.390625 27.6875 48.390625 \nQ 23 48.390625 18.546875 47.265625 \nQ 14.109375 46.140625 10.015625 43.890625 \nL 10.015625 52.203125 \nQ 14.9375 54.109375 19.578125 55.046875 \nQ 24.21875 56 28.609375 56 \nQ 40.484375 56 46.34375 49.84375 \nQ 52.203125 43.703125 52.203125 31.203125 \nz\n\" id=\"DejaVuSans-97\"/>\n     <path id=\"DejaVuSans-32\"/>\n     <path d=\"M 8.5 21.578125 \nL 8.5 54.6875 \nL 17.484375 54.6875 \nL 17.484375 21.921875 \nQ 17.484375 14.15625 20.5 10.265625 \nQ 23.53125 6.390625 29.59375 6.390625 \nQ 36.859375 6.390625 41.078125 11.03125 \nQ 45.3125 15.671875 45.3125 23.6875 \nL 45.3125 54.6875 \nL 54.296875 54.6875 \nL 54.296875 0 \nL 45.3125 0 \nL 45.3125 8.40625 \nQ 42.046875 3.421875 37.71875 1 \nQ 33.40625 -1.421875 27.6875 -1.421875 \nQ 18.265625 -1.421875 13.375 4.4375 \nQ 8.5 10.296875 8.5 21.578125 \nz\nM 31.109375 56 \nz\n\" id=\"DejaVuSans-117\"/>\n     <path d=\"M 18.109375 8.203125 \nL 18.109375 -20.796875 \nL 9.078125 -20.796875 \nL 9.078125 54.6875 \nL 18.109375 54.6875 \nL 18.109375 46.390625 \nQ 20.953125 51.265625 25.265625 53.625 \nQ 29.59375 56 35.59375 56 \nQ 45.5625 56 51.78125 48.09375 \nQ 58.015625 40.1875 58.015625 27.296875 \nQ 58.015625 14.40625 51.78125 6.484375 \nQ 45.5625 -1.421875 35.59375 -1.421875 \nQ 29.59375 -1.421875 25.265625 0.953125 \nQ 20.953125 3.328125 18.109375 8.203125 \nz\nM 48.6875 27.296875 \nQ 48.6875 37.203125 44.609375 42.84375 \nQ 40.53125 48.484375 33.40625 48.484375 \nQ 26.265625 48.484375 22.1875 42.84375 \nQ 18.109375 37.203125 18.109375 27.296875 \nQ 18.109375 17.390625 22.1875 11.75 \nQ 26.265625 6.109375 33.40625 6.109375 \nQ 40.53125 6.109375 44.609375 11.75 \nQ 48.6875 17.390625 48.6875 27.296875 \nz\n\" id=\"DejaVuSans-112\"/>\n     <path d=\"M 56.203125 29.59375 \nL 56.203125 25.203125 \nL 14.890625 25.203125 \nQ 15.484375 15.921875 20.484375 11.0625 \nQ 25.484375 6.203125 34.421875 6.203125 \nQ 39.59375 6.203125 44.453125 7.46875 \nQ 49.3125 8.734375 54.109375 11.28125 \nL 54.109375 2.78125 \nQ 49.265625 0.734375 44.1875 -0.34375 \nQ 39.109375 -1.421875 33.890625 -1.421875 \nQ 20.796875 -1.421875 13.15625 6.1875 \nQ 5.515625 13.8125 5.515625 26.8125 \nQ 5.515625 40.234375 12.765625 48.109375 \nQ 20.015625 56 32.328125 56 \nQ 43.359375 56 49.78125 48.890625 \nQ 56.203125 41.796875 56.203125 29.59375 \nz\nM 47.21875 32.234375 \nQ 47.125 39.59375 43.09375 43.984375 \nQ 39.0625 48.390625 32.421875 48.390625 \nQ 24.90625 48.390625 20.390625 44.140625 \nQ 15.875 39.890625 15.1875 32.171875 \nz\n\" id=\"DejaVuSans-101\"/>\n     <path d=\"M 54.890625 33.015625 \nL 54.890625 0 \nL 45.90625 0 \nL 45.90625 32.71875 \nQ 45.90625 40.484375 42.875 44.328125 \nQ 39.84375 48.1875 33.796875 48.1875 \nQ 26.515625 48.1875 22.3125 43.546875 \nQ 18.109375 38.921875 18.109375 30.90625 \nL 18.109375 0 \nL 9.078125 0 \nL 9.078125 54.6875 \nL 18.109375 54.6875 \nL 18.109375 46.1875 \nQ 21.34375 51.125 25.703125 53.5625 \nQ 30.078125 56 35.796875 56 \nQ 45.21875 56 50.046875 50.171875 \nQ 54.890625 44.34375 54.890625 33.015625 \nz\n\" id=\"DejaVuSans-110\"/>\n     <path d=\"M 45.40625 46.390625 \nL 45.40625 75.984375 \nL 54.390625 75.984375 \nL 54.390625 0 \nL 45.40625 0 \nL 45.40625 8.203125 \nQ 42.578125 3.328125 38.25 0.953125 \nQ 33.9375 -1.421875 27.875 -1.421875 \nQ 17.96875 -1.421875 11.734375 6.484375 \nQ 5.515625 14.40625 5.515625 27.296875 \nQ 5.515625 40.1875 11.734375 48.09375 \nQ 17.96875 56 27.875 56 \nQ 33.9375 56 38.25 53.625 \nQ 42.578125 51.265625 45.40625 46.390625 \nz\nM 14.796875 27.296875 \nQ 14.796875 17.390625 18.875 11.75 \nQ 22.953125 6.109375 30.078125 6.109375 \nQ 37.203125 6.109375 41.296875 11.75 \nQ 45.40625 17.390625 45.40625 27.296875 \nQ 45.40625 37.203125 41.296875 42.84375 \nQ 37.203125 48.484375 30.078125 48.484375 \nQ 22.953125 48.484375 18.875 42.84375 \nQ 14.796875 37.203125 14.796875 27.296875 \nz\n\" id=\"DejaVuSans-100\"/>\n     <path d=\"M 9.421875 75.984375 \nL 18.40625 75.984375 \nL 18.40625 0 \nL 9.421875 0 \nz\n\" id=\"DejaVuSans-108\"/>\n     <path d=\"M 4.203125 54.6875 \nL 13.1875 54.6875 \nL 24.421875 12.015625 \nL 35.59375 54.6875 \nL 46.1875 54.6875 \nL 57.421875 12.015625 \nL 68.609375 54.6875 \nL 77.59375 54.6875 \nL 63.28125 0 \nL 52.6875 0 \nL 40.921875 44.828125 \nL 29.109375 0 \nL 18.5 0 \nz\n\" id=\"DejaVuSans-119\"/>\n     <path d=\"M 9.421875 54.6875 \nL 18.40625 54.6875 \nL 18.40625 0 \nL 9.421875 0 \nz\nM 9.421875 75.984375 \nL 18.40625 75.984375 \nL 18.40625 64.59375 \nL 9.421875 64.59375 \nz\n\" id=\"DejaVuSans-105\"/>\n     <path d=\"M 52 44.1875 \nQ 55.375 50.25 60.0625 53.125 \nQ 64.75 56 71.09375 56 \nQ 79.640625 56 84.28125 50.015625 \nQ 88.921875 44.046875 88.921875 33.015625 \nL 88.921875 0 \nL 79.890625 0 \nL 79.890625 32.71875 \nQ 79.890625 40.578125 77.09375 44.375 \nQ 74.3125 48.1875 68.609375 48.1875 \nQ 61.625 48.1875 57.5625 43.546875 \nQ 53.515625 38.921875 53.515625 30.90625 \nL 53.515625 0 \nL 44.484375 0 \nL 44.484375 32.71875 \nQ 44.484375 40.625 41.703125 44.40625 \nQ 38.921875 48.1875 33.109375 48.1875 \nQ 26.21875 48.1875 22.15625 43.53125 \nQ 18.109375 38.875 18.109375 30.90625 \nL 18.109375 0 \nL 9.078125 0 \nL 9.078125 54.6875 \nL 18.109375 54.6875 \nL 18.109375 46.1875 \nQ 21.1875 51.21875 25.484375 53.609375 \nQ 29.78125 56 35.6875 56 \nQ 41.65625 56 45.828125 52.96875 \nQ 50 49.953125 52 44.1875 \nz\n\" id=\"DejaVuSans-109\"/>\n     <path d=\"M 18.3125 70.21875 \nL 18.3125 54.6875 \nL 36.8125 54.6875 \nL 36.8125 47.703125 \nL 18.3125 47.703125 \nL 18.3125 18.015625 \nQ 18.3125 11.328125 20.140625 9.421875 \nQ 21.96875 7.515625 27.59375 7.515625 \nL 36.8125 7.515625 \nL 36.8125 0 \nL 27.59375 0 \nQ 17.1875 0 13.234375 3.875 \nQ 9.28125 7.765625 9.28125 18.015625 \nL 9.28125 47.703125 \nL 2.6875 47.703125 \nL 2.6875 54.6875 \nL 9.28125 54.6875 \nL 9.28125 70.21875 \nz\n\" id=\"DejaVuSans-116\"/>\n     <path d=\"M 44.28125 53.078125 \nL 44.28125 44.578125 \nQ 40.484375 46.53125 36.375 47.5 \nQ 32.28125 48.484375 27.875 48.484375 \nQ 21.1875 48.484375 17.84375 46.4375 \nQ 14.5 44.390625 14.5 40.28125 \nQ 14.5 37.15625 16.890625 35.375 \nQ 19.28125 33.59375 26.515625 31.984375 \nL 29.59375 31.296875 \nQ 39.15625 29.25 43.1875 25.515625 \nQ 47.21875 21.78125 47.21875 15.09375 \nQ 47.21875 7.46875 41.1875 3.015625 \nQ 35.15625 -1.421875 24.609375 -1.421875 \nQ 20.21875 -1.421875 15.453125 -0.5625 \nQ 10.6875 0.296875 5.421875 2 \nL 5.421875 11.28125 \nQ 10.40625 8.6875 15.234375 7.390625 \nQ 20.0625 6.109375 24.8125 6.109375 \nQ 31.15625 6.109375 34.5625 8.28125 \nQ 37.984375 10.453125 37.984375 14.40625 \nQ 37.984375 18.0625 35.515625 20.015625 \nQ 33.0625 21.96875 24.703125 23.78125 \nL 21.578125 24.515625 \nQ 13.234375 26.265625 9.515625 29.90625 \nQ 5.8125 33.546875 5.8125 39.890625 \nQ 5.8125 47.609375 11.28125 51.796875 \nQ 16.75 56 26.8125 56 \nQ 31.78125 56 36.171875 55.265625 \nQ 40.578125 54.546875 44.28125 53.078125 \nz\n\" id=\"DejaVuSans-115\"/>\n    </defs>\n    <g transform=\"translate(103.47 16.318125)scale(0.12 -0.12)\">\n     <use xlink:href=\"#DejaVuSans-69\"/>\n     <use x=\"63.183594\" xlink:href=\"#DejaVuSans-114\"/>\n     <use x=\"104.28125\" xlink:href=\"#DejaVuSans-114\"/>\n     <use x=\"145.363281\" xlink:href=\"#DejaVuSans-111\"/>\n     <use x=\"206.544922\" xlink:href=\"#DejaVuSans-114\"/>\n     <use x=\"247.658203\" xlink:href=\"#DejaVuSans-98\"/>\n     <use x=\"311.134766\" xlink:href=\"#DejaVuSans-97\"/>\n     <use x=\"372.414062\" xlink:href=\"#DejaVuSans-114\"/>\n     <use x=\"413.527344\" xlink:href=\"#DejaVuSans-32\"/>\n     <use x=\"445.314453\" xlink:href=\"#DejaVuSans-117\"/>\n     <use x=\"508.693359\" xlink:href=\"#DejaVuSans-112\"/>\n     <use x=\"572.169922\" xlink:href=\"#DejaVuSans-112\"/>\n     <use x=\"635.646484\" xlink:href=\"#DejaVuSans-101\"/>\n     <use x=\"697.169922\" xlink:href=\"#DejaVuSans-114\"/>\n     <use x=\"738.283203\" xlink:href=\"#DejaVuSans-32\"/>\n     <use x=\"770.070312\" xlink:href=\"#DejaVuSans-97\"/>\n     <use x=\"831.349609\" xlink:href=\"#DejaVuSans-110\"/>\n     <use x=\"894.728516\" xlink:href=\"#DejaVuSans-100\"/>\n     <use x=\"958.205078\" xlink:href=\"#DejaVuSans-32\"/>\n     <use x=\"989.992188\" xlink:href=\"#DejaVuSans-108\"/>\n     <use x=\"1017.775391\" xlink:href=\"#DejaVuSans-111\"/>\n     <use x=\"1078.957031\" xlink:href=\"#DejaVuSans-119\"/>\n     <use x=\"1160.744141\" xlink:href=\"#DejaVuSans-101\"/>\n     <use x=\"1222.267578\" xlink:href=\"#DejaVuSans-114\"/>\n     <use x=\"1263.380859\" xlink:href=\"#DejaVuSans-32\"/>\n     <use x=\"1295.167969\" xlink:href=\"#DejaVuSans-108\"/>\n     <use x=\"1322.951172\" xlink:href=\"#DejaVuSans-105\"/>\n     <use x=\"1350.734375\" xlink:href=\"#DejaVuSans-109\"/>\n     <use x=\"1448.146484\" xlink:href=\"#DejaVuSans-105\"/>\n     <use x=\"1475.929688\" xlink:href=\"#DejaVuSans-116\"/>\n     <use x=\"1515.138672\" xlink:href=\"#DejaVuSans-115\"/>\n    </g>\n   </g>\n  </g>\n </g>\n <defs>\n  <clipPath id=\"p737ecaf579\">\n   <rect height=\"217.44\" width=\"334.8\" x=\"30.103125\" y=\"22.318125\"/>\n  </clipPath>\n </defs>\n</svg>\n",
      "image/png": "[encoded data removed]"
     },
     "metadata": {
      "needs_background": "light"
     }
    }
   ],
   "source": [
    "\"\"\"\n",
    "Demo of the errorbar function, including upper and lower limits\n",
    "\"\"\"\n",
    "import numpy as np\n",
    "import matplotlib.pyplot as plt\n",
    "\n",
    "import matplotlib as mpl\n",
    "mpl.rcParams[\"errorbar.capsize\"] = 3\n",
    "\n",
    "# https://stackoverflow.com/questions/61415955/why-dont-the-error-limits-in-my-plots-show-in-matplotlib\n",
    "\n",
    "# example data\n",
    "x = np.arange(0.5, 5.5, 0.5)\n",
    "y = np.exp(-x)\n",
    "xerr = 0.1\n",
    "yerr = 0.2\n",
    "ls = 'dotted'\n",
    "\n",
    "fig = plt.figure()\n",
    "ax = fig.add_subplot(1, 1, 1)\n",
    "\n",
    "# standard error bars\n",
    "plt.errorbar(x, y, xerr=xerr, yerr=yerr, ls=ls, color='blue')\n",
    "\n",
    "# including upper limits\n",
    "uplims = np.zeros(x.shape)\n",
    "uplims[[1, 5, 9]] = True\n",
    "plt.errorbar(x, y + 0.5, xerr=xerr, yerr=yerr, uplims=uplims, ls=ls,\n",
    "             color='green')\n",
    "\n",
    "# including lower limits\n",
    "lolims = np.zeros(x.shape)\n",
    "lolims[[2, 4, 8]] = True\n",
    "plt.errorbar(x, y + 1.0, xerr=xerr, yerr=yerr, lolims=lolims, ls=ls,\n",
    "             color='red')\n",
    "\n",
    "# including upper and lower limits\n",
    "plt.errorbar(x, y + 1.5, marker='o', ms=8, xerr=xerr, yerr=yerr,\n",
    "             lolims=lolims, uplims=uplims, ls=ls, color='magenta')\n",
    "\n",
    "# including xlower and xupper limits\n",
    "xerr = 0.2\n",
    "yerr = np.zeros(x.shape) + 0.2\n",
    "yerr[[3, 6]] = 0.3\n",
    "xlolims = lolims\n",
    "xuplims = uplims\n",
    "lolims = np.zeros(x.shape)\n",
    "uplims = np.zeros(x.shape)\n",
    "lolims[[6]] = True\n",
    "uplims[[3]] = True\n",
    "plt.errorbar(x, y + 2.1, marker='o', ms=8, xerr=xerr, yerr=yerr,\n",
    "             xlolims=xlolims, xuplims=xuplims, uplims=uplims, lolims=lolims,\n",
    "             ls='none', mec='blue', capsize=0, color='cyan')\n",
    "\n",
    "ax.set_xlim((0, 5.5))\n",
    "ax.set_title('Errorbar upper and lower limits')\n",
    "plt.show()"
   ]
  },
  {
   "cell_type": "code",
   "execution_count": null,
   "metadata": {},
   "outputs": [],
   "source": [
    "import utils"
   ]
  }
 ],
 "metadata": {
  "kernelspec": {
   "display_name": "Python 3",
   "language": "python",
   "name": "python3"
  },
  "language_info": {
   "codemirror_mode": {
    "name": "ipython",
    "version": 3
   },
   "file_extension": ".py",
   "mimetype": "text/x-python",
   "name": "python",
   "nbconvert_exporter": "python",
   "pygments_lexer": "ipython3",
   "version": "3.7.7-final"
  },
  "pycharm": {
   "stem_cell": {
    "cell_type": "raw",
    "metadata": {
     "collapsed": false
    },
    "source": []
   }
  }
 },
 "nbformat": 4,
 "nbformat_minor": 4
}