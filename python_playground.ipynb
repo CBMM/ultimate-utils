{
 "cells": [
  {
   "cell_type": "code",
   "execution_count": null,
   "metadata": {
    "collapsed": false,
    "jupyter": {
     "outputs_hidden": false
    },
    "pycharm": {
     "is_executing": false,
     "name": "#%%\n"
    }
   },
   "outputs": [],
   "source": [
    "import sys\n",
    "print(sys.version)\n"
   ]
  },
  {
   "cell_type": "code",
   "execution_count": null,
   "metadata": {},
   "outputs": [],
   "source": [
    "## dictionary comprehension looping\n",
    "\n",
    "d = {'a': 0, 'b': 1}\n",
    "lst1 = [f'key:{k}' for k in d]\n",
    "lst2 = [f'key:{k}, value:{v}' for k,v in d.items()]\n",
    "\n",
    "print(lst1)\n",
    "print(lst2)"
   ]
  },
  {
   "cell_type": "code",
   "execution_count": null,
   "metadata": {},
   "outputs": [],
   "source": [
    "## merging two dictionaries\n",
    "\n",
    "d1 = {'a':0,'b':1}\n",
    "d2 = {'c':2,'d':3}\n",
    "d3 = {'e':4, 'f':5, 'g':6}\n",
    "d = {**d1, **d2, **d3}\n",
    "\n",
    "print(d)"
   ]
  },
  {
   "cell_type": "code",
   "execution_count": null,
   "metadata": {},
   "outputs": [],
   "source": [
    "\n",
    "from collections import OrderedDict\n",
    "\n",
    "od = OrderedDict([\n",
    "    ('first',1)\n",
    "])\n",
    "\n",
    "print(od)\n",
    "od['first'] = 2\n",
    "print(od)\n",
    "\n",
    "lst = sum( [i for i in range(3)] )\n",
    "print(lst)\n",
    "od3 = OrderedDict( [ (i,i) for i in range(3)] )\n",
    "print(od3)\n",
    "print(3+float('Inf'))"
   ]
  },
  {
   "cell_type": "code",
   "execution_count": null,
   "metadata": {},
   "outputs": [],
   "source": [
    "import pathlib\n",
    "from pathlib import Path\n",
    "\n",
    "def make_dirpath_current_datetime_hostname(path=None, comment='', replace_dots=True):\n",
    "    '''\n",
    "    make dir string: runs/CURRENT_DATETIME_HOSTNAME\n",
    "    '''\n",
    "    import socket\n",
    "    import os\n",
    "    from datetime import datetime\n",
    "    # check if root is a PosixPath object\n",
    "    if type(path) != pathlib.PosixPath and path is not None:\n",
    "        path = Path(path)\n",
    "    current_time = datetime.now().strftime('%b%d_%H-%M-%S')\n",
    "    log_dir = os.path.join('runs', current_time + '_' + socket.gethostname() + comment)\n",
    "    log_dir = Path(log_dir)\n",
    "    print(log_dir._str)\n",
    "    if replace_dots:\n",
    "        log_dir = Path(log_dir._str.replace('.','_'))\n",
    "    if path is not None:\n",
    "        log_dir = path / log_dir\n",
    "    return log_dir\n",
    "\n",
    "print(type(Path('~')) == pathlib.PosixPath)\n",
    "print()\n",
    "\n",
    "log_dir = make_dirpath_current_datetime_hostname()\n",
    "print(log_dir)\n",
    "log_dir = make_dirpath_current_datetime_hostname('~')\n",
    "print(log_dir)\n",
    "log_dir = make_dirpath_current_datetime_hostname('~','_jupyter')\n",
    "print(log_dir)\n",
    "log_dir = make_dirpath_current_datetime_hostname('~').expanduser()\n",
    "print(log_dir)\n",
    "\n",
    "string = \"geeks for geeks geeks geeks geeks\" \n",
    "# Prints the string by replacing geeks by Geeks  \n",
    "print( string.replace(\"geeks\", \"Geeks\") )\n",
    "\n",
    "log_dir = make_dirpath_current_datetime_hostname('~','_jupyter',True)\n",
    "print(log_dir)"
   ]
  },
  {
   "cell_type": "code",
   "execution_count": null,
   "metadata": {},
   "outputs": [],
   "source": [
    "# adding keys to empty dic\n",
    "\n",
    "d = {}\n",
    "d['a'] = 3\n",
    "print(d)"
   ]
  },
  {
   "cell_type": "code",
   "execution_count": null,
   "metadata": {},
   "outputs": [],
   "source": [
    "# unpack list?\n",
    "\n",
    "(a,b,c) = [1,2,3]\n",
    "print(a)"
   ]
  },
  {
   "cell_type": "code",
   "execution_count": null,
   "metadata": {},
   "outputs": [],
   "source": [
    "## kwargs\n",
    "\n",
    "def f(*args, **kwargs):\n",
    "    print(args)\n",
    "    print(kwargs)\n",
    "\n",
    "f()\n",
    "f(1,2,3,a=1,b=2,c=3)"
   ]
  },
  {
   "cell_type": "code",
   "execution_count": null,
   "metadata": {},
   "outputs": [],
   "source": [
    "\n",
    "import json\n",
    "\n",
    "from pathlib import Path\n",
    "\n",
    "p = Path('~/')\n",
    "with open(p) as f:\n",
    "  data = json.load(f)\n",
    "  print(data)\n",
    "  print(data['password'])"
   ]
  },
  {
   "cell_type": "code",
   "execution_count": null,
   "metadata": {},
   "outputs": [],
   "source": [
    "import subprocess\n",
    "\n",
    "from subprocess import Popen, PIPE, STDOUT\n",
    "\n",
    "cmd = 'ls /etc/fstab /etc/non-existent-file'\n",
    "p = Popen(cmd, shell=True, stdin=PIPE, stdout=PIPE, stderr=STDOUT, close_fds=True)\n",
    "output = p.stdout.read()\n",
    "print(output)"
   ]
  },
  {
   "cell_type": "code",
   "execution_count": null,
   "metadata": {},
   "outputs": [],
   "source": [
    "import sys\n",
    "\n",
    "print('a')\n",
    "\n",
    "print(sys.stdout)"
   ]
  },
  {
   "cell_type": "code",
   "execution_count": null,
   "metadata": {},
   "outputs": [],
   "source": [
    "from pathlib import Path\n",
    "\n",
    "def send_email(subject, message, destination, password_path=None):\n",
    "    \"\"\" Send an e-mail from with message to destination email.\n",
    "\n",
    "    NOTE: if you get an error with google gmails you might need to do this: \n",
    "    https://stackoverflow.com/questions/16512592/login-credentials-not-working-with-gmail-smtp\n",
    "    To use an app password:\n",
    "    https://stackoverflow.com/questions/60975490/how-does-one-send-an-e-mail-from-python-not-using-gmail\n",
    "\n",
    "    Arguments:\n",
    "        message {str} -- message string to send.\n",
    "        destination {str} -- destination email (as string)\n",
    "    \"\"\"\n",
    "    from socket import gethostname\n",
    "    from email.message import EmailMessage\n",
    "    import smtplib\n",
    "    import json\n",
    "    import sys\n",
    "\n",
    "    server = smtplib.SMTP('smtp.gmail.com', 587)\n",
    "    smtplib.stdout = sys.stdout\n",
    "    server.starttls()\n",
    "    with open(password_path) as f:\n",
    "        config = json.load(f)\n",
    "        server.login('slurm.miranda@gmail.com', config['password'])\n",
    "\n",
    "        # craft message\n",
    "        msg = EmailMessage()\n",
    "\n",
    "        #message = f'{message}\\nSend from Hostname: {gethostname()}'\n",
    "        #msg.set_content(message)\n",
    "        msg['Subject'] = subject\n",
    "        msg['From'] = 'slurm.miranda@gmail.com'\n",
    "        msg['To'] = destination\n",
    "        # send msg\n",
    "        server.send_message(msg)\n",
    "\n",
    "##\n",
    "print(\"-------> HELLOWWWWWWWW\")\n",
    "p = Path('~/automl-meta-learning/automl/experiments/pw_app.config.json').expanduser()\n",
    "send_email(subject='TEST: send_email2', message='MESSAGE', destination='brando.science@gmail.com', password_path=p)"
   ]
  },
  {
   "cell_type": "code",
   "execution_count": null,
   "metadata": {},
   "outputs": [],
   "source": [
    "\"\"\"\n",
    "Demo of the errorbar function, including upper and lower limits\n",
    "\"\"\"\n",
    "import numpy as np\n",
    "import matplotlib.pyplot as plt\n",
    "\n",
    "import matplotlib as mpl\n",
    "mpl.rcParams[\"errorbar.capsize\"] = 3\n",
    "\n",
    "# https://stackoverflow.com/questions/61415955/why-dont-the-error-limits-in-my-plots-show-in-matplotlib\n",
    "\n",
    "# example data\n",
    "x = np.arange(0.5, 5.5, 0.5)\n",
    "y = np.exp(-x)\n",
    "xerr = 0.1\n",
    "yerr = 0.2\n",
    "ls = 'dotted'\n",
    "\n",
    "fig = plt.figure()\n",
    "ax = fig.add_subplot(1, 1, 1)\n",
    "\n",
    "# standard error bars\n",
    "plt.errorbar(x, y, xerr=xerr, yerr=yerr, ls=ls, color='blue')\n",
    "\n",
    "# including upper limits\n",
    "uplims = np.zeros(x.shape)\n",
    "uplims[[1, 5, 9]] = True\n",
    "plt.errorbar(x, y + 0.5, xerr=xerr, yerr=yerr, uplims=uplims, ls=ls,\n",
    "             color='green')\n",
    "\n",
    "# including lower limits\n",
    "lolims = np.zeros(x.shape)\n",
    "lolims[[2, 4, 8]] = True\n",
    "plt.errorbar(x, y + 1.0, xerr=xerr, yerr=yerr, lolims=lolims, ls=ls,\n",
    "             color='red')\n",
    "\n",
    "# including upper and lower limits\n",
    "plt.errorbar(x, y + 1.5, marker='o', ms=8, xerr=xerr, yerr=yerr,\n",
    "             lolims=lolims, uplims=uplims, ls=ls, color='magenta')\n",
    "\n",
    "# including xlower and xupper limits\n",
    "xerr = 0.2\n",
    "yerr = np.zeros(x.shape) + 0.2\n",
    "yerr[[3, 6]] = 0.3\n",
    "xlolims = lolims\n",
    "xuplims = uplims\n",
    "lolims = np.zeros(x.shape)\n",
    "uplims = np.zeros(x.shape)\n",
    "lolims[[6]] = True\n",
    "uplims[[3]] = True\n",
    "plt.errorbar(x, y + 2.1, marker='o', ms=8, xerr=xerr, yerr=yerr,\n",
    "             xlolims=xlolims, xuplims=xuplims, uplims=uplims, lolims=lolims,\n",
    "             ls='none', mec='blue', capsize=0, color='cyan')\n",
    "\n",
    "ax.set_xlim((0, 5.5))\n",
    "ax.set_title('Errorbar upper and lower limits')\n",
    "plt.show()"
   ]
  },
  {
   "cell_type": "code",
   "execution_count": null,
   "metadata": {},
   "outputs": [],
   "source": [
    "from types import SimpleNamespace\n",
    "from pathlib import Path\n",
    "from pprint import pprint\n",
    "\n",
    "args = SimpleNamespace()\n",
    "args.data_root = \"~/automl-meta-learning/data/miniImagenet\"\n",
    "\n",
    "args.data_root = Path(args.data_root).expanduser()\n",
    "\n",
    "print(args)\n",
    "\n",
    "#pprint(dir(args.data_root))\n",
    "print(args.data_root.name)\n",
    "print('miniImagenet' in args.data_root.name)"
   ]
  },
  {
   "cell_type": "code",
   "execution_count": null,
   "metadata": {},
   "outputs": [],
   "source": [
    "## sampling N classes for len(meta-set)\n",
    "# In sampling without replacement, each sample unit of \n",
    "# the population has only one chance to be selected in the sample.\n",
    "# because you are NOT replacing what you removed.\n",
    "\n",
    "import random\n",
    "\n",
    "N = 5\n",
    "len_meta_set = 64\n",
    "sample = random.sample(range(0, len_meta_set), N)\n",
    "\n",
    "print( sample )\n",
    "\n",
    "for i,n in enumerate(sample):\n",
    "    print(f'i={i}\\nn={n}\\n')"
   ]
  },
  {
   "cell_type": "code",
   "execution_count": null,
   "metadata": {
    "tags": []
   },
   "outputs": [],
   "source": [
    "# iterator https://www.programiz.com/python-programming/iterator\n",
    "\n",
    "class Counter:\n",
    "\n",
    "    def __init__(self, max=0):\n",
    "        self.max = max # returns up to and including that number\n",
    "\n",
    "    def __iter__(self):\n",
    "        self.n = 0\n",
    "        return self\n",
    "\n",
    "    def __next__(self):\n",
    "        if self.n <= self.max:\n",
    "            current_count = self.n\n",
    "            self.n += 1\n",
    "            print(f'current_count = {current_count}')\n",
    "            print(f'self.n = {self.n}')\n",
    "            print(self.n is current_count)\n",
    "            return current_count\n",
    "        else:\n",
    "            raise StopIteration\n",
    "\n",
    "## test it\n",
    "\n",
    "counter = iter(Counter(max=0))\n",
    "for count in counter:\n",
    "    print(f'count = {count}')"
   ]
  },
  {
   "cell_type": "code",
   "execution_count": null,
   "metadata": {
    "tags": []
   },
   "outputs": [],
   "source": [
    "from tqdm import tqdm\n",
    "\n",
    "print(tqdm)\n",
    "\n",
    "lst = range(3)\n",
    "print(type(lst))\n",
    "\n",
    "with tqdm(iter(lst), total=5) as tlist:\n",
    "    print(f'tlist = {type(tlist)}')\n",
    "    for i in tlist:\n",
    "        print(i)"
   ]
  },
  {
   "cell_type": "code",
   "execution_count": null,
   "metadata": {
    "tags": [
     "outputPrepend"
    ]
   },
   "outputs": [],
   "source": [
    "from tqdm import tqdm\n",
    "\n",
    "class Plus2:\n",
    "\n",
    "    def __init__(self, max=0):\n",
    "        self.max = max # returns up to and including that number\n",
    "\n",
    "    def __iter__(self):\n",
    "        self.it = 0\n",
    "        self.tot = 0\n",
    "        return self\n",
    "\n",
    "    def __next__(self):\n",
    "        if self.it <= self.max:\n",
    "            self.it += 1\n",
    "            self.tot += 2\n",
    "            return self.tot\n",
    "        else:\n",
    "            raise StopIteration\n",
    "\n",
    "    def __len__(self):\n",
    "        return self.max\n",
    "\n",
    "##\n",
    "counter = iter(Plus2(max=int(100000)))\n",
    "with tqdm(counter, total=len(counter)) as tqcounter:\n",
    "    for idx, pow2 in enumerate(tqcounter):\n",
    "        print()\n",
    "        print(f'idx = {idx}')\n",
    "        print(f'powd2 = {pow2}')\n",
    "        pass"
   ]
  },
  {
   "cell_type": "code",
   "execution_count": null,
   "metadata": {
    "tags": []
   },
   "outputs": [],
   "source": [
    "from tqdm import tqdm\n",
    "\n",
    "for i in tqdm(range(int(9e6))):\n",
    "    pass"
   ]
  },
  {
   "cell_type": "code",
   "execution_count": null,
   "metadata": {
    "tags": []
   },
   "outputs": [],
   "source": [
    "from tqdm import tqdm\n",
    "\n",
    "import time\n",
    "\n",
    "with tqdm(range(int(5))) as trange:\n",
    "    for i in trange:\n",
    "        print(f'\\ni = {i}')\n",
    "        print('done\\n')\n",
    "        time.sleep(1)\n",
    "        pass"
   ]
  },
  {
   "cell_type": "code",
   "execution_count": null,
   "metadata": {
    "tags": []
   },
   "outputs": [],
   "source": [
    "#zip, it aligns elements in one list to elements in the other\n",
    "\n",
    "l1 = [0,1,2]\n",
    "l2 = ['a','b','c']\n",
    "\n",
    "print(list(zip(l1,l2)))"
   ]
  },
  {
   "cell_type": "code",
   "execution_count": 5,
   "metadata": {
    "tags": []
   },
   "outputs": [
    {
     "output_type": "stream",
     "name": "stderr",
     "text": "0%|          | 0/2 [00:00<?, ?it/s]\n->i = 0\n\n 50%|█████     | 1/2 [00:00<00:00,  4.99it/s]\n->i = 1\n\n100%|██████████| 2/2 [00:00<00:00,  4.97it/s]\n->i = 2\n\n100%|██████████| 2/2 [00:00<00:00,  3.27it/s]\n--> DONE \u0007\n\n"
    }
   ],
   "source": [
    "from tqdm import tqdm\n",
    "import time\n",
    "\n",
    "lst = range(10000000)\n",
    "total = 2\n",
    "\n",
    "with tqdm(lst, total=total) as tlst:\n",
    "    i = 0\n",
    "    for _, element in enumerate(tlst):\n",
    "        print(f'\\n->i = {i}\\n')\n",
    "        time.sleep(0.2)\n",
    "        i += 1\n",
    "        if i >= total:\n",
    "            break\n",
    "\n",
    "print('\\n--> DONE \\a')"
   ]
  },
  {
   "cell_type": "code",
   "execution_count": 11,
   "metadata": {
    "tags": []
   },
   "outputs": [
    {
     "output_type": "stream",
     "name": "stderr",
     "text": "0%|          | 0/2 [00:00<?, ?it/s]\n->idx = 0\n\n 50%|█████     | 1/2 [00:00<00:00,  4.98it/s]\n->idx = 1\n\n100%|██████████| 2/2 [00:00<00:00,  4.97it/s]\n->idx = 2\n\n100%|██████████| 2/2 [00:00<00:00,  3.30it/s]\n--> DONE \u0007\n\n"
    }
   ],
   "source": [
    "from tqdm import tqdm\n",
    "import time\n",
    "\n",
    "lst = range(10000000)\n",
    "total = 2\n",
    "\n",
    "with tqdm(lst, total=total) as tlst:\n",
    "    for idx, element in enumerate(tlst):\n",
    "        print(f'\\n->idx = {idx}\\n')\n",
    "        time.sleep(0.2)\n",
    "        if idx >= total:\n",
    "            break\n",
    "\n",
    "print('\\n--> DONE \\a')"
   ]
  },
  {
   "cell_type": "code",
   "execution_count": 9,
   "metadata": {
    "tags": []
   },
   "outputs": [
    {
     "output_type": "stream",
     "name": "stderr",
     "text": "0%|          | 0/2 [00:00<?, ?it/s]\n->idx = 0\n\n 50%|█████     | 1/2 [00:00<00:00,  4.87it/s]\n->idx = 1\n\n100%|██████████| 2/2 [00:00<00:00,  4.85it/s]\n--> DONE \u0007\n\n"
    }
   ],
   "source": [
    "from tqdm import tqdm\n",
    "import time\n",
    "\n",
    "lst = range(10000000)\n",
    "total = 2\n",
    "\n",
    "with tqdm(range(total)) as tcounter:\n",
    "    lst = iter(lst)\n",
    "    for idx, element in enumerate(tcounter):\n",
    "        print(f'\\n->idx = {idx}\\n')\n",
    "        time.sleep(0.2)\n",
    "\n",
    "print('\\n--> DONE \\a')"
   ]
  },
  {
   "cell_type": "code",
   "execution_count": null,
   "metadata": {},
   "outputs": [],
   "source": []
  }
 ],
 "metadata": {
  "kernelspec": {
   "display_name": "Python 3",
   "language": "python",
   "name": "python3"
  },
  "language_info": {
   "codemirror_mode": {
    "name": "ipython",
    "version": 3
   },
   "file_extension": ".py",
   "mimetype": "text/x-python",
   "name": "python",
   "nbconvert_exporter": "python",
   "pygments_lexer": "ipython3",
   "version": "3.8.2-final"
  },
  "pycharm": {
   "stem_cell": {
    "cell_type": "raw",
    "metadata": {
     "collapsed": false
    },
    "source": []
   }
  }
 },
 "nbformat": 4,
 "nbformat_minor": 4
}