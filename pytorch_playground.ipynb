{
 "cells": [
  {
   "cell_type": "code",
   "execution_count": 1,
   "metadata": {
    "collapsed": true,
    "jupyter": {
     "outputs_hidden": true
    },
    "pycharm": {
     "name": "#%%\n"
    }
   },
   "outputs": [
    {
     "name": "stdout",
     "output_type": "stream",
     "text": [
      "a.grad = tensor([-6.])\n",
      "b.grad = tensor([-8.])\n"
     ]
    }
   ],
   "source": [
    "# Question: Do detached() tensors track their own gradients seperately?\n",
    "# Ans: Yes!\n",
    "# https://discuss.pytorch.org/t/why-is-the-clone-operation-part-of-the-computation-graph-is-it-even-differentiable/67054/11\n",
    "\n",
    "import torch\n",
    "\n",
    "a = torch.tensor([2.0], requires_grad=True)\n",
    "b = a.detach()\n",
    "b.requires_grad = True\n",
    "\n",
    "la = (5.0 - a)**2\n",
    "la.backward()\n",
    "print(f'a.grad = {a.grad}')\n",
    "\n",
    "lb = (6.0 - b)**2\n",
    "lb.backward()\n",
    "print(f'b.grad = {b.grad}')"
   ]
  },
  {
   "cell_type": "code",
   "execution_count": 2,
   "metadata": {},
   "outputs": [
    {
     "name": "stdout",
     "output_type": "stream",
     "text": [
      "OrderedDict([('fc0', Linear(in_features=4, out_features=4, bias=True)), ('ReLU0', ReLU()), ('fc1', Linear(in_features=4, out_features=1, bias=True))])\n",
      "OrderedDict()\n",
      "True\n",
      "False\n",
      "OrderedDict([('fc0', Linear(in_features=4, out_features=4, bias=True)), ('ReLU0', ReLU()), ('fc1', Linear(in_features=4, out_features=1, bias=True))])\n",
      "\n",
      "fc0.weight tensor(1.1314, grad_fn=<NormBackward0>)\n",
      "fc0.bias tensor(0.6966, grad_fn=<NormBackward0>)\n",
      "fc1.weight tensor(0.4997, grad_fn=<NormBackward0>)\n",
      "fc1.bias tensor(0.2458, grad_fn=<NormBackward0>)\n",
      "\n"
     ]
    },
    {
     "ename": "KeyError",
     "evalue": "0",
     "output_type": "error",
     "traceback": [
      "\u001B[0;31m---------------------------------------------------------------------------\u001B[0m",
      "\u001B[0;31mKeyError\u001B[0m                                  Traceback (most recent call last)",
      "\u001B[0;32m<ipython-input-2-be4bf9889616>\u001B[0m in \u001B[0;36m<module>\u001B[0;34m\u001B[0m\n\u001B[1;32m     23\u001B[0m \u001B[0mprint\u001B[0m\u001B[0;34m(\u001B[0m\u001B[0;34m)\u001B[0m\u001B[0;34m\u001B[0m\u001B[0;34m\u001B[0m\u001B[0m\n\u001B[1;32m     24\u001B[0m \u001B[0;31m#mdl._modules['fc0'] = nn.Linear(10,11)\u001B[0m\u001B[0;34m\u001B[0m\u001B[0;34m\u001B[0m\u001B[0;34m\u001B[0m\u001B[0m\n\u001B[0;32m---> 25\u001B[0;31m \u001B[0mmdl\u001B[0m\u001B[0;34m.\u001B[0m\u001B[0m_modules\u001B[0m\u001B[0;34m[\u001B[0m\u001B[0;36m0\u001B[0m\u001B[0;34m]\u001B[0m\u001B[0;34m\u001B[0m\u001B[0;34m\u001B[0m\u001B[0m\n\u001B[0m\u001B[1;32m     26\u001B[0m \u001B[0;34m\u001B[0m\u001B[0m\n\u001B[1;32m     27\u001B[0m \u001B[0;32mfor\u001B[0m \u001B[0mname\u001B[0m\u001B[0;34m,\u001B[0m \u001B[0mw\u001B[0m \u001B[0;32min\u001B[0m \u001B[0mmdl\u001B[0m\u001B[0;34m.\u001B[0m\u001B[0mnamed_parameters\u001B[0m\u001B[0;34m(\u001B[0m\u001B[0;34m)\u001B[0m\u001B[0;34m:\u001B[0m\u001B[0;34m\u001B[0m\u001B[0;34m\u001B[0m\u001B[0m\n",
      "\u001B[0;31mKeyError\u001B[0m: 0"
     ]
    }
   ],
   "source": [
    "import torch\n",
    "import torch.nn as nn\n",
    "\n",
    "from collections import OrderedDict\n",
    "\n",
    "params = OrderedDict([\n",
    "    ('fc0', nn.Linear(in_features=4,out_features=4)),\n",
    "    ('ReLU0', nn.ReLU()),\n",
    "    ('fc1', nn.Linear(in_features=4,out_features=1))\n",
    "])\n",
    "mdl = nn.Sequential(params)\n",
    "\n",
    "print(params)\n",
    "print(mdl._parameters)\n",
    "print(params == params)\n",
    "print(mdl._parameters == params)\n",
    "print(mdl._modules)\n",
    "\n",
    "print()\n",
    "for name, w in mdl.named_parameters():\n",
    "    print(name, w.norm(2))\n",
    "\n",
    "print()    \n",
    "#mdl._modules['fc0'] = nn.Linear(10,11)\n",
    "mdl._modules[0]\n",
    "\n",
    "for name, w in mdl.named_parameters():\n",
    "    print(name, w.norm(2))"
   ]
  },
  {
   "cell_type": "code",
   "execution_count": null,
   "metadata": {},
   "outputs": [],
   "source": [
    "## Q: are parameters are in computation graph?\n",
    "import torch\n",
    "import torch.nn as nn\n",
    "from torchviz import make_dot\n",
    "\n",
    "from collections import OrderedDict\n",
    "\n",
    "fc0 = nn.Linear(in_features=3,out_features=1)\n",
    "params = [('fc0', fc0)]\n",
    "mdl = nn.Sequential(OrderedDict(params))\n",
    "\n",
    "x = torch.randn(1,3)\n",
    "y = torch.randn(1)\n",
    "\n",
    "l = ( mdl(x) - y )**2\n",
    "\n",
    "# make_dot(l,{x:'x',y:'y','fc0':fc0})\n",
    "print(fc0.weight)\n",
    "print(fc0.bias)\n",
    "print(fc0.weight.to_tens)\n",
    "print()\n",
    "# make_dot(l,{x:'x',y:'y','fc0':fc0})\n",
    "make_dot(l,{'x':x,'y':y})\n",
    "make_dot(l)"
   ]
  },
  {
   "cell_type": "code",
   "execution_count": null,
   "metadata": {},
   "outputs": [],
   "source": [
    "'''\n",
    "expand\n",
    "'''\n",
    "\n",
    "import torch\n",
    "\n",
    "x = torch.randn([2,3,4,5])\n",
    "\n",
    "# h_0 of shape (num_layers * num_directions, batch, hidden_size)\n",
    "h = torch.randn([1,4,8])\n",
    "\n",
    "x_mean = x.mean()\n",
    "print(x_mean.size())\n",
    "print(x_mean)\n",
    "x = x_mean.expand_as(h)\n",
    "print(x.size())\n",
    "print(x)"
   ]
  },
  {
   "cell_type": "code",
   "execution_count": null,
   "metadata": {},
   "outputs": [],
   "source": [
    "import torch\n",
    "\n",
    "use_cuda = torch.cuda.is_available()\n",
    "device = torch.device(\"cuda\" if use_cuda else \"cpu\")\n",
    "print(device)\n",
    "type(device)\n",
    "print(device == 'cpu')\n",
    "device.type"
   ]
  },
  {
   "cell_type": "code",
   "execution_count": null,
   "metadata": {},
   "outputs": [],
   "source": [
    "# THIS WORKS\n",
    "\n",
    "from torch.utils.tensorboard import SummaryWriter\n",
    "\n",
    "from pathlib import Path\n",
    "\n",
    "\n",
    "#log_dir (string) – Save directory location. \n",
    "#Default is runs/CURRENT_DATETIME_HOSTNAME, which changes after each run.\n",
    "\n",
    "tb = SummaryWriter()\n",
    "tb.add_scalar('loss', 111)"
   ]
  },
  {
   "cell_type": "code",
   "execution_count": null,
   "metadata": {},
   "outputs": [],
   "source": [
    "from torch.utils.tensorboard import SummaryWriter\n",
    "\n",
    "from pathlib import Path\n",
    "\n",
    "\n",
    "def CURRENT_DATETIME_HOSTNAME(comment=''):\n",
    "    #if not log_dir:\n",
    "    import socket\n",
    "    import os\n",
    "    from datetime import datetime\n",
    "    current_time = datetime.now().strftime('%b%d_%H-%M-%S')\n",
    "    log_dir = os.path.join('runs', current_time + '_' + socket.gethostname() + comment)\n",
    "    return Path(log_dir)\n",
    "\n",
    "#log_dir (string) – Save directory location. \n",
    "#Default is runs/CURRENT_DATETIME_HOSTNAME, which changes after each run.\n",
    "# tensorboard --logdir=runs\n",
    "log_dir = (Path('~/automl-meta-learning/') / CURRENT_DATETIME_HOSTNAME()).expanduser()\n",
    "print(log_dir)\n",
    "tb = SummaryWriter(log_dir=log_dir)\n",
    "tb.add_scalar('loss', 15)"
   ]
  },
  {
   "cell_type": "code",
   "execution_count": null,
   "metadata": {},
   "outputs": [],
   "source": [
    "# download mini-imagenet automatically\n",
    "\n",
    "#from torchvision.utils import download_and_extract_archive\n",
    "\n",
    "import torchvision.utils as utils\n",
    "\n",
    "print(utils)\n",
    "#print(download_and_extract_archive)"
   ]
  },
  {
   "cell_type": "code",
   "execution_count": null,
   "metadata": {},
   "outputs": [],
   "source": [
    "#torch concat, https://pytorch.org/docs/stable/torch.html#torch.cat\n",
    "# Concatenates the given sequence of seq tensors in the given dimension. \n",
    "# All tensors must either have the same shape (except in the concatenating dimension) or be empty.\n",
    "import torch\n",
    "\n",
    "g1 = torch.randn(3,2)\n",
    "g2 = torch.randn(4,2)\n",
    "\n",
    "g3 = torch.randn(4,2,3)\n",
    "\n",
    "grads = [g1, g2]\n",
    "print(g1.view(-1).size())\n",
    "print(g2.view(-1).size())\n",
    "print(g3.view(-1).size())\n",
    "#print(g3.view(-1))\n",
    "\n",
    "grads = torch.cat(grads, dim=0)\n",
    "print(grads)\n",
    "print(grads.size())\n",
    "print(grads.mean())\n",
    "print(grads.std())\n",
    "\n",
    "# torch stack, https://pytorch.org/docs/stable/torch.html#torch.stack\n",
    "# Concatenates sequence of tensors along a new dimension. \n",
    "# All tensors need to be of the same size.\n",
    "# torch.stack([g1,g2], dim=0)"
   ]
  },
  {
   "cell_type": "code",
   "execution_count": null,
   "metadata": {},
   "outputs": [],
   "source": [
    "import torch\n",
    "\n",
    "a = torch.tensor([1,2,3.], requires_grad=True)\n",
    "a_detached = a.detach()\n",
    "print(a_detached.is_leaf)\n",
    "a_detached_sum = a.sum()\n",
    "print(c.is_leaf)\n",
    "d = c.detach()\n",
    "print(d.is_leaf)"
   ]
  },
  {
   "cell_type": "code",
   "execution_count": null,
   "metadata": {},
   "outputs": [],
   "source": [
    "import torch\n",
    "\n",
    "from types import SimpleNamespace\n",
    "from pathlib import Path\n",
    "from pprint import pprint\n",
    "\n",
    "x = torch.empty([1,2,3])\n",
    "print(x.size())\n",
    "\n",
    "args = SimpleNamespace()\n",
    "args.data_root = \"~/automl-meta-learning/data/miniImagenet\"\n",
    "\n",
    "#n1313361300001299.jpg\n",
    "args.data_root = Path(args.data_root).expanduser()"
   ]
  },
  {
   "cell_type": "code",
   "execution_count": null,
   "metadata": {},
   "outputs": [],
   "source": [
    "import torch\n",
    "\n",
    "CHW = 3,12,12\n",
    "x = torch.randn(CHW)\n",
    "y = torch.randn(CHW)\n",
    "\n",
    "new = [x,y]\n",
    "new = torch.stack(new)\n",
    "print(x.size())\n",
    "print(new.size())"
   ]
  },
  {
   "cell_type": "code",
   "execution_count": null,
   "metadata": {},
   "outputs": [],
   "source": [
    "print('a');print('b')"
   ]
  },
  {
   "cell_type": "code",
   "execution_count": null,
   "metadata": {},
   "outputs": [],
   "source": [
    "# conver list to tensor\n",
    "\n",
    "import torch\n",
    "\n",
    "x = torch.tensor([1,2,3.])\n",
    "print(x)"
   ]
  },
  {
   "cell_type": "code",
   "execution_count": null,
   "metadata": {},
   "outputs": [],
   "source": [
    "    from torchvision.transforms import Compose, Resize, ToTensor\n",
    "\n",
    "    import torchmeta\n",
    "    from torchmeta.datasets.helpers import miniimagenet\n",
    "\n",
    "    from pathlib import Path\n",
    "    from types import SimpleNamespace\n",
    "\n",
    "    from tqdm import tqdm\n",
    "\n",
    "    ## get args\n",
    "    args = SimpleNamespace(episodes=5,n_classes=5,k_shot=5,k_eval=15,meta_batch_size=1,n_workers=4)\n",
    "    args.data_root = Path(\"~/automl-meta-learning/data/miniImagenet\").expanduser()\n",
    "\n",
    "    ## get meta-batch loader\n",
    "    train_transform = Compose([Resize(84), ToTensor()])\n",
    "    dataset = miniimagenet( \n",
    "        args.data_root, \n",
    "        ways=args.n_classes, \n",
    "        shots=args.k_shot, \n",
    "        test_shots=args.k_eval,\n",
    "        meta_split='train',\n",
    "        download=False)\n",
    "    dataloader = torchmeta.utils.data.BatchMetaDataLoader(\n",
    "        dataset, \n",
    "        batch_size=args.meta_batch_size,\n",
    "        num_workers=args.n_workers)\n",
    "\n",
    "    with tqdm(dataset):\n",
    "        print(f'len(dataloader)= {len(dataloader)}')\n",
    "        for episode, batch in enumerate(dataloader):\n",
    "            print(f'episode = {episode}') \n",
    "            train_inputs, train_labels = batch[\"train\"]\n",
    "            print(f'train_labels[0] = {train_labels[0]}')\n",
    "            print(f'train_inputs.size() = {train_inputs.size()}')\n",
    "            pass\n",
    "            if episode >= args.episodes:\n",
    "                break"
   ]
  },
  {
   "cell_type": "code",
   "execution_count": null,
   "metadata": {
    "tags": []
   },
   "outputs": [],
   "source": [
    "# zip tensors\n",
    "\n",
    "import torch\n",
    "\n",
    "x = torch.tensor([1.,2.,3.])\n",
    "y = torch.tensor([1,2,3])\n",
    "\n",
    "print(list(zip(x,y)))\n",
    "\n",
    "xx = torch.randn(2,3,84,84)\n",
    "yy = torch.randn(2,3,32,32)\n",
    "\n",
    "print(len(list(zip(xx,yy))))"
   ]
  },
  {
   "cell_type": "code",
   "execution_count": null,
   "outputs": [],
   "source": [
    "x = 2\n",
    "print(x)"
   ],
   "metadata": {
    "collapsed": false,
    "pycharm": {
     "name": "#%%\n"
    }
   }
  },
  {
   "cell_type": "code",
   "execution_count": 3,
   "metadata": {},
   "outputs": [
    {
     "name": "stdout",
     "output_type": "stream",
     "text": [
      "Starting Sinusioid cell\n",
      "batch_size = 16\n",
      "len(dataset) = 100\n",
      "len(dataloader) = 7\n",
      "\n",
      "batch_idx = 0\n",
      "train_inputs.shape = torch.Size([16, 5, 1])\n",
      "train_targets.shape = torch.Size([16, 5, 1])\n",
      "test_inputs.shape = torch.Size([16, 15, 1])\n",
      "test_targets.shape = torch.Size([16, 15, 1])\n",
      "batch_idx = 1\n",
      "train_inputs.shape = torch.Size([16, 5, 1])\n",
      "train_targets.shape = torch.Size([16, 5, 1])\n",
      "test_inputs.shape = torch.Size([16, 15, 1])\n",
      "test_targets.shape = torch.Size([16, 15, 1])\n",
      "DONE\u0007\n"
     ]
    }
   ],
   "source": [
    "## sinusioid function\n",
    "print('Starting Sinusioid cell')\n",
    "\n",
    "from torchmeta.toy import Sinusoid\n",
    "from torchmeta.utils.data import BatchMetaDataLoader\n",
    "from torchmeta.transforms import ClassSplitter\n",
    "\n",
    "#from tqdm import tqdm\n",
    "\n",
    "batch_size=16\n",
    "shots = 5\n",
    "test_shots = 15\n",
    "# dataset = torchmeta.toy.helpers.sinusoid(shots=shots, test_shots=tes_shots)\n",
    "metaset_dataset = Sinusoid(num_samples_per_task=shots+test_shots, num_tasks=100, noise_std=None)\n",
    "splitter_metset_dataset = ClassSplitter(\n",
    "        metaset_dataset,\n",
    "        num_train_per_class=shots,\n",
    "        num_test_per_class=test_shots,\n",
    "        shuffle=True)\n",
    "dataloader = BatchMetaDataLoader(splitter_metset_dataset, batch_size=batch_size, num_workers=4)\n",
    "\n",
    "print(f'batch_size = {batch_size}')\n",
    "print(f'len(dataset) = {len(metaset_dataset)}')\n",
    "print(f'len(dataloader) = {len(dataloader)}\\n')\n",
    "for batch_idx, batch in enumerate(dataloader):\n",
    "    print(f'batch_idx = {batch_idx}')\n",
    "    train_inputs, train_targets = batch['train']\n",
    "    test_inputs, test_targets = batch['test']\n",
    "    print(f'train_inputs.shape = {train_inputs.shape}')\n",
    "    print(f'train_targets.shape = {train_targets.shape}')\n",
    "    print(f'test_inputs.shape = {test_inputs.shape}')\n",
    "    print(f'test_targets.shape = {test_targets.shape}')\n",
    "    if batch_idx >= 1: # halt after 2 iterations\n",
    "        break\n",
    "\n",
    "print('DONE\\a')"
   ]
  },
  {
   "cell_type": "code",
   "execution_count": null,
   "outputs": [],
   "source": [
    "## notes of torchmeta\n",
    "\n",
    "from pathlib import Path\n",
    "import torchmeta\n",
    "\n",
    "# meta-set: creates collection of data-sets, D_meta = {D_1, ... Dn}\n",
    "print('\\n-- Sinusoid(MetaDataset)')\n",
    "metaset_sinusoid = torchmeta.toy.Sinusoid(num_samples_per_task=10, num_tasks=1_000_000, noise_std=None)\n",
    "print(f'type(metaset_sinusoid) = {type(metaset_sinusoid)}')\n",
    "print(f'len(metaset_sinusoid) = {len(metaset_sinusoid)}')\n",
    "print(f'metaset_sinusoid = {metaset_sinusoid}')\n",
    "\n",
    "# this is still a data set but helps implement forming D_i\n",
    "# i.e. the N-way, K-shot tasks/datasets we need.\n",
    "print('\\n-- MiniImagenet(CombinationMetaDataset)')\n",
    "data_path = Path('~/data').expanduser()\n",
    "metaset_miniimagenet = torchmeta.datasets.MiniImagenet(data_path, num_classes_per_task=5, meta_train=True, download=True)\n",
    "print(f'type(metaset_miniimagenet) = {type(metaset_miniimagenet)}')\n",
    "print(f'len(metaset_miniimagenet) = {len(metaset_miniimagenet)}')\n",
    "print(f'metaset_miniimagenet = {metaset_miniimagenet}')\n",
    "\n",
    "# Splits the data-sets inside the meta-set into support/train & query/test sets\n",
    "dataset = metaset_miniimagenet\n",
    "dataset = torchmeta.transforms.ClassSplitter(dataset, num_train_per_class=1, num_test_per_class=15, shuffle=True)\n",
    "print(dataset)\n"
   ],
   "metadata": {
    "collapsed": false,
    "pycharm": {
     "name": "#%%\n"
    }
   }
  },
  {
   "cell_type": "code",
   "execution_count": 9,
   "outputs": [
    {
     "ename": "AttributeError",
     "evalue": "module 'torch.random' has no attribute 'uniform'",
     "output_type": "error",
     "traceback": [
      "\u001B[0;31m---------------------------------------------------------------------------\u001B[0m",
      "\u001B[0;31mAttributeError\u001B[0m                            Traceback (most recent call last)",
      "\u001B[0;32m<ipython-input-9-b7ee6d17e49b>\u001B[0m in \u001B[0;36m<module>\u001B[0;34m\u001B[0m\n\u001B[1;32m      3\u001B[0m \u001B[0;32mimport\u001B[0m \u001B[0mnumpy\u001B[0m \u001B[0;32mas\u001B[0m \u001B[0mnp\u001B[0m\u001B[0;34m\u001B[0m\u001B[0;34m\u001B[0m\u001B[0m\n\u001B[1;32m      4\u001B[0m \u001B[0;34m\u001B[0m\u001B[0m\n\u001B[0;32m----> 5\u001B[0;31m \u001B[0mx\u001B[0m \u001B[0;34m=\u001B[0m \u001B[0mtorch\u001B[0m\u001B[0;34m.\u001B[0m\u001B[0mrandom\u001B[0m\u001B[0;34m.\u001B[0m\u001B[0muniform\u001B[0m\u001B[0;34m(\u001B[0m\u001B[0;36m0\u001B[0m\u001B[0;34m,\u001B[0m\u001B[0;36m2\u001B[0m\u001B[0;34m,\u001B[0m\u001B[0;36m3\u001B[0m\u001B[0;34m)\u001B[0m\u001B[0;34m\u001B[0m\u001B[0;34m\u001B[0m\u001B[0m\n\u001B[0m\u001B[1;32m      6\u001B[0m \u001B[0;34m\u001B[0m\u001B[0m\n\u001B[1;32m      7\u001B[0m \u001B[0mprint\u001B[0m\u001B[0;34m(\u001B[0m\u001B[0mx\u001B[0m\u001B[0;34m)\u001B[0m\u001B[0;34m\u001B[0m\u001B[0;34m\u001B[0m\u001B[0m\n",
      "\u001B[0;31mAttributeError\u001B[0m: module 'torch.random' has no attribute 'uniform'"
     ]
    }
   ],
   "source": [
    "import torch\n",
    "import torch.nn as nn\n",
    "import numpy as np\n",
    "\n",
    "x = np.random.uniform()\n",
    "\n",
    "x = torch.rand()\n",
    "\n",
    "print(x)\n",
    "\n",
    "l = nn.Linear(1,1)\n",
    "\n",
    "y = l(x)\n",
    "\n",
    "print(y)"
   ],
   "metadata": {
    "collapsed": false,
    "pycharm": {
     "name": "#%%\n"
    }
   }
  },
  {
   "cell_type": "code",
   "execution_count": 26,
   "outputs": [
    {
     "name": "stdout",
     "output_type": "stream",
     "text": [
      "tensor([[48.2991, 74.6279],\n",
      "        [19.4752, 11.2069],\n",
      "        [27.0803, 91.2137],\n",
      "        [53.8427, 76.5450],\n",
      "        [31.8185, 50.7728]], grad_fn=<EluBackward>)\n"
     ]
    },
    {
     "ename": "TypeError",
     "evalue": "write() argument must be str, not bytes",
     "output_type": "error",
     "traceback": [
      "\u001B[0;31m---------------------------------------------------------------------------\u001B[0m",
      "\u001B[0;31mTypeError\u001B[0m                                 Traceback (most recent call last)",
      "\u001B[0;32m<ipython-input-26-b72759287097>\u001B[0m in \u001B[0;36m<module>\u001B[0;34m\u001B[0m\n\u001B[1;32m     37\u001B[0m \u001B[0mpath\u001B[0m\u001B[0;34m.\u001B[0m\u001B[0mmkdir\u001B[0m\u001B[0;34m(\u001B[0m\u001B[0mparents\u001B[0m\u001B[0;34m=\u001B[0m\u001B[0;32mTrue\u001B[0m\u001B[0;34m,\u001B[0m \u001B[0mexist_ok\u001B[0m\u001B[0;34m=\u001B[0m\u001B[0;32mTrue\u001B[0m\u001B[0;34m)\u001B[0m\u001B[0;34m\u001B[0m\u001B[0;34m\u001B[0m\u001B[0m\n\u001B[1;32m     38\u001B[0m \u001B[0;32mwith\u001B[0m \u001B[0mopen\u001B[0m\u001B[0;34m(\u001B[0m\u001B[0mpath\u001B[0m \u001B[0;34m/\u001B[0m \u001B[0;34m'db'\u001B[0m\u001B[0;34m,\u001B[0m\u001B[0;34m'w'\u001B[0m\u001B[0;34m)\u001B[0m \u001B[0;32mas\u001B[0m \u001B[0mfile\u001B[0m\u001B[0;34m:\u001B[0m \u001B[0;31m# create file and truncate to length 0, only writing allowed\u001B[0m\u001B[0;34m\u001B[0m\u001B[0;34m\u001B[0m\u001B[0m\n\u001B[0;32m---> 39\u001B[0;31m     \u001B[0mtorch\u001B[0m\u001B[0;34m.\u001B[0m\u001B[0msave\u001B[0m\u001B[0;34m(\u001B[0m\u001B[0mdb\u001B[0m\u001B[0;34m,\u001B[0m \u001B[0mfile\u001B[0m\u001B[0;34m)\u001B[0m\u001B[0;34m\u001B[0m\u001B[0;34m\u001B[0m\u001B[0m\n\u001B[0m\u001B[1;32m     40\u001B[0m \u001B[0;34m\u001B[0m\u001B[0m\n",
      "\u001B[0;32m~/anaconda3/envs/automl-meta-learning/lib/python3.8/site-packages/torch/serialization.py\u001B[0m in \u001B[0;36msave\u001B[0;34m(obj, f, pickle_module, pickle_protocol, _use_new_zipfile_serialization)\u001B[0m\n\u001B[1;32m    368\u001B[0m \u001B[0;34m\u001B[0m\u001B[0m\n\u001B[1;32m    369\u001B[0m     \u001B[0;32mwith\u001B[0m \u001B[0m_open_file_like\u001B[0m\u001B[0;34m(\u001B[0m\u001B[0mf\u001B[0m\u001B[0;34m,\u001B[0m \u001B[0;34m'wb'\u001B[0m\u001B[0;34m)\u001B[0m \u001B[0;32mas\u001B[0m \u001B[0mopened_file\u001B[0m\u001B[0;34m:\u001B[0m\u001B[0;34m\u001B[0m\u001B[0;34m\u001B[0m\u001B[0m\n\u001B[0;32m--> 370\u001B[0;31m         \u001B[0m_legacy_save\u001B[0m\u001B[0;34m(\u001B[0m\u001B[0mobj\u001B[0m\u001B[0;34m,\u001B[0m \u001B[0mopened_file\u001B[0m\u001B[0;34m,\u001B[0m \u001B[0mpickle_module\u001B[0m\u001B[0;34m,\u001B[0m \u001B[0mpickle_protocol\u001B[0m\u001B[0;34m)\u001B[0m\u001B[0;34m\u001B[0m\u001B[0;34m\u001B[0m\u001B[0m\n\u001B[0m\u001B[1;32m    371\u001B[0m \u001B[0;34m\u001B[0m\u001B[0m\n\u001B[1;32m    372\u001B[0m \u001B[0;34m\u001B[0m\u001B[0m\n",
      "\u001B[0;32m~/anaconda3/envs/automl-meta-learning/lib/python3.8/site-packages/torch/serialization.py\u001B[0m in \u001B[0;36m_legacy_save\u001B[0;34m(obj, f, pickle_module, pickle_protocol)\u001B[0m\n\u001B[1;32m    436\u001B[0m     )\n\u001B[1;32m    437\u001B[0m \u001B[0;34m\u001B[0m\u001B[0m\n\u001B[0;32m--> 438\u001B[0;31m     \u001B[0mpickle_module\u001B[0m\u001B[0;34m.\u001B[0m\u001B[0mdump\u001B[0m\u001B[0;34m(\u001B[0m\u001B[0mMAGIC_NUMBER\u001B[0m\u001B[0;34m,\u001B[0m \u001B[0mf\u001B[0m\u001B[0;34m,\u001B[0m \u001B[0mprotocol\u001B[0m\u001B[0;34m=\u001B[0m\u001B[0mpickle_protocol\u001B[0m\u001B[0;34m)\u001B[0m\u001B[0;34m\u001B[0m\u001B[0;34m\u001B[0m\u001B[0m\n\u001B[0m\u001B[1;32m    439\u001B[0m     \u001B[0mpickle_module\u001B[0m\u001B[0;34m.\u001B[0m\u001B[0mdump\u001B[0m\u001B[0;34m(\u001B[0m\u001B[0mPROTOCOL_VERSION\u001B[0m\u001B[0;34m,\u001B[0m \u001B[0mf\u001B[0m\u001B[0;34m,\u001B[0m \u001B[0mprotocol\u001B[0m\u001B[0;34m=\u001B[0m\u001B[0mpickle_protocol\u001B[0m\u001B[0;34m)\u001B[0m\u001B[0;34m\u001B[0m\u001B[0;34m\u001B[0m\u001B[0m\n\u001B[1;32m    440\u001B[0m     \u001B[0mpickle_module\u001B[0m\u001B[0;34m.\u001B[0m\u001B[0mdump\u001B[0m\u001B[0;34m(\u001B[0m\u001B[0msys_info\u001B[0m\u001B[0;34m,\u001B[0m \u001B[0mf\u001B[0m\u001B[0;34m,\u001B[0m \u001B[0mprotocol\u001B[0m\u001B[0;34m=\u001B[0m\u001B[0mpickle_protocol\u001B[0m\u001B[0;34m)\u001B[0m\u001B[0;34m\u001B[0m\u001B[0;34m\u001B[0m\u001B[0m\n",
      "\u001B[0;31mTypeError\u001B[0m: write() argument must be str, not bytes"
     ]
    }
   ],
   "source": [
    "# saving tensors for my data set\n",
    "import torch\n",
    "import torch.nn as nn\n",
    "\n",
    "from collections import OrderedDict\n",
    "\n",
    "from pathlib import Path\n",
    "\n",
    "# N x's of size D=1 in an interval\n",
    "Din,Dout = 3,2\n",
    "num_samples = 5\n",
    "lb,ub = -1,1\n",
    "X = (ub - lb) * torch.rand([num_samples,Din]) + lb  # rand gives uniform in [0,1) range\n",
    "\n",
    "# N y's of size D=1 (from output of NN)\n",
    "f = nn.Sequential(OrderedDict([\n",
    "    ('f1', nn.Linear(Din,Dout)),\n",
    "    ('out', nn.SELU())\n",
    "]))\n",
    "\n",
    "# fill cnn with Gaussian\n",
    "mu1,std1 = 5,7.5\n",
    "f.f1.weight.data.normal_(mu1,std1)\n",
    "f.f1.bias.data.normal_(mu1,std1)\n",
    "\n",
    "# get outputs\n",
    "Y = f(X)\n",
    "print(Y)\n",
    "\n",
    "# save tensors and cnn\n",
    "# https://stackoverflow.com/questions/1466000/difference-between-modes-a-a-w-w-and-r-in-built-in-open-function\n",
    "db = {\n",
    "    'X':X,\n",
    "    'Y':Y\n",
    "}\n",
    "path = Path(f'~/data/tmp/SinData_mu1{mu1}_std1{std1}/').expanduser()\n",
    "path.mkdir(parents=True, exist_ok=True)\n",
    "with open(path / 'db','w') as file: # create file and truncate to length 0, only writing allowed\n",
    "    torch.save(db, file)"
   ],
   "metadata": {
    "collapsed": false,
    "pycharm": {
     "name": "#%%\n"
    }
   }
  },
  {
   "cell_type": "code",
   "execution_count": 8,
   "outputs": [
    {
     "name": "stdout",
     "output_type": "stream",
     "text": [
      "False\n",
      "[[ True  True  True  True  True]]\n",
      "[[ True  True  True  True  True]]\n",
      "[[ True  True  True  True  True]]\n",
      "done\n"
     ]
    }
   ],
   "source": [
    "# saving data in numpy\n",
    "\n",
    "import numpy as np\n",
    "import pickle\n",
    "from pathlib import Path\n",
    "\n",
    "path = Path('~/data/tmp/').expanduser()\n",
    "path.mkdir(parents=True, exist_ok=True)\n",
    "\n",
    "lb,ub = -1,1\n",
    "num_samples = 5\n",
    "x = np.random.uniform(low=lb,high=ub,size=(1,num_samples))\n",
    "y = x**2 + x + 2\n",
    "\n",
    "# using save (to npy), savez (to npz)\n",
    "np.save(path/'x', x)\n",
    "np.save(path/'y', y)\n",
    "np.savez(path/'db', x=x, y=y)\n",
    "with open(path/'db.pkl', 'wb') as db_file:\n",
    "    pickle.dump(obj={'x':x, 'y':y}, file=db_file)\n",
    "\n",
    "## using loading npy, npz files\n",
    "x_loaded = np.load(path/'x.npy')\n",
    "y_load = np.load(path/'y.npy')\n",
    "db = np.load(path/'db.npz')\n",
    "with open(path/'db.pkl', 'rb') as db_file:\n",
    "    db_pkl = pickle.load(db_file)\n",
    "\n",
    "print(x is x_loaded)\n",
    "print(x == x_loaded)\n",
    "print(x == db['x'])\n",
    "print(x == db_pkl['x'])\n",
    "print('done')"
   ],
   "metadata": {
    "collapsed": false,
    "pycharm": {
     "name": "#%%\n"
    }
   }
  },
  {
   "cell_type": "code",
   "execution_count": 37,
   "outputs": [
    {
     "name": "stdout",
     "output_type": "stream",
     "text": [
      "False\n",
      "[[ True  True  True  True  True]]\n"
     ]
    }
   ],
   "source": [
    "import numpy as np\n",
    "from pathlib import Path\n",
    "\n",
    "path = Path('~/data/tmp/').expanduser()\n",
    "path.mkdir(parents=True, exist_ok=True)\n",
    "\n",
    "lb,ub = -1,1\n",
    "num_samples = 5\n",
    "x = np.random.uniform(low=lb,high=ub,size=(1,num_samples))\n",
    "y = x**2 + x + 2\n",
    "\n",
    "np.save(path/'x', x)\n",
    "np.save(path/'y', y)\n",
    "\n",
    "x_loaded = np.load(path/'x.npy')\n",
    "y_load = np.load(path/'y.npy')\n",
    "\n",
    "print(x is x_loaded) # False\n",
    "print(x == x_loaded) # [[ True  True  True  True  True]]"
   ],
   "metadata": {
    "collapsed": false,
    "pycharm": {
     "name": "#%%\n"
    }
   }
  },
  {
   "cell_type": "code",
   "execution_count": 7,
   "outputs": [
    {
     "name": "stdout",
     "output_type": "stream",
     "text": [
      "tensor([[True, True, True],\n",
      "        [True, True, True]])\n",
      "tensor([[True, True, True]])\n",
      "tensor([[-0.9917],\n",
      "        [-0.7657],\n",
      "        [-0.6272]])\n"
     ]
    },
    {
     "ename": "TypeError",
     "evalue": "pic should be PIL Image or ndarray. Got <class 'torch.Tensor'>",
     "output_type": "error",
     "traceback": [
      "\u001B[0;31m---------------------------------------------------------------------------\u001B[0m",
      "\u001B[0;31mTypeError\u001B[0m                                 Traceback (most recent call last)",
      "\u001B[0;32m<ipython-input-7-6e27bee93e57>\u001B[0m in \u001B[0;36m<module>\u001B[0;34m\u001B[0m\n\u001B[1;32m     34\u001B[0m \u001B[0;34m\u001B[0m\u001B[0m\n\u001B[1;32m     35\u001B[0m \u001B[0mtransform\u001B[0m \u001B[0;34m=\u001B[0m \u001B[0mtorchvision\u001B[0m\u001B[0;34m.\u001B[0m\u001B[0mtransforms\u001B[0m\u001B[0;34m.\u001B[0m\u001B[0mtransforms\u001B[0m\u001B[0;34m.\u001B[0m\u001B[0mToTensor\u001B[0m\u001B[0;34m(\u001B[0m\u001B[0;34m)\u001B[0m\u001B[0;34m\u001B[0m\u001B[0;34m\u001B[0m\u001B[0m\n\u001B[0;32m---> 36\u001B[0;31m \u001B[0my_proc\u001B[0m \u001B[0;34m=\u001B[0m \u001B[0mtransform\u001B[0m\u001B[0;34m(\u001B[0m\u001B[0my\u001B[0m\u001B[0;34m)\u001B[0m\u001B[0;34m\u001B[0m\u001B[0;34m\u001B[0m\u001B[0m\n\u001B[0m\u001B[1;32m     37\u001B[0m \u001B[0mprint\u001B[0m\u001B[0;34m(\u001B[0m\u001B[0my_proc\u001B[0m\u001B[0;34m)\u001B[0m\u001B[0;34m\u001B[0m\u001B[0;34m\u001B[0m\u001B[0m\n\u001B[1;32m     38\u001B[0m \u001B[0;34m\u001B[0m\u001B[0m\n",
      "\u001B[0;32m~/anaconda3/envs/automl-meta-learning/lib/python3.8/site-packages/torchvision/transforms/transforms.py\u001B[0m in \u001B[0;36m__call__\u001B[0;34m(self, pic)\u001B[0m\n\u001B[1;32m     90\u001B[0m             \u001B[0mTensor\u001B[0m\u001B[0;34m:\u001B[0m \u001B[0mConverted\u001B[0m \u001B[0mimage\u001B[0m\u001B[0;34m.\u001B[0m\u001B[0;34m\u001B[0m\u001B[0;34m\u001B[0m\u001B[0m\n\u001B[1;32m     91\u001B[0m         \"\"\"\n\u001B[0;32m---> 92\u001B[0;31m         \u001B[0;32mreturn\u001B[0m \u001B[0mF\u001B[0m\u001B[0;34m.\u001B[0m\u001B[0mto_tensor\u001B[0m\u001B[0;34m(\u001B[0m\u001B[0mpic\u001B[0m\u001B[0;34m)\u001B[0m\u001B[0;34m\u001B[0m\u001B[0;34m\u001B[0m\u001B[0m\n\u001B[0m\u001B[1;32m     93\u001B[0m \u001B[0;34m\u001B[0m\u001B[0m\n\u001B[1;32m     94\u001B[0m     \u001B[0;32mdef\u001B[0m \u001B[0m__repr__\u001B[0m\u001B[0;34m(\u001B[0m\u001B[0mself\u001B[0m\u001B[0;34m)\u001B[0m\u001B[0;34m:\u001B[0m\u001B[0;34m\u001B[0m\u001B[0;34m\u001B[0m\u001B[0m\n",
      "\u001B[0;32m~/anaconda3/envs/automl-meta-learning/lib/python3.8/site-packages/torchvision/transforms/functional.py\u001B[0m in \u001B[0;36mto_tensor\u001B[0;34m(pic)\u001B[0m\n\u001B[1;32m     40\u001B[0m     \"\"\"\n\u001B[1;32m     41\u001B[0m     \u001B[0;32mif\u001B[0m \u001B[0;32mnot\u001B[0m\u001B[0;34m(\u001B[0m\u001B[0m_is_pil_image\u001B[0m\u001B[0;34m(\u001B[0m\u001B[0mpic\u001B[0m\u001B[0;34m)\u001B[0m \u001B[0;32mor\u001B[0m \u001B[0m_is_numpy\u001B[0m\u001B[0;34m(\u001B[0m\u001B[0mpic\u001B[0m\u001B[0;34m)\u001B[0m\u001B[0;34m)\u001B[0m\u001B[0;34m:\u001B[0m\u001B[0;34m\u001B[0m\u001B[0;34m\u001B[0m\u001B[0m\n\u001B[0;32m---> 42\u001B[0;31m         \u001B[0;32mraise\u001B[0m \u001B[0mTypeError\u001B[0m\u001B[0;34m(\u001B[0m\u001B[0;34m'pic should be PIL Image or ndarray. Got {}'\u001B[0m\u001B[0;34m.\u001B[0m\u001B[0mformat\u001B[0m\u001B[0;34m(\u001B[0m\u001B[0mtype\u001B[0m\u001B[0;34m(\u001B[0m\u001B[0mpic\u001B[0m\u001B[0;34m)\u001B[0m\u001B[0;34m)\u001B[0m\u001B[0;34m)\u001B[0m\u001B[0;34m\u001B[0m\u001B[0;34m\u001B[0m\u001B[0m\n\u001B[0m\u001B[1;32m     43\u001B[0m \u001B[0;34m\u001B[0m\u001B[0m\n\u001B[1;32m     44\u001B[0m     \u001B[0;32mif\u001B[0m \u001B[0m_is_numpy\u001B[0m\u001B[0;34m(\u001B[0m\u001B[0mpic\u001B[0m\u001B[0;34m)\u001B[0m \u001B[0;32mand\u001B[0m \u001B[0;32mnot\u001B[0m \u001B[0m_is_numpy_image\u001B[0m\u001B[0;34m(\u001B[0m\u001B[0mpic\u001B[0m\u001B[0;34m)\u001B[0m\u001B[0;34m:\u001B[0m\u001B[0;34m\u001B[0m\u001B[0;34m\u001B[0m\u001B[0m\n",
      "\u001B[0;31mTypeError\u001B[0m: pic should be PIL Image or ndarray. Got <class 'torch.Tensor'>"
     ]
    }
   ],
   "source": [
    "# saving torch tensors\n",
    "\n",
    "import torch\n",
    "import torch.nn as nn\n",
    "import torchvision\n",
    "\n",
    "from pathlib import Path\n",
    "from collections import OrderedDict\n",
    "\n",
    "path = Path('~/data/tmp/').expanduser()\n",
    "path.mkdir(parents=True, exist_ok=True)\n",
    "\n",
    "tensor_a = torch.rand(2,3)\n",
    "tensor_b = torch.rand(1,3)\n",
    "\n",
    "db = {'a': tensor_a, 'b': tensor_b}\n",
    "\n",
    "torch.save(db, path/'torch_db')\n",
    "loaded = torch.load(path/'torch_db')\n",
    "print( loaded['a'] == tensor_a )\n",
    "print( loaded['b'] == tensor_b )\n",
    "\n",
    "# testing if ToTensor() screws things up\n",
    "lb, ub = -1, 1\n",
    "N, Din, Dout = 3, 1, 1\n",
    "x = torch.distributions.Uniform(low=lb, high=ub).sample((N, Din))\n",
    "print(x)\n",
    "\n",
    "f = nn.Sequential(OrderedDict([\n",
    "    ('f1', nn.Linear(Din,Dout)),\n",
    "    ('out', nn.SELU())\n",
    "]))\n",
    "y = f(x)\n",
    "\n",
    "transform = torchvision.transforms.transforms.ToTensor()\n",
    "y_proc = transform(y)\n",
    "print(y_proc)"
   ],
   "metadata": {
    "collapsed": false,
    "pycharm": {
     "name": "#%%\n"
    }
   }
  },
  {
   "cell_type": "code",
   "execution_count": 5,
   "outputs": [
    {
     "name": "stdout",
     "output_type": "stream",
     "text": [
      "{'a': 1, 'b': 2, 'c': 3, 'd': 4}\n"
     ]
    }
   ],
   "source": [
    "# union dictionaries, https://stackoverflow.com/questions/38987/how-do-i-merge-two-dictionaries-in-a-single-expression-in-python\n",
    "\n",
    "d1 = {'a':1, 'b':2.5}\n",
    "d2 = {'b':2, 'c':3, 'd':4}\n",
    "d = {**d1, **d2}\n",
    "# duplicates resolved in favour of d2\n",
    "print(d)\n"
   ],
   "metadata": {
    "collapsed": false,
    "pycharm": {
     "name": "#%%\n"
    }
   }
  },
  {
   "cell_type": "code",
   "execution_count": 9,
   "outputs": [
    {
     "name": "stdout",
     "output_type": "stream",
     "text": [
      "[[ 0.56286772]\n",
      " [-0.55896129]\n",
      " [-0.7316371 ]]\n",
      "tensor([[-0.3020],\n",
      "        [ 0.5763],\n",
      "        [-0.8028]])\n",
      "tensor([[-0.0049],\n",
      "        [ 0.8302],\n",
      "        [ 0.7681]])\n"
     ]
    },
    {
     "ename": "NameError",
     "evalue": "name 'nn' is not defined",
     "output_type": "error",
     "traceback": [
      "\u001B[0;31m---------------------------------------------------------------------------\u001B[0m",
      "\u001B[0;31mNameError\u001B[0m                                 Traceback (most recent call last)",
      "\u001B[0;32m<ipython-input-9-f6af57ea1b4a>\u001B[0m in \u001B[0;36m<module>\u001B[0;34m\u001B[0m\n\u001B[1;32m     22\u001B[0m \u001B[0;34m\u001B[0m\u001B[0m\n\u001B[1;32m     23\u001B[0m \u001B[0;31m# process input\u001B[0m\u001B[0;34m\u001B[0m\u001B[0;34m\u001B[0m\u001B[0;34m\u001B[0m\u001B[0m\n\u001B[0;32m---> 24\u001B[0;31m f = nn.Sequential(OrderedDict([\n\u001B[0m\u001B[1;32m     25\u001B[0m     \u001B[0;34m(\u001B[0m\u001B[0;34m'f1'\u001B[0m\u001B[0;34m,\u001B[0m \u001B[0mnn\u001B[0m\u001B[0;34m.\u001B[0m\u001B[0mLinear\u001B[0m\u001B[0;34m(\u001B[0m\u001B[0mDin\u001B[0m\u001B[0;34m,\u001B[0m\u001B[0mDout\u001B[0m\u001B[0;34m)\u001B[0m\u001B[0;34m)\u001B[0m\u001B[0;34m,\u001B[0m\u001B[0;34m\u001B[0m\u001B[0;34m\u001B[0m\u001B[0m\n\u001B[1;32m     26\u001B[0m     \u001B[0;34m(\u001B[0m\u001B[0;34m'out'\u001B[0m\u001B[0;34m,\u001B[0m \u001B[0mnn\u001B[0m\u001B[0;34m.\u001B[0m\u001B[0mSELU\u001B[0m\u001B[0;34m(\u001B[0m\u001B[0;34m)\u001B[0m\u001B[0;34m)\u001B[0m\u001B[0;34m\u001B[0m\u001B[0;34m\u001B[0m\u001B[0m\n",
      "\u001B[0;31mNameError\u001B[0m: name 'nn' is not defined"
     ]
    }
   ],
   "source": [
    "# generating uniform variables\n",
    "\n",
    "import numpy as np\n",
    "\n",
    "num_samples = 3\n",
    "Din = 1\n",
    "lb, ub = -1, 1\n",
    "\n",
    "xn = np.random.uniform(low=lb, high=ub, size=(num_samples,Din))\n",
    "print(xn)\n",
    "\n",
    "import torch\n",
    "\n",
    "sampler = torch.distributions.Uniform(low=lb, high=ub)\n",
    "r = sampler.sample((num_samples,Din))\n",
    "\n",
    "print(r)\n",
    "\n",
    "r2 = torch.torch.distributions.Uniform(low=lb, high=ub).sample((num_samples,Din))\n",
    "\n",
    "print(r2)\n",
    "\n",
    "# process input\n",
    "f = nn.Sequential(OrderedDict([\n",
    "    ('f1', nn.Linear(Din,Dout)),\n",
    "    ('out', nn.SELU())\n",
    "]))\n",
    "Y = f(r2)\n",
    "print(Y)"
   ],
   "metadata": {
    "collapsed": false,
    "pycharm": {
     "name": "#%%\n"
    }
   }
  },
  {
   "cell_type": "code",
   "execution_count": 11,
   "outputs": [
    {
     "name": "stdout",
     "output_type": "stream",
     "text": [
      "tensor([[-2.4052],\n",
      "        [ 1.1668],\n",
      "        [-1.0389]])\n"
     ]
    }
   ],
   "source": [
    "# sampling from normal distribution in torch\n",
    "\n",
    "import torch\n",
    "\n",
    "num_samples = 3\n",
    "Din = 1\n",
    "mu, std = 0, 1\n",
    "x = torch.distributions.normal.Normal(loc=mu, scale=std).sample((num_samples, Din))\n",
    "\n",
    "print(x)"
   ],
   "metadata": {
    "collapsed": false,
    "pycharm": {
     "name": "#%%\n"
    }
   }
  },
  {
   "cell_type": "code",
   "execution_count": 1,
   "outputs": [
    {
     "name": "stdout",
     "output_type": "stream",
     "text": [
      "[[ 0.8064139 ]\n",
      " [-0.3679129 ]\n",
      " [-0.45840466]]\n",
      "tensor([[True],\n",
      "        [True],\n",
      "        [True]])\n",
      "Done\n",
      "tensor([[True],\n",
      "        [True],\n",
      "        [True]])\n",
      "tensor([[True],\n",
      "        [True],\n",
      "        [True]])\n"
     ]
    },
    {
     "name": "stderr",
     "output_type": "stream",
     "text": [
      "/Users/brando/anaconda3/envs/automl-meta-learning/lib/python3.8/site-packages/torch/storage.py:34: FutureWarning: pickle support for Storage will be removed in 1.5. Use `torch.save` instead\n",
      "  warnings.warn(\"pickle support for Storage will be removed in 1.5. Use `torch.save` instead\", FutureWarning)\n"
     ]
    }
   ],
   "source": [
    "# creating data and running through a nn and saving it\n",
    "\n",
    "import torch\n",
    "import torch.nn as nn\n",
    "\n",
    "from pathlib import Path\n",
    "from collections import OrderedDict\n",
    "\n",
    "import numpy as np\n",
    "\n",
    "import pickle\n",
    "\n",
    "path = Path('~/data/tmp/').expanduser()\n",
    "path.mkdir(parents=True, exist_ok=True)\n",
    "\n",
    "num_samples = 3\n",
    "Din, Dout = 1, 1\n",
    "lb, ub = -1, 1\n",
    "\n",
    "x = torch.torch.distributions.Uniform(low=lb, high=ub).sample((num_samples, Din))\n",
    "\n",
    "f = nn.Sequential(OrderedDict([\n",
    "    ('f1', nn.Linear(Din,Dout)),\n",
    "    ('out', nn.SELU())\n",
    "]))\n",
    "y = f(x)\n",
    "\n",
    "# save data torch to numpy\n",
    "x_np, y_np = x.detach().cpu().numpy(), y.detach().cpu().numpy()\n",
    "np.savez(path / 'db', x=x_np, y=y_np)\n",
    "\n",
    "print(x_np)\n",
    "# save model\n",
    "with open('db_saving_seq', 'wb') as file:\n",
    "    pickle.dump({'f': f}, file)\n",
    "\n",
    "# load model\n",
    "with open('db_saving_seq', 'rb') as file:\n",
    "    db = pickle.load(file)\n",
    "    f2 = db['f']\n",
    "\n",
    "# test that it outputs the right thing\n",
    "y2 = f2(x)\n",
    "\n",
    "y_eq_y2 = y == y2\n",
    "print(y_eq_y2)\n",
    "\n",
    "db2 = {'f': f, 'x': x, 'y': y}\n",
    "torch.save(db2, path / 'db_f_x_y')\n",
    "\n",
    "print('Done')\n",
    "\n",
    "db3 = torch.load(path / 'db_f_x_y')\n",
    "f3 = db3['f']\n",
    "x3 = db3['x']\n",
    "y3 = db3['y']\n",
    "yy3 = f3(x3)\n",
    "\n",
    "y_eq_y3 = y == y3\n",
    "print(y_eq_y3)\n",
    "\n",
    "y_eq_yy3 = y == yy3\n",
    "print(y_eq_yy3)"
   ],
   "metadata": {
    "collapsed": false,
    "pycharm": {
     "name": "#%%\n"
    }
   }
  },
  {
   "cell_type": "code",
   "execution_count": 6,
   "outputs": [
    {
     "name": "stdout",
     "output_type": "stream",
     "text": [
      "tensor([[0.6833],\n",
      "        [1.0211],\n",
      "        [0.6708]], grad_fn=<EluBackward>)\n"
     ]
    }
   ],
   "source": [
    "# test for saving everything with torch.save\n",
    "\n",
    "import torch\n",
    "import torch.nn as nn\n",
    "\n",
    "from pathlib import Path\n",
    "from collections import OrderedDict\n",
    "\n",
    "import numpy as np\n",
    "\n",
    "import pickle\n",
    "\n",
    "path = Path('~/data/tmp/').expanduser()\n",
    "path.mkdir(parents=True, exist_ok=True)\n",
    "\n",
    "num_samples = 3\n",
    "Din, Dout = 1, 1\n",
    "lb, ub = -1, 1\n",
    "\n",
    "x = torch.torch.distributions.Uniform(low=lb, high=ub).sample((num_samples, Din))\n",
    "\n",
    "f = nn.Sequential(OrderedDict([\n",
    "    ('f1', nn.Linear(Din,Dout)),\n",
    "    ('out', nn.SELU())\n",
    "]))\n",
    "y = f(x)\n",
    "\n",
    "# save data torch to numpy\n",
    "x_np, y_np = x.detach().cpu().numpy(), y.detach().cpu().numpy()\n",
    "db2 = {'f': f, 'x': x_np, 'y': y_np}\n",
    "torch.save(db2, path / 'db_f_x_y')\n",
    "# np.savetxt(path / 'output.csv', y_np)  # for csv\n",
    "\n",
    "db3 = torch.load(path / 'db_f_x_y')\n",
    "f3 = db3['f']\n",
    "x3 = db3['x']\n",
    "y3 = db3['y']\n",
    "xx = torch.tensor(x3)\n",
    "yy3 = f3(xx)\n",
    "\n",
    "print(yy3)"
   ],
   "metadata": {
    "collapsed": false,
    "pycharm": {
     "name": "#%%\n"
    }
   }
  },
  {
   "cell_type": "code",
   "execution_count": null,
   "outputs": [],
   "source": [
    "# my saving code for synthetic data, nvm using torch.save for everything\n",
    "\n",
    "# import torch\n",
    "# import torch.nn as nn\n",
    "#\n",
    "# from pathlib import Path\n",
    "# from collections import OrderedDict\n",
    "#\n",
    "# import numpy as np\n",
    "#\n",
    "# path = Path('~/data/tmp/').expanduser()\n",
    "# path.mkdir(parents=True, exist_ok=True)\n",
    "#\n",
    "# num_samples = 3\n",
    "# Din, Dout = 1, 1\n",
    "# lb, ub = -1, 1\n",
    "#\n",
    "# x = torch.torch.distributions.Uniform(low=lb, high=ub).sample((num_samples, Din))\n",
    "#\n",
    "# f = nn.Sequential(OrderedDict([\n",
    "#     ('f1', nn.Linear(Din,Dout)),\n",
    "#     ('out', nn.SELU())\n",
    "# ]))\n",
    "# y = f(x)\n",
    "#\n",
    "# # save data torch to numpy\n",
    "# x_np, y_np = x.detach().cpu().numpy(), y.detach().cpu().numpy()\n",
    "# np.savez(path / 'data', x=x_np, y=y_np)\n",
    "#\n",
    "# # save model\n",
    "# torch.save(f,path / 'f')"
   ],
   "metadata": {
    "collapsed": false,
    "pycharm": {
     "name": "#%%\n"
    }
   }
  },
  {
   "cell_type": "code",
   "execution_count": 1,
   "outputs": [
    {
     "name": "stdout",
     "output_type": "stream",
     "text": [
      "tensor([[-0.1640],\n",
      "        [-0.1635],\n",
      "        [-0.1766]], grad_fn=<AddmmBackward>)\n",
      "[1, 1, 1, 1, 2]\n"
     ]
    }
   ],
   "source": [
    "import torch\n",
    "\n",
    "import torch.nn as nn\n",
    "\n",
    "from collections import OrderedDict\n",
    "\n",
    "num_samples = 3\n",
    "Din, Dout = 1, 1\n",
    "lb, ub = -1, 1\n",
    "\n",
    "x = torch.torch.distributions.Uniform(low=lb, high=ub).sample((num_samples, Din))\n",
    "\n",
    "hidden_dim = [(Din, 20), (20, 20), (20, 20), (20, 20), (20, Dout)]\n",
    "f = nn.Sequential(OrderedDict([\n",
    "    ('fc1;l1', nn.Linear(hidden_dim[0][0], hidden_dim[0][1])),\n",
    "    ('relu2', nn.ReLU()),\n",
    "    ('fc2;l1', nn.Linear(hidden_dim[1][0], hidden_dim[1][1])),\n",
    "    ('relu2', nn.ReLU()),\n",
    "    ('fc3;l1', nn.Linear(hidden_dim[2][0], hidden_dim[2][1])),\n",
    "    ('relu3', nn.ReLU()),\n",
    "    ('fc4;l1', nn.Linear(hidden_dim[3][0], hidden_dim[3][1])),\n",
    "    ('relu4', nn.ReLU()),\n",
    "    ('fc5;final;l2', nn.Linear(hidden_dim[4][0], hidden_dim[4][1]))\n",
    "]))\n",
    "\n",
    "y = f(x)\n",
    "\n",
    "print(y)\n",
    "\n",
    "section_label = [1]*4 + [2]\n",
    "print(section_label)"
   ],
   "metadata": {
    "collapsed": false,
    "pycharm": {
     "name": "#%%\n"
    }
   }
  },
  {
   "cell_type": "code",
   "execution_count": 10,
   "outputs": [
    {
     "name": "stdout",
     "output_type": "stream",
     "text": [
      "20\n",
      "[PosixPath('/Users/brando/data/LS/debug/fully_connected_NN_mu1_1.0_std1_2.5_mu2_1.0_std2_0.5/train/f_debug_norm_f_146.30343627929688'), PosixPath('/Users/brando/data/LS/debug/fully_connected_NN_mu1_1.0_std1_2.5_mu2_1.0_std2_0.5/train/f_debug_norm_f_149.73428344726562'), PosixPath('/Users/brando/data/LS/debug/fully_connected_NN_mu1_1.0_std1_2.5_mu2_1.0_std2_0.5/train/f_debug_norm_f_149.15005493164062'), PosixPath('/Users/brando/data/LS/debug/fully_connected_NN_mu1_1.0_std1_2.5_mu2_1.0_std2_0.5/train/f_debug_norm_f_149.47903442382812'), PosixPath('/Users/brando/data/LS/debug/fully_connected_NN_mu1_1.0_std1_2.5_mu2_1.0_std2_0.5/train/f_debug_norm_f_145.72950744628906'), PosixPath('/Users/brando/data/LS/debug/fully_connected_NN_mu1_1.0_std1_2.5_mu2_1.0_std2_0.5/train/f_debug_norm_f_150.56996154785156'), PosixPath('/Users/brando/data/LS/debug/fully_connected_NN_mu1_1.0_std1_2.5_mu2_1.0_std2_0.5/train/f_debug_norm_f_147.8631134033203'), PosixPath('/Users/brando/data/LS/debug/fully_connected_NN_mu1_1.0_std1_2.5_mu2_1.0_std2_0.5/train/f_debug_norm_f_147.9881134033203'), PosixPath('/Users/brando/data/LS/debug/fully_connected_NN_mu1_1.0_std1_2.5_mu2_1.0_std2_0.5/train/f_debug_norm_f_147.86964416503906'), PosixPath('/Users/brando/data/LS/debug/fully_connected_NN_mu1_1.0_std1_2.5_mu2_1.0_std2_0.5/train/f_debug_norm_f_149.782958984375'), PosixPath('/Users/brando/data/LS/debug/fully_connected_NN_mu1_1.0_std1_2.5_mu2_1.0_std2_0.5/train/f_debug_norm_f_155.4813690185547'), PosixPath('/Users/brando/data/LS/debug/fully_connected_NN_mu1_1.0_std1_2.5_mu2_1.0_std2_0.5/train/f_debug_norm_f_152.7992401123047'), PosixPath('/Users/brando/data/LS/debug/fully_connected_NN_mu1_1.0_std1_2.5_mu2_1.0_std2_0.5/train/f_debug_norm_f_146.3609161376953'), PosixPath('/Users/brando/data/LS/debug/fully_connected_NN_mu1_1.0_std1_2.5_mu2_1.0_std2_0.5/train/f_debug_norm_f_148.21217346191406'), PosixPath('/Users/brando/data/LS/debug/fully_connected_NN_mu1_1.0_std1_2.5_mu2_1.0_std2_0.5/train/f_debug_norm_f_153.15670776367188'), PosixPath('/Users/brando/data/LS/debug/fully_connected_NN_mu1_1.0_std1_2.5_mu2_1.0_std2_0.5/train/f_debug_norm_f_148.81935119628906'), PosixPath('/Users/brando/data/LS/debug/fully_connected_NN_mu1_1.0_std1_2.5_mu2_1.0_std2_0.5/train/f_debug_norm_f_156.53941345214844'), PosixPath('/Users/brando/data/LS/debug/fully_connected_NN_mu1_1.0_std1_2.5_mu2_1.0_std2_0.5/train/f_debug_norm_f_147.8162384033203'), PosixPath('/Users/brando/data/LS/debug/fully_connected_NN_mu1_1.0_std1_2.5_mu2_1.0_std2_0.5/train/f_debug_norm_f_153.15977478027344'), PosixPath('/Users/brando/data/LS/debug/fully_connected_NN_mu1_1.0_std1_2.5_mu2_1.0_std2_0.5/train/f_debug_norm_f_149.1785888671875')]\n",
      "\n",
      "/Users/brando/data/LS/debug/fully_connected_NN_mu1_1.0_std1_2.5_mu2_1.0_std2_0.5/train/*/\n",
      "20\n",
      "['/Users/brando/data/LS/debug/fully_connected_NN_mu1_1.0_std1_2.5_mu2_1.0_std2_0.5/train/f_debug_norm_f_146.30343627929688/', '/Users/brando/data/LS/debug/fully_connected_NN_mu1_1.0_std1_2.5_mu2_1.0_std2_0.5/train/f_debug_norm_f_149.73428344726562/', '/Users/brando/data/LS/debug/fully_connected_NN_mu1_1.0_std1_2.5_mu2_1.0_std2_0.5/train/f_debug_norm_f_149.15005493164062/', '/Users/brando/data/LS/debug/fully_connected_NN_mu1_1.0_std1_2.5_mu2_1.0_std2_0.5/train/f_debug_norm_f_149.47903442382812/', '/Users/brando/data/LS/debug/fully_connected_NN_mu1_1.0_std1_2.5_mu2_1.0_std2_0.5/train/f_debug_norm_f_145.72950744628906/', '/Users/brando/data/LS/debug/fully_connected_NN_mu1_1.0_std1_2.5_mu2_1.0_std2_0.5/train/f_debug_norm_f_150.56996154785156/', '/Users/brando/data/LS/debug/fully_connected_NN_mu1_1.0_std1_2.5_mu2_1.0_std2_0.5/train/f_debug_norm_f_147.8631134033203/', '/Users/brando/data/LS/debug/fully_connected_NN_mu1_1.0_std1_2.5_mu2_1.0_std2_0.5/train/f_debug_norm_f_147.9881134033203/', '/Users/brando/data/LS/debug/fully_connected_NN_mu1_1.0_std1_2.5_mu2_1.0_std2_0.5/train/f_debug_norm_f_147.86964416503906/', '/Users/brando/data/LS/debug/fully_connected_NN_mu1_1.0_std1_2.5_mu2_1.0_std2_0.5/train/f_debug_norm_f_149.782958984375/', '/Users/brando/data/LS/debug/fully_connected_NN_mu1_1.0_std1_2.5_mu2_1.0_std2_0.5/train/f_debug_norm_f_155.4813690185547/', '/Users/brando/data/LS/debug/fully_connected_NN_mu1_1.0_std1_2.5_mu2_1.0_std2_0.5/train/f_debug_norm_f_152.7992401123047/', '/Users/brando/data/LS/debug/fully_connected_NN_mu1_1.0_std1_2.5_mu2_1.0_std2_0.5/train/f_debug_norm_f_146.3609161376953/', '/Users/brando/data/LS/debug/fully_connected_NN_mu1_1.0_std1_2.5_mu2_1.0_std2_0.5/train/f_debug_norm_f_148.21217346191406/', '/Users/brando/data/LS/debug/fully_connected_NN_mu1_1.0_std1_2.5_mu2_1.0_std2_0.5/train/f_debug_norm_f_153.15670776367188/', '/Users/brando/data/LS/debug/fully_connected_NN_mu1_1.0_std1_2.5_mu2_1.0_std2_0.5/train/f_debug_norm_f_148.81935119628906/', '/Users/brando/data/LS/debug/fully_connected_NN_mu1_1.0_std1_2.5_mu2_1.0_std2_0.5/train/f_debug_norm_f_156.53941345214844/', '/Users/brando/data/LS/debug/fully_connected_NN_mu1_1.0_std1_2.5_mu2_1.0_std2_0.5/train/f_debug_norm_f_147.8162384033203/', '/Users/brando/data/LS/debug/fully_connected_NN_mu1_1.0_std1_2.5_mu2_1.0_std2_0.5/train/f_debug_norm_f_153.15977478027344/', '/Users/brando/data/LS/debug/fully_connected_NN_mu1_1.0_std1_2.5_mu2_1.0_std2_0.5/train/f_debug_norm_f_149.1785888671875/']\n",
      "\n",
      "{'/Users/brando/data/LS/debug/fully_connected_NN_mu1_1.0_std1_2.5_mu2_1.0_std2_0.5/train/f_avg'}\n",
      "20\n",
      "{'/Users/brando/data/LS/debug/fully_connected_NN_mu1_1.0_std1_2.5_mu2_1.0_std2_0.5/train/f_debug_norm_f_148.21217346191406', '/Users/brando/data/LS/debug/fully_connected_NN_mu1_1.0_std1_2.5_mu2_1.0_std2_0.5/train/f_debug_norm_f_146.30343627929688', '/Users/brando/data/LS/debug/fully_connected_NN_mu1_1.0_std1_2.5_mu2_1.0_std2_0.5/train/f_debug_norm_f_149.15005493164062', '/Users/brando/data/LS/debug/fully_connected_NN_mu1_1.0_std1_2.5_mu2_1.0_std2_0.5/train/f_debug_norm_f_153.15977478027344', '/Users/brando/data/LS/debug/fully_connected_NN_mu1_1.0_std1_2.5_mu2_1.0_std2_0.5/train/f_debug_norm_f_148.81935119628906', '/Users/brando/data/LS/debug/fully_connected_NN_mu1_1.0_std1_2.5_mu2_1.0_std2_0.5/train/f_debug_norm_f_149.73428344726562', '/Users/brando/data/LS/debug/fully_connected_NN_mu1_1.0_std1_2.5_mu2_1.0_std2_0.5/train/f_debug_norm_f_145.72950744628906', '/Users/brando/data/LS/debug/fully_connected_NN_mu1_1.0_std1_2.5_mu2_1.0_std2_0.5/train/f_debug_norm_f_155.4813690185547', '/Users/brando/data/LS/debug/fully_connected_NN_mu1_1.0_std1_2.5_mu2_1.0_std2_0.5/train/f_debug_norm_f_156.53941345214844', '/Users/brando/data/LS/debug/fully_connected_NN_mu1_1.0_std1_2.5_mu2_1.0_std2_0.5/train/f_debug_norm_f_146.3609161376953', '/Users/brando/data/LS/debug/fully_connected_NN_mu1_1.0_std1_2.5_mu2_1.0_std2_0.5/train/f_debug_norm_f_149.1785888671875', '/Users/brando/data/LS/debug/fully_connected_NN_mu1_1.0_std1_2.5_mu2_1.0_std2_0.5/train/f_debug_norm_f_152.7992401123047', '/Users/brando/data/LS/debug/fully_connected_NN_mu1_1.0_std1_2.5_mu2_1.0_std2_0.5/train/f_debug_norm_f_147.8631134033203', '/Users/brando/data/LS/debug/fully_connected_NN_mu1_1.0_std1_2.5_mu2_1.0_std2_0.5/train/f_debug_norm_f_149.47903442382812', '/Users/brando/data/LS/debug/fully_connected_NN_mu1_1.0_std1_2.5_mu2_1.0_std2_0.5/train/f_debug_norm_f_147.9881134033203', '/Users/brando/data/LS/debug/fully_connected_NN_mu1_1.0_std1_2.5_mu2_1.0_std2_0.5/train/f_debug_norm_f_147.8162384033203', '/Users/brando/data/LS/debug/fully_connected_NN_mu1_1.0_std1_2.5_mu2_1.0_std2_0.5/train/f_debug_norm_f_147.86964416503906', '/Users/brando/data/LS/debug/fully_connected_NN_mu1_1.0_std1_2.5_mu2_1.0_std2_0.5/train/f_debug_norm_f_149.782958984375', '/Users/brando/data/LS/debug/fully_connected_NN_mu1_1.0_std1_2.5_mu2_1.0_std2_0.5/train/f_debug_norm_f_153.15670776367188', '/Users/brando/data/LS/debug/fully_connected_NN_mu1_1.0_std1_2.5_mu2_1.0_std2_0.5/train/f_debug_norm_f_150.56996154785156'}\n",
      "\n"
     ]
    }
   ],
   "source": [
    "# get list of paths to task\n",
    "# https://stackoverflow.com/questions/973473/getting-a-list-of-all-subdirectories-in-the-current-directory\n",
    "# https://stackoverflow.com/a/44228436/1601580\n",
    "\n",
    "from pathlib import Path\n",
    "from glob import glob\n",
    "\n",
    "meta_split = 'train'\n",
    "data_path = Path('~/data/LS/debug/fully_connected_NN_mu1_1.0_std1_2.5_mu2_1.0_std2_0.5/')\n",
    "data_path = (data_path / meta_split).expanduser()\n",
    "\n",
    "# with path lib\n",
    "tasks_folder = [f for f in data_path.iterdir() if f.is_dir()]\n",
    "\n",
    "assert('f_avg' not in tasks_folder)\n",
    "\n",
    "len_folder = len(tasks_folder)\n",
    "print(len_folder)\n",
    "print(tasks_folder)\n",
    "print()\n",
    "\n",
    "# with glob\n",
    "p = str(data_path) + '/*/'\n",
    "print(p)\n",
    "tasks_folder = glob( p )\n",
    "\n",
    "assert('f_avg' not in tasks_folder)\n",
    "\n",
    "len_folder = len(tasks_folder)\n",
    "print(len_folder)\n",
    "print(tasks_folder)\n",
    "print()\n",
    "\n",
    "# with glob and negation\n",
    "print( set(glob(str(data_path / \"f_avg\"))) )\n",
    "tasks_folder = set(glob(str(data_path / '*'))) - set(glob(str(data_path / \"f_avg\")))\n",
    "\n",
    "assert('f_avg' not in tasks_folder)\n",
    "\n",
    "len_folder = len(tasks_folder)\n",
    "print(len_folder)\n",
    "print(tasks_folder)\n",
    "print()"
   ],
   "metadata": {
    "collapsed": false,
    "pycharm": {
     "name": "#%%\n"
    }
   }
  },
  {
   "cell_type": "code",
   "execution_count": 2,
   "outputs": [
    {
     "name": "stderr",
     "output_type": "stream",
     "text": [
      "100%|██████████| 2/2 [00:00<00:00, 52.63it/s]\n"
     ]
    },
    {
     "name": "stdout",
     "output_type": "stream",
     "text": [
      "batch_size = 16\n",
      "len(metaset) = 30\n",
      "len(meta_dataloader) = 2\n",
      "\n",
      "batch_idx = 0\n",
      "train_inputs.shape = torch.Size([16, 5, 1])\n",
      "train_targets.shape = torch.Size([16, 5, 1])\n",
      "test_inputs.shape = torch.Size([16, 15, 1])\n",
      "test_targets.shape = torch.Size([16, 15, 1])\n",
      "\n",
      "batch_idx = 1\n",
      "train_inputs.shape = torch.Size([14, 5, 1])\n",
      "train_targets.shape = torch.Size([14, 5, 1])\n",
      "test_inputs.shape = torch.Size([14, 15, 1])\n",
      "test_targets.shape = torch.Size([14, 15, 1])\n",
      "\n",
      "batch_idx = 0\n",
      "train_inputs.shape = torch.Size([16, 5, 1])\n",
      "train_targets.shape = torch.Size([16, 5, 1])\n",
      "test_inputs.shape = torch.Size([16, 15, 1])\n",
      "test_targets.shape = torch.Size([16, 15, 1])\n",
      "\n",
      "batch_idx = 1\n",
      "train_inputs.shape = torch.Size([14, 5, 1])\n",
      "train_targets.shape = torch.Size([14, 5, 1])\n",
      "test_inputs.shape = torch.Size([14, 15, 1])\n",
      "test_targets.shape = torch.Size([14, 15, 1])\n"
     ]
    }
   ],
   "source": [
    "# looping through metasets\n",
    "\n",
    "from torchmeta.utils.data import BatchMetaDataLoader\n",
    "from torchmeta.transforms import ClassSplitter\n",
    "from torchmeta.toy import Sinusoid\n",
    "\n",
    "from tqdm import tqdm\n",
    "\n",
    "# get data set\n",
    "dataset = Sinusoid(num_samples_per_task=25, num_tasks=30)\n",
    "shots, test_shots = 5, 15\n",
    "# get metaset\n",
    "metaset = ClassSplitter(\n",
    "    dataset,\n",
    "    num_train_per_class=shots,\n",
    "    num_test_per_class=test_shots,\n",
    "    shuffle=True)\n",
    "# get meta-dataloader\n",
    "batch_size = 16\n",
    "num_workers = 0\n",
    "meta_dataloader = BatchMetaDataLoader(metaset, batch_size=batch_size, num_workers=num_workers)\n",
    "epochs = 2\n",
    "\n",
    "print(f'batch_size = {batch_size}')\n",
    "print(f'len(metaset) = {len(metaset)}')\n",
    "print(f'len(meta_dataloader) = {len(meta_dataloader)}')\n",
    "with tqdm(range(epochs)) as tepochs:\n",
    "    for epoch in tepochs:\n",
    "        for batch_idx, batch in enumerate(meta_dataloader):\n",
    "            print(f'\\nbatch_idx = {batch_idx}')\n",
    "            train_inputs, train_targets = batch['train']\n",
    "            test_inputs, test_targets = batch['test']\n",
    "            print(f'train_inputs.shape = {train_inputs.shape}')\n",
    "            print(f'train_targets.shape = {train_targets.shape}')\n",
    "            print(f'test_inputs.shape = {test_inputs.shape}')\n",
    "            print(f'test_targets.shape = {test_targets.shape}')"
   ],
   "metadata": {
    "collapsed": false,
    "pycharm": {
     "name": "#%%\n"
    }
   }
  },
  {
   "cell_type": "code",
   "execution_count": 3,
   "outputs": [
    {
     "name": "stderr",
     "output_type": "stream",
     "text": [
      "100%|██████████| 5/5 [00:05<00:00,  1.00s/it]\n"
     ]
    },
    {
     "name": "stdout",
     "output_type": "stream",
     "text": [
      "0\n",
      "1\n",
      "2\n",
      "3\n",
      "4\n"
     ]
    }
   ],
   "source": [
    "from tqdm import tqdm\n",
    "\n",
    "import time\n",
    "\n",
    "with tqdm(range(5)) as trange:\n",
    "    for t in trange:\n",
    "        print(t)\n",
    "        time.sleep(1)\n"
   ],
   "metadata": {
    "collapsed": false,
    "pycharm": {
     "name": "#%%\n"
    }
   }
  },
  {
   "cell_type": "code",
   "execution_count": 2,
   "outputs": [
    {
     "name": "stdout",
     "output_type": "stream",
     "text": [
      "tensor(2.)\n"
     ]
    }
   ],
   "source": [
    "\n",
    "import torch\n",
    "import torch.nn as nn\n",
    "\n",
    "\n",
    "l1 = torch.tensor([1,2,3.])**0.5\n",
    "l2 = torch.tensor([0,0,0.0])\n",
    "mse = nn.MSELoss()\n",
    "loss = mse(l1,l2)\n",
    "print(loss)\n"
   ],
   "metadata": {
    "collapsed": false,
    "pycharm": {
     "name": "#%%\n"
    }
   }
  },
  {
   "cell_type": "code",
   "execution_count": 8,
   "outputs": [
    {
     "name": "stdout",
     "output_type": "stream",
     "text": [
      "[0 1 2 3 4 5 6 7 8 9]\n",
      "9\n",
      "0\n",
      "4.5\n",
      "4.5\n"
     ]
    }
   ],
   "source": [
    "import numpy as np\n",
    "\n",
    "\n",
    "x = np.arange(0,10)\n",
    "print(x)\n",
    "\n",
    "print(x.max())\n",
    "print(x.min())\n",
    "print(x.mean())\n",
    "print(np.median(x))"
   ],
   "metadata": {
    "collapsed": false,
    "pycharm": {
     "name": "#%%\n"
    }
   }
  },
  {
   "cell_type": "code",
   "execution_count": 21,
   "outputs": [
    {
     "name": "stdout",
     "output_type": "stream",
     "text": [
      "tensor([0.6343, 3.4017, 0.0946])\n",
      "tensor(1)\n"
     ]
    }
   ],
   "source": [
    "x = torch.randn(3)\n",
    "print(x)\n",
    "print(x.argmax(-1))"
   ],
   "metadata": {
    "collapsed": false,
    "pycharm": {
     "name": "#%%\n"
    }
   }
  },
  {
   "cell_type": "code",
   "execution_count": 24,
   "outputs": [
    {
     "name": "stdout",
     "output_type": "stream",
     "text": [
      "true.size() = torch.Size([5, 1])\n",
      "batch_size = 5\n",
      "x = tensor([[-0.1758],\n",
      "        [ 0.3112],\n",
      "        [-0.1061],\n",
      "        [ 0.6436],\n",
      "        [ 2.1084]])\n",
      "x.size() = torch.Size([5, 1])\n",
      "logit = tensor([[ 0.2920],\n",
      "        [ 0.1334],\n",
      "        [ 0.2693],\n",
      "        [ 0.0251],\n",
      "        [-0.4521]], grad_fn=<AddmmBackward>)\n",
      "pred = tensor([0, 0, 0, 0, 0])\n",
      "true = tensor([[0],\n",
      "        [1],\n",
      "        [0],\n",
      "        [1],\n",
      "        [1]])\n",
      "acc = 10\n"
     ]
    }
   ],
   "source": [
    "# testing accuracy function\n",
    "# https://discuss.pytorch.org/t/calculating-accuracy-of-the-current-minibatch/4308/11\n",
    "# https://stackoverflow.com/questions/51503851/calculate-the-accuracy-every-epoch-in-pytorch\n",
    "\n",
    "import torch\n",
    "import torch.nn as nn\n",
    "\n",
    "D = 1\n",
    "true = torch.tensor([0,1,0,1,1]).reshape(5,1)\n",
    "print(f'true.size() = {true.size()}')\n",
    "\n",
    "batch_size = true.size(0)\n",
    "print(f'batch_size = {batch_size}')\n",
    "x = torch.randn(batch_size,D)\n",
    "print(f'x = {x}')\n",
    "print(f'x.size() = {x.size()}')\n",
    "\n",
    "mdl = nn.Linear(D,1)\n",
    "logit = mdl(x)\n",
    "_, pred = torch.max(logit.data, 1)\n",
    "\n",
    "print(f'logit = {logit}')\n",
    "\n",
    "print(f'pred = {pred}')\n",
    "print(f'true = {true}')\n",
    "\n",
    "acc = (true == pred).sum().item()\n",
    "print(f'acc = {acc}')"
   ],
   "metadata": {
    "collapsed": false,
    "pycharm": {
     "name": "#%%\n"
    }
   }
  },
  {
   "cell_type": "code",
   "execution_count": 9,
   "outputs": [
    {
     "name": "stdout",
     "output_type": "stream",
     "text": [
      "x.size() = torch.Size([2, 3])\n",
      "tensor([5, 7, 9])\n",
      "tensor([ 6, 15])\n",
      "tensor([ 6, 15])\n",
      "tensor([4, 5, 6])\n",
      "tensor([[[ 1,  2,  3,  4],\n",
      "         [ 5,  6,  7,  8],\n",
      "         [ 9, 10, 11, 12]],\n",
      "\n",
      "        [[13, 14, 15, 16],\n",
      "         [17, 18, 19, 20],\n",
      "         [21, 22, 23, 24]]])\n",
      "tensor([ 1, 13])\n",
      "tensor([1, 5, 9])\n",
      "tensor([1, 2, 3, 4])\n",
      "tensor([[13, 14, 15, 16],\n",
      "        [17, 18, 19, 20],\n",
      "        [21, 22, 23, 24]])\n"
     ]
    }
   ],
   "source": [
    "# https://towardsdatascience.com/understanding-dimensions-in-pytorch-6edf9972d3be\n",
    "# dimension\n",
    "\"\"\"\n",
    "Dimension reduction. It collapses/reduces a specific dimension by selecting an element from that dimension to be\n",
    "reduced.\n",
    "Consider x is 3D tensor. x.sum(1) converts x into a tensor that is 2D using an element from D1 elements in\n",
    "the 1th dimension. Thus:\n",
    "x.sum(1) = x[i,k] = op(x[i,:,k]) = op(x[i,0,k],...,x[i,D1,k])\n",
    "the key is to realize that we need 3 indices to select a single element. So if we use only 2 (because we are collapsing)\n",
    "then we have D1 number of elements possible left that those two indices might indicate. So from only 2 indices we get a\n",
    "set that we need to specify how to select. This is where the op we are using is used for and selects from this set.\n",
    "In theory if we want to collapse many indices we need to indicate how we are going to allow indexing from a smaller set\n",
    "of indices (using the remaining set that we'd usually need).\n",
    "\"\"\"\n",
    "\n",
    "import torch\n",
    "\n",
    "x = torch.tensor([\n",
    "     [1, 2, 3],\n",
    "     [4, 5, 6]\n",
    "   ])\n",
    "\n",
    "print(f'x.size() = {x.size()}')\n",
    "\n",
    "# sum the 0th dimension (rows). So we get a bunch of colums that have the rows added together.\n",
    "x0 = x.sum(0)\n",
    "print(x0)\n",
    "\n",
    "# sum the 1th dimension (columns)\n",
    "x1 = x.sum(1)\n",
    "print(x1)\n",
    "\n",
    "x_1 = x.sum(-1)\n",
    "print(x_1)\n",
    "\n",
    "x0 = x.max(0)\n",
    "print(x0.values)\n",
    "\n",
    "y = torch.tensor([[\n",
    "         [ 1,  2,  3,  4],\n",
    "         [ 5,  6,  7,  8],\n",
    "         [ 9, 10, 11, 12]],\n",
    "\n",
    "        [[13, 14, 15, 16],\n",
    "         [17, 18, 19, 20],\n",
    "         [21, 22, 23, 24]]])\n",
    "\n",
    "print(y)\n",
    "\n",
    "# into the screen [1, 13]\n",
    "print(y[:,0,0])\n",
    "# columns [1, 5, 9]\n",
    "print(y[0,:,0])\n",
    "# rows [1, 2, 3, 4]\n",
    "print(y[0,0,:])\n",
    "\n",
    "# for each remaining index, select the largest value in the \"screen\" dimension\n",
    "y0 = y.max(0)\n",
    "print(y0.values)"
   ],
   "metadata": {
    "collapsed": false,
    "pycharm": {
     "name": "#%%\n"
    }
   }
  },
  {
   "cell_type": "code",
   "execution_count": null,
   "outputs": [],
   "source": [
    "\n"
   ],
   "metadata": {
    "collapsed": false,
    "pycharm": {
     "name": "#%%\n"
    }
   }
  }
 ],
 "metadata": {
  "kernelspec": {
   "display_name": "Python 3",
   "language": "python",
   "name": "python3"
  },
  "language_info": {
   "codemirror_mode": {
    "name": "ipython",
    "version": 3
   },
   "file_extension": ".py",
   "mimetype": "text/x-python",
   "name": "python",
   "nbconvert_exporter": "python",
   "pygments_lexer": "ipython3",
   "version": "3.8.2-final"
  }
 },
 "nbformat": 4,
 "nbformat_minor": 4
}