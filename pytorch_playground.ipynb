{
 "cells": [
  {
   "cell_type": "code",
   "execution_count": 1,
   "metadata": {
    "collapsed": true,
    "jupyter": {
     "outputs_hidden": true
    },
    "pycharm": {
     "name": "#%%\n"
    }
   },
   "outputs": [
    {
     "name": "stdout",
     "output_type": "stream",
     "text": [
      "a.grad = tensor([-6.])\n",
      "b.grad = tensor([-8.])\n"
     ]
    }
   ],
   "source": [
    "# Question: Do detached() tensors track their own gradients seperately?\n",
    "# Ans: Yes!\n",
    "# https://discuss.pytorch.org/t/why-is-the-clone-operation-part-of-the-computation-graph-is-it-even-differentiable/67054/11\n",
    "\n",
    "import torch\n",
    "\n",
    "a = torch.tensor([2.0], requires_grad=True)\n",
    "b = a.detach()\n",
    "b.requires_grad = True\n",
    "\n",
    "la = (5.0 - a)**2\n",
    "la.backward()\n",
    "print(f'a.grad = {a.grad}')\n",
    "\n",
    "lb = (6.0 - b)**2\n",
    "lb.backward()\n",
    "print(f'b.grad = {b.grad}')"
   ]
  },
  {
   "cell_type": "code",
   "execution_count": 2,
   "metadata": {},
   "outputs": [
    {
     "name": "stdout",
     "output_type": "stream",
     "text": [
      "OrderedDict([('fc0', Linear(in_features=4, out_features=4, bias=True)), ('ReLU0', ReLU()), ('fc1', Linear(in_features=4, out_features=1, bias=True))])\n",
      "OrderedDict()\n",
      "True\n",
      "False\n",
      "OrderedDict([('fc0', Linear(in_features=4, out_features=4, bias=True)), ('ReLU0', ReLU()), ('fc1', Linear(in_features=4, out_features=1, bias=True))])\n",
      "\n",
      "fc0.weight tensor(1.1314, grad_fn=<NormBackward0>)\n",
      "fc0.bias tensor(0.6966, grad_fn=<NormBackward0>)\n",
      "fc1.weight tensor(0.4997, grad_fn=<NormBackward0>)\n",
      "fc1.bias tensor(0.2458, grad_fn=<NormBackward0>)\n",
      "\n"
     ]
    },
    {
     "ename": "KeyError",
     "evalue": "0",
     "output_type": "error",
     "traceback": [
      "\u001B[0;31m---------------------------------------------------------------------------\u001B[0m",
      "\u001B[0;31mKeyError\u001B[0m                                  Traceback (most recent call last)",
      "\u001B[0;32m<ipython-input-2-be4bf9889616>\u001B[0m in \u001B[0;36m<module>\u001B[0;34m\u001B[0m\n\u001B[1;32m     23\u001B[0m \u001B[0mprint\u001B[0m\u001B[0;34m(\u001B[0m\u001B[0;34m)\u001B[0m\u001B[0;34m\u001B[0m\u001B[0;34m\u001B[0m\u001B[0m\n\u001B[1;32m     24\u001B[0m \u001B[0;31m#mdl._modules['fc0'] = nn.Linear(10,11)\u001B[0m\u001B[0;34m\u001B[0m\u001B[0;34m\u001B[0m\u001B[0;34m\u001B[0m\u001B[0m\n\u001B[0;32m---> 25\u001B[0;31m \u001B[0mmdl\u001B[0m\u001B[0;34m.\u001B[0m\u001B[0m_modules\u001B[0m\u001B[0;34m[\u001B[0m\u001B[0;36m0\u001B[0m\u001B[0;34m]\u001B[0m\u001B[0;34m\u001B[0m\u001B[0;34m\u001B[0m\u001B[0m\n\u001B[0m\u001B[1;32m     26\u001B[0m \u001B[0;34m\u001B[0m\u001B[0m\n\u001B[1;32m     27\u001B[0m \u001B[0;32mfor\u001B[0m \u001B[0mname\u001B[0m\u001B[0;34m,\u001B[0m \u001B[0mw\u001B[0m \u001B[0;32min\u001B[0m \u001B[0mmdl\u001B[0m\u001B[0;34m.\u001B[0m\u001B[0mnamed_parameters\u001B[0m\u001B[0;34m(\u001B[0m\u001B[0;34m)\u001B[0m\u001B[0;34m:\u001B[0m\u001B[0;34m\u001B[0m\u001B[0;34m\u001B[0m\u001B[0m\n",
      "\u001B[0;31mKeyError\u001B[0m: 0"
     ]
    }
   ],
   "source": [
    "import torch\n",
    "import torch.nn as nn\n",
    "\n",
    "from collections import OrderedDict\n",
    "\n",
    "params = OrderedDict([\n",
    "    ('fc0', nn.Linear(in_features=4,out_features=4)),\n",
    "    ('ReLU0', nn.ReLU()),\n",
    "    ('fc1', nn.Linear(in_features=4,out_features=1))\n",
    "])\n",
    "mdl = nn.Sequential(params)\n",
    "\n",
    "print(params)\n",
    "print(mdl._parameters)\n",
    "print(params == params)\n",
    "print(mdl._parameters == params)\n",
    "print(mdl._modules)\n",
    "\n",
    "print()\n",
    "for name, w in mdl.named_parameters():\n",
    "    print(name, w.norm(2))\n",
    "\n",
    "print()    \n",
    "#mdl._modules['fc0'] = nn.Linear(10,11)\n",
    "mdl._modules[0]\n",
    "\n",
    "for name, w in mdl.named_parameters():\n",
    "    print(name, w.norm(2))"
   ]
  },
  {
   "cell_type": "code",
   "execution_count": null,
   "metadata": {},
   "outputs": [],
   "source": [
    "## Q: are parameters are in computation graph?\n",
    "import torch\n",
    "import torch.nn as nn\n",
    "from torchviz import make_dot\n",
    "\n",
    "from collections import OrderedDict\n",
    "\n",
    "fc0 = nn.Linear(in_features=3,out_features=1)\n",
    "params = [('fc0', fc0)]\n",
    "mdl = nn.Sequential(OrderedDict(params))\n",
    "\n",
    "x = torch.randn(1,3)\n",
    "y = torch.randn(1)\n",
    "\n",
    "l = ( mdl(x) - y )**2\n",
    "\n",
    "# make_dot(l,{x:'x',y:'y','fc0':fc0})\n",
    "print(fc0.weight)\n",
    "print(fc0.bias)\n",
    "print(fc0.weight.to_tens)\n",
    "print()\n",
    "# make_dot(l,{x:'x',y:'y','fc0':fc0})\n",
    "make_dot(l,{'x':x,'y':y})\n",
    "make_dot(l)"
   ]
  },
  {
   "cell_type": "code",
   "execution_count": null,
   "metadata": {},
   "outputs": [],
   "source": [
    "'''\n",
    "expand\n",
    "'''\n",
    "\n",
    "import torch\n",
    "\n",
    "x = torch.randn([2,3,4,5])\n",
    "\n",
    "# h_0 of shape (num_layers * num_directions, batch, hidden_size)\n",
    "h = torch.randn([1,4,8])\n",
    "\n",
    "x_mean = x.mean()\n",
    "print(x_mean.size())\n",
    "print(x_mean)\n",
    "x = x_mean.expand_as(h)\n",
    "print(x.size())\n",
    "print(x)"
   ]
  },
  {
   "cell_type": "code",
   "execution_count": null,
   "metadata": {},
   "outputs": [],
   "source": [
    "import torch\n",
    "\n",
    "use_cuda = torch.cuda.is_available()\n",
    "device = torch.device(\"cuda\" if use_cuda else \"cpu\")\n",
    "print(device)\n",
    "type(device)\n",
    "print(device == 'cpu')\n",
    "device.type"
   ]
  },
  {
   "cell_type": "code",
   "execution_count": null,
   "metadata": {},
   "outputs": [],
   "source": [
    "# THIS WORKS\n",
    "\n",
    "from torch.utils.tensorboard import SummaryWriter\n",
    "\n",
    "from pathlib import Path\n",
    "\n",
    "\n",
    "#log_dir (string) – Save directory location. \n",
    "#Default is runs/CURRENT_DATETIME_HOSTNAME, which changes after each run.\n",
    "\n",
    "tb = SummaryWriter()\n",
    "tb.add_scalar('loss', 111)"
   ]
  },
  {
   "cell_type": "code",
   "execution_count": null,
   "metadata": {},
   "outputs": [],
   "source": [
    "from torch.utils.tensorboard import SummaryWriter\n",
    "\n",
    "from pathlib import Path\n",
    "\n",
    "\n",
    "def CURRENT_DATETIME_HOSTNAME(comment=''):\n",
    "    #if not log_dir:\n",
    "    import socket\n",
    "    import os\n",
    "    from datetime import datetime\n",
    "    current_time = datetime.now().strftime('%b%d_%H-%M-%S')\n",
    "    log_dir = os.path.join('runs', current_time + '_' + socket.gethostname() + comment)\n",
    "    return Path(log_dir)\n",
    "\n",
    "#log_dir (string) – Save directory location. \n",
    "#Default is runs/CURRENT_DATETIME_HOSTNAME, which changes after each run.\n",
    "# tensorboard --logdir=runs\n",
    "log_dir = (Path('~/automl-meta-learning/') / CURRENT_DATETIME_HOSTNAME()).expanduser()\n",
    "print(log_dir)\n",
    "tb = SummaryWriter(log_dir=log_dir)\n",
    "tb.add_scalar('loss', 15)"
   ]
  },
  {
   "cell_type": "code",
   "execution_count": null,
   "metadata": {},
   "outputs": [],
   "source": [
    "# download mini-imagenet automatically\n",
    "\n",
    "#from torchvision.utils import download_and_extract_archive\n",
    "\n",
    "import torchvision.utils as utils\n",
    "\n",
    "print(utils)\n",
    "#print(download_and_extract_archive)"
   ]
  },
  {
   "cell_type": "code",
   "execution_count": null,
   "metadata": {},
   "outputs": [],
   "source": [
    "#torch concat, https://pytorch.org/docs/stable/torch.html#torch.cat\n",
    "# Concatenates the given sequence of seq tensors in the given dimension. \n",
    "# All tensors must either have the same shape (except in the concatenating dimension) or be empty.\n",
    "import torch\n",
    "\n",
    "g1 = torch.randn(3,2)\n",
    "g2 = torch.randn(4,2)\n",
    "\n",
    "g3 = torch.randn(4,2,3)\n",
    "\n",
    "grads = [g1, g2]\n",
    "print(g1.view(-1).size())\n",
    "print(g2.view(-1).size())\n",
    "print(g3.view(-1).size())\n",
    "#print(g3.view(-1))\n",
    "\n",
    "grads = torch.cat(grads, dim=0)\n",
    "print(grads)\n",
    "print(grads.size())\n",
    "print(grads.mean())\n",
    "print(grads.std())\n",
    "\n",
    "# torch stack, https://pytorch.org/docs/stable/torch.html#torch.stack\n",
    "# Concatenates sequence of tensors along a new dimension. \n",
    "# All tensors need to be of the same size.\n",
    "# torch.stack([g1,g2], dim=0)"
   ]
  },
  {
   "cell_type": "code",
   "execution_count": null,
   "metadata": {},
   "outputs": [],
   "source": [
    "import torch\n",
    "\n",
    "a = torch.tensor([1,2,3.], requires_grad=True)\n",
    "a_detached = a.detach()\n",
    "print(a_detached.is_leaf)\n",
    "a_detached_sum = a.sum()\n",
    "print(c.is_leaf)\n",
    "d = c.detach()\n",
    "print(d.is_leaf)"
   ]
  },
  {
   "cell_type": "code",
   "execution_count": null,
   "metadata": {},
   "outputs": [],
   "source": [
    "import torch\n",
    "\n",
    "from types import SimpleNamespace\n",
    "from pathlib import Path\n",
    "from pprint import pprint\n",
    "\n",
    "x = torch.empty([1,2,3])\n",
    "print(x.size())\n",
    "\n",
    "args = SimpleNamespace()\n",
    "args.data_root = \"~/automl-meta-learning/data/miniImagenet\"\n",
    "\n",
    "#n1313361300001299.jpg\n",
    "args.data_root = Path(args.data_root).expanduser()"
   ]
  },
  {
   "cell_type": "code",
   "execution_count": null,
   "metadata": {},
   "outputs": [],
   "source": [
    "import torch\n",
    "\n",
    "CHW = 3,12,12\n",
    "x = torch.randn(CHW)\n",
    "y = torch.randn(CHW)\n",
    "\n",
    "new = [x,y]\n",
    "new = torch.stack(new)\n",
    "print(x.size())\n",
    "print(new.size())"
   ]
  },
  {
   "cell_type": "code",
   "execution_count": null,
   "metadata": {},
   "outputs": [],
   "source": [
    "print('a');print('b')"
   ]
  },
  {
   "cell_type": "code",
   "execution_count": null,
   "metadata": {},
   "outputs": [],
   "source": [
    "# conver list to tensor\n",
    "\n",
    "import torch\n",
    "\n",
    "x = torch.tensor([1,2,3.])\n",
    "print(x)"
   ]
  },
  {
   "cell_type": "code",
   "execution_count": null,
   "metadata": {},
   "outputs": [],
   "source": [
    "    from torchvision.transforms import Compose, Resize, ToTensor\n",
    "\n",
    "    import torchmeta\n",
    "    from torchmeta.datasets.helpers import miniimagenet\n",
    "\n",
    "    from pathlib import Path\n",
    "    from types import SimpleNamespace\n",
    "\n",
    "    from tqdm import tqdm\n",
    "\n",
    "    ## get args\n",
    "    args = SimpleNamespace(episodes=5,n_classes=5,k_shot=5,k_eval=15,meta_batch_size=1,n_workers=4)\n",
    "    args.data_root = Path(\"~/automl-meta-learning/data/miniImagenet\").expanduser()\n",
    "\n",
    "    ## get meta-batch loader\n",
    "    train_transform = Compose([Resize(84), ToTensor()])\n",
    "    dataset = miniimagenet( \n",
    "        args.data_root, \n",
    "        ways=args.n_classes, \n",
    "        shots=args.k_shot, \n",
    "        test_shots=args.k_eval,\n",
    "        meta_split='train',\n",
    "        download=False)\n",
    "    dataloader = torchmeta.utils.data.BatchMetaDataLoader(\n",
    "        dataset, \n",
    "        batch_size=args.meta_batch_size,\n",
    "        num_workers=args.n_workers)\n",
    "\n",
    "    with tqdm(dataset):\n",
    "        print(f'len(dataloader)= {len(dataloader)}')\n",
    "        for episode, batch in enumerate(dataloader):\n",
    "            print(f'episode = {episode}') \n",
    "            train_inputs, train_labels = batch[\"train\"]\n",
    "            print(f'train_labels[0] = {train_labels[0]}')\n",
    "            print(f'train_inputs.size() = {train_inputs.size()}')\n",
    "            pass\n",
    "            if episode >= args.episodes:\n",
    "                break"
   ]
  },
  {
   "cell_type": "code",
   "execution_count": null,
   "metadata": {
    "tags": []
   },
   "outputs": [],
   "source": [
    "# zip tensors\n",
    "\n",
    "import torch\n",
    "\n",
    "x = torch.tensor([1.,2.,3.])\n",
    "y = torch.tensor([1,2,3])\n",
    "\n",
    "print(list(zip(x,y)))\n",
    "\n",
    "xx = torch.randn(2,3,84,84)\n",
    "yy = torch.randn(2,3,32,32)\n",
    "\n",
    "print(len(list(zip(xx,yy))))"
   ]
  },
  {
   "cell_type": "code",
   "execution_count": null,
   "outputs": [],
   "source": [
    "x = 2\n",
    "print(x)"
   ],
   "metadata": {
    "collapsed": false,
    "pycharm": {
     "name": "#%%\n"
    }
   }
  },
  {
   "cell_type": "code",
   "execution_count": 3,
   "metadata": {},
   "outputs": [
    {
     "name": "stdout",
     "output_type": "stream",
     "text": [
      "Starting Sinusioid cell\n",
      "batch_size = 16\n",
      "len(dataset) = 100\n",
      "len(dataloader) = 7\n",
      "\n",
      "batch_idx = 0\n",
      "train_inputs.shape = torch.Size([16, 5, 1])\n",
      "train_targets.shape = torch.Size([16, 5, 1])\n",
      "test_inputs.shape = torch.Size([16, 15, 1])\n",
      "test_targets.shape = torch.Size([16, 15, 1])\n",
      "batch_idx = 1\n",
      "train_inputs.shape = torch.Size([16, 5, 1])\n",
      "train_targets.shape = torch.Size([16, 5, 1])\n",
      "test_inputs.shape = torch.Size([16, 15, 1])\n",
      "test_targets.shape = torch.Size([16, 15, 1])\n",
      "DONE\u0007\n"
     ]
    }
   ],
   "source": [
    "## sinusioid function\n",
    "print('Starting Sinusioid cell')\n",
    "\n",
    "from torchmeta.toy import Sinusoid\n",
    "from torchmeta.utils.data import BatchMetaDataLoader\n",
    "from torchmeta.transforms import ClassSplitter\n",
    "\n",
    "#from tqdm import tqdm\n",
    "\n",
    "batch_size=16\n",
    "shots = 5\n",
    "test_shots = 15\n",
    "# dataset = torchmeta.toy.helpers.sinusoid(shots=shots, test_shots=tes_shots)\n",
    "metaset_dataset = Sinusoid(num_samples_per_task=shots+test_shots, num_tasks=100, noise_std=None)\n",
    "splitter_metset_dataset = ClassSplitter(metaset_dataset, shuffle=True,\n",
    "        num_train_per_class=shots, num_test_per_class=test_shots)\n",
    "dataloader = BatchMetaDataLoader(splitter_metset_dataset, batch_size=batch_size, num_workers=4)\n",
    "\n",
    "print(f'batch_size = {batch_size}')\n",
    "print(f'len(dataset) = {len(metaset_dataset)}')\n",
    "print(f'len(dataloader) = {len(dataloader)}\\n')\n",
    "for batch_idx, batch in enumerate(dataloader):\n",
    "    print(f'batch_idx = {batch_idx}')\n",
    "    train_inputs, train_targets = batch['train']\n",
    "    test_inputs, test_targets = batch['test']\n",
    "    print(f'train_inputs.shape = {train_inputs.shape}')\n",
    "    print(f'train_targets.shape = {train_targets.shape}')\n",
    "    print(f'test_inputs.shape = {test_inputs.shape}')\n",
    "    print(f'test_targets.shape = {test_targets.shape}')\n",
    "    if batch_idx >= 1: # halt after 2 iterations\n",
    "        break\n",
    "\n",
    "print('DONE\\a')"
   ]
  },
  {
   "cell_type": "code",
   "execution_count": null,
   "outputs": [],
   "source": [
    "## notes of torchmeta\n",
    "\n",
    "from pathlib import Path\n",
    "import torchmeta\n",
    "\n",
    "# meta-set: creates collection of data-sets, D_meta = {D_1, ... Dn}\n",
    "print('\\n-- Sinusoid(MetaDataset)')\n",
    "metaset_sinusoid = torchmeta.toy.Sinusoid(num_samples_per_task=10, num_tasks=1_000_000, noise_std=None)\n",
    "print(f'type(metaset_sinusoid) = {type(metaset_sinusoid)}')\n",
    "print(f'len(metaset_sinusoid) = {len(metaset_sinusoid)}')\n",
    "print(f'metaset_sinusoid = {metaset_sinusoid}')\n",
    "\n",
    "# this is still a data set but helps implement forming D_i\n",
    "# i.e. the N-way, K-shot tasks/datasets we need.\n",
    "print('\\n-- MiniImagenet(CombinationMetaDataset)')\n",
    "data_path = Path('~/data').expanduser()\n",
    "metaset_miniimagenet = torchmeta.datasets.MiniImagenet(data_path, num_classes_per_task=5, meta_train=True, download=True)\n",
    "print(f'type(metaset_miniimagenet) = {type(metaset_miniimagenet)}')\n",
    "print(f'len(metaset_miniimagenet) = {len(metaset_miniimagenet)}')\n",
    "print(f'metaset_miniimagenet = {metaset_miniimagenet}')\n",
    "\n",
    "# Splits the data-sets inside the meta-set into support/train & query/test sets\n",
    "dataset = metaset_miniimagenet\n",
    "dataset = torchmeta.transforms.ClassSplitter(dataset, num_train_per_class=1, num_test_per_class=15, shuffle=True)\n",
    "print(dataset)\n"
   ],
   "metadata": {
    "collapsed": false,
    "pycharm": {
     "name": "#%%\n"
    }
   }
  },
  {
   "cell_type": "code",
   "execution_count": 9,
   "outputs": [
    {
     "ename": "AttributeError",
     "evalue": "module 'torch.random' has no attribute 'uniform'",
     "output_type": "error",
     "traceback": [
      "\u001B[0;31m---------------------------------------------------------------------------\u001B[0m",
      "\u001B[0;31mAttributeError\u001B[0m                            Traceback (most recent call last)",
      "\u001B[0;32m<ipython-input-9-b7ee6d17e49b>\u001B[0m in \u001B[0;36m<module>\u001B[0;34m\u001B[0m\n\u001B[1;32m      3\u001B[0m \u001B[0;32mimport\u001B[0m \u001B[0mnumpy\u001B[0m \u001B[0;32mas\u001B[0m \u001B[0mnp\u001B[0m\u001B[0;34m\u001B[0m\u001B[0;34m\u001B[0m\u001B[0m\n\u001B[1;32m      4\u001B[0m \u001B[0;34m\u001B[0m\u001B[0m\n\u001B[0;32m----> 5\u001B[0;31m \u001B[0mx\u001B[0m \u001B[0;34m=\u001B[0m \u001B[0mtorch\u001B[0m\u001B[0;34m.\u001B[0m\u001B[0mrandom\u001B[0m\u001B[0;34m.\u001B[0m\u001B[0muniform\u001B[0m\u001B[0;34m(\u001B[0m\u001B[0;36m0\u001B[0m\u001B[0;34m,\u001B[0m\u001B[0;36m2\u001B[0m\u001B[0;34m,\u001B[0m\u001B[0;36m3\u001B[0m\u001B[0;34m)\u001B[0m\u001B[0;34m\u001B[0m\u001B[0;34m\u001B[0m\u001B[0m\n\u001B[0m\u001B[1;32m      6\u001B[0m \u001B[0;34m\u001B[0m\u001B[0m\n\u001B[1;32m      7\u001B[0m \u001B[0mprint\u001B[0m\u001B[0;34m(\u001B[0m\u001B[0mx\u001B[0m\u001B[0;34m)\u001B[0m\u001B[0;34m\u001B[0m\u001B[0;34m\u001B[0m\u001B[0m\n",
      "\u001B[0;31mAttributeError\u001B[0m: module 'torch.random' has no attribute 'uniform'"
     ]
    }
   ],
   "source": [
    "import torch\n",
    "import torch.nn as nn\n",
    "import numpy as np\n",
    "\n",
    "x = np.random.uniform()\n",
    "\n",
    "x = torch.rand()\n",
    "\n",
    "print(x)\n",
    "\n",
    "l = nn.Linear(1,1)\n",
    "\n",
    "y = l(x)\n",
    "\n",
    "print(y)"
   ],
   "metadata": {
    "collapsed": false,
    "pycharm": {
     "name": "#%%\n"
    }
   }
  },
  {
   "cell_type": "code",
   "execution_count": null,
   "outputs": [],
   "source": [
    "\n",
    "\n"
   ],
   "metadata": {
    "collapsed": false,
    "pycharm": {
     "name": "#%%\n"
    }
   }
  }
 ],
 "metadata": {
  "kernelspec": {
   "display_name": "Python 3",
   "language": "python",
   "name": "python3"
  },
  "language_info": {
   "codemirror_mode": {
    "name": "ipython",
    "version": 3
   },
   "file_extension": ".py",
   "mimetype": "text/x-python",
   "name": "python",
   "nbconvert_exporter": "python",
   "pygments_lexer": "ipython3",
   "version": "3.8.2-final"
  }
 },
 "nbformat": 4,
 "nbformat_minor": 4
}