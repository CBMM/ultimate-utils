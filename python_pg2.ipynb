{
 "cells": [
  {
   "cell_type": "code",
   "execution_count": 2,
   "metadata": {
    "collapsed": true
   },
   "outputs": [
    {
     "name": "stdout",
     "output_type": "stream",
     "text": [
      "Tree('pair', [Tree('string', [Token('A', 'a')])])\n",
      "pair\n",
      "  string\ta\n",
      "\n",
      "Tree('pair', [Tree('pair', [Tree('string', [Token('A', 'a')])]), Token('COMMA', ','), Tree('pair', [Tree('string', [Token('B', 'b')])])])\n",
      "pair\n",
      "  pair\n",
      "    string\ta\n",
      "  ,\n",
      "  pair\n",
      "    string\tb\n",
      "\n",
      "---- generating ast from Rule Seq\n",
      "[['pair', 'pair \",\" pair'], ['pair', 'string'], ['pair', 'string'], ['string', 'a'], ['string', 'b']]\n"
     ]
    },
    {
     "ename": "KeyboardInterrupt",
     "evalue": "",
     "output_type": "error",
     "traceback": [
      "\u001B[0;31m---------------------------------------------------------------------------\u001B[0m",
      "\u001B[0;31mKeyboardInterrupt\u001B[0m                         Traceback (most recent call last)",
      "\u001B[0;32m<ipython-input-2-5b9882adec32>\u001B[0m in \u001B[0;36m<module>\u001B[0;34m\u001B[0m\n\u001B[1;32m     59\u001B[0m \u001B[0;34m\u001B[0m\u001B[0m\n\u001B[1;32m     60\u001B[0m \u001B[0mprint\u001B[0m\u001B[0;34m(\u001B[0m\u001B[0;34m'---- generating ast from Rule Seq'\u001B[0m\u001B[0;34m)\u001B[0m\u001B[0;34m\u001B[0m\u001B[0;34m\u001B[0m\u001B[0m\n\u001B[0;32m---> 61\u001B[0;31m \u001B[0mbuild_lark_tree\u001B[0m\u001B[0;34m(\u001B[0m\u001B[0mrule_seq2\u001B[0m\u001B[0;34m)\u001B[0m\u001B[0;34m\u001B[0m\u001B[0;34m\u001B[0m\u001B[0m\n\u001B[0m",
      "\u001B[0;32m<ipython-input-2-5b9882adec32>\u001B[0m in \u001B[0;36mbuild_lark_tree\u001B[0;34m(rule_seq)\u001B[0m\n\u001B[1;32m     48\u001B[0m         \u001B[0mnt_idx\u001B[0m \u001B[0;34m=\u001B[0m \u001B[0;36m0\u001B[0m\u001B[0;34m\u001B[0m\u001B[0;34m\u001B[0m\u001B[0m\n\u001B[1;32m     49\u001B[0m         \u001B[0;32mfor\u001B[0m \u001B[0mnext_sym\u001B[0m \u001B[0;32min\u001B[0m \u001B[0mnext_syms\u001B[0m\u001B[0;34m:\u001B[0m\u001B[0;34m\u001B[0m\u001B[0;34m\u001B[0m\u001B[0m\n\u001B[0;32m---> 50\u001B[0;31m             \u001B[0;32mif\u001B[0m \u001B[0mis_non_terminal\u001B[0m\u001B[0;34m(\u001B[0m\u001B[0mnext_sym\u001B[0m\u001B[0;34m)\u001B[0m\u001B[0;34m:\u001B[0m\u001B[0;34m\u001B[0m\u001B[0;34m\u001B[0m\u001B[0m\n\u001B[0m\u001B[1;32m     51\u001B[0m                 \u001B[0mast\u001B[0m \u001B[0;34m=\u001B[0m \u001B[0mTree\u001B[0m\u001B[0;34m(\u001B[0m\u001B[0mnext_sym\u001B[0m\u001B[0;34m,\u001B[0m \u001B[0mbuild_lark_tree\u001B[0m\u001B[0;34m(\u001B[0m\u001B[0mrule_seq\u001B[0m\u001B[0;34m[\u001B[0m\u001B[0mnt_idx\u001B[0m\u001B[0;34m:\u001B[0m\u001B[0;34m]\u001B[0m\u001B[0;34m)\u001B[0m\u001B[0;34m)\u001B[0m\u001B[0;34m\u001B[0m\u001B[0;34m\u001B[0m\u001B[0m\n\u001B[1;32m     52\u001B[0m                 \u001B[0mnt_idx\u001B[0m \u001B[0;34m+=\u001B[0m \u001B[0;36m1\u001B[0m\u001B[0;34m\u001B[0m\u001B[0;34m\u001B[0m\u001B[0m\n",
      "\u001B[0;32m<ipython-input-2-5b9882adec32>\u001B[0m in \u001B[0;36mis_non_terminal\u001B[0;34m(sym)\u001B[0m\n\u001B[1;32m     35\u001B[0m \u001B[0;34m\u001B[0m\u001B[0m\n\u001B[1;32m     36\u001B[0m \u001B[0;32mdef\u001B[0m \u001B[0mis_non_terminal\u001B[0m\u001B[0;34m(\u001B[0m\u001B[0msym\u001B[0m\u001B[0;34m)\u001B[0m\u001B[0;34m:\u001B[0m\u001B[0;34m\u001B[0m\u001B[0;34m\u001B[0m\u001B[0m\n\u001B[0;32m---> 37\u001B[0;31m     \u001B[0;32mreturn\u001B[0m \u001B[0msym\u001B[0m \u001B[0;32min\u001B[0m \u001B[0mnon_terminals\u001B[0m\u001B[0;34m\u001B[0m\u001B[0;34m\u001B[0m\u001B[0m\n\u001B[0m\u001B[1;32m     38\u001B[0m \u001B[0;34m\u001B[0m\u001B[0m\n\u001B[1;32m     39\u001B[0m \u001B[0;32mdef\u001B[0m \u001B[0mbuild_lark_tree\u001B[0m\u001B[0;34m(\u001B[0m\u001B[0mrule_seq\u001B[0m\u001B[0;34m:\u001B[0m\u001B[0mlist\u001B[0m\u001B[0;34m[\u001B[0m\u001B[0mtuple\u001B[0m\u001B[0;34m]\u001B[0m\u001B[0;34m)\u001B[0m \u001B[0;34m->\u001B[0m \u001B[0mTree\u001B[0m\u001B[0;34m:\u001B[0m\u001B[0;34m\u001B[0m\u001B[0;34m\u001B[0m\u001B[0m\n",
      "\u001B[0;32m<ipython-input-2-5b9882adec32>\u001B[0m in \u001B[0;36mis_non_terminal\u001B[0;34m(sym)\u001B[0m\n\u001B[1;32m     35\u001B[0m \u001B[0;34m\u001B[0m\u001B[0m\n\u001B[1;32m     36\u001B[0m \u001B[0;32mdef\u001B[0m \u001B[0mis_non_terminal\u001B[0m\u001B[0;34m(\u001B[0m\u001B[0msym\u001B[0m\u001B[0;34m)\u001B[0m\u001B[0;34m:\u001B[0m\u001B[0;34m\u001B[0m\u001B[0;34m\u001B[0m\u001B[0m\n\u001B[0;32m---> 37\u001B[0;31m     \u001B[0;32mreturn\u001B[0m \u001B[0msym\u001B[0m \u001B[0;32min\u001B[0m \u001B[0mnon_terminals\u001B[0m\u001B[0;34m\u001B[0m\u001B[0;34m\u001B[0m\u001B[0m\n\u001B[0m\u001B[1;32m     38\u001B[0m \u001B[0;34m\u001B[0m\u001B[0m\n\u001B[1;32m     39\u001B[0m \u001B[0;32mdef\u001B[0m \u001B[0mbuild_lark_tree\u001B[0m\u001B[0;34m(\u001B[0m\u001B[0mrule_seq\u001B[0m\u001B[0;34m:\u001B[0m\u001B[0mlist\u001B[0m\u001B[0;34m[\u001B[0m\u001B[0mtuple\u001B[0m\u001B[0;34m]\u001B[0m\u001B[0;34m)\u001B[0m \u001B[0;34m->\u001B[0m \u001B[0mTree\u001B[0m\u001B[0;34m:\u001B[0m\u001B[0;34m\u001B[0m\u001B[0;34m\u001B[0m\u001B[0m\n",
      "\u001B[0;32m_pydevd_bundle/pydevd_cython_darwin_39_64.pyx\u001B[0m in \u001B[0;36m_pydevd_bundle.pydevd_cython_darwin_39_64.SafeCallWrapper.__call__\u001B[0;34m()\u001B[0m\n",
      "\u001B[0;32m_pydevd_bundle/pydevd_cython_darwin_39_64.pyx\u001B[0m in \u001B[0;36m_pydevd_bundle.pydevd_cython_darwin_39_64.PyDBFrame.trace_dispatch\u001B[0;34m()\u001B[0m\n",
      "\u001B[0;32m_pydevd_bundle/pydevd_cython_darwin_39_64.pyx\u001B[0m in \u001B[0;36m_pydevd_bundle.pydevd_cython_darwin_39_64.PyDBFrame.trace_dispatch\u001B[0;34m()\u001B[0m\n",
      "\u001B[0;32m_pydevd_bundle/pydevd_cython_darwin_39_64.pyx\u001B[0m in \u001B[0;36m_pydevd_bundle.pydevd_cython_darwin_39_64.PyDBFrame.trace_dispatch\u001B[0;34m()\u001B[0m\n",
      "\u001B[0;32m_pydevd_bundle/pydevd_cython_darwin_39_64.pyx\u001B[0m in \u001B[0;36m_pydevd_bundle.pydevd_cython_darwin_39_64.PyDBFrame.do_wait_suspend\u001B[0;34m()\u001B[0m\n",
      "\u001B[0;32m/Applications/PyCharm.app/Contents/plugins/python/helpers/pydev/pydevd.py\u001B[0m in \u001B[0;36mdo_wait_suspend\u001B[0;34m(self, thread, frame, event, arg, send_suspend_message, is_unhandled_exception)\u001B[0m\n\u001B[1;32m   1145\u001B[0m \u001B[0;34m\u001B[0m\u001B[0m\n\u001B[1;32m   1146\u001B[0m         \u001B[0;32mwith\u001B[0m \u001B[0mself\u001B[0m\u001B[0;34m.\u001B[0m\u001B[0m_threads_suspended_single_notification\u001B[0m\u001B[0;34m.\u001B[0m\u001B[0mnotify_thread_suspended\u001B[0m\u001B[0;34m(\u001B[0m\u001B[0mthread_id\u001B[0m\u001B[0;34m,\u001B[0m \u001B[0mstop_reason\u001B[0m\u001B[0;34m)\u001B[0m\u001B[0;34m:\u001B[0m\u001B[0;34m\u001B[0m\u001B[0;34m\u001B[0m\u001B[0m\n\u001B[0;32m-> 1147\u001B[0;31m             \u001B[0mself\u001B[0m\u001B[0;34m.\u001B[0m\u001B[0m_do_wait_suspend\u001B[0m\u001B[0;34m(\u001B[0m\u001B[0mthread\u001B[0m\u001B[0;34m,\u001B[0m \u001B[0mframe\u001B[0m\u001B[0;34m,\u001B[0m \u001B[0mevent\u001B[0m\u001B[0;34m,\u001B[0m \u001B[0marg\u001B[0m\u001B[0;34m,\u001B[0m \u001B[0msuspend_type\u001B[0m\u001B[0;34m,\u001B[0m \u001B[0mfrom_this_thread\u001B[0m\u001B[0;34m)\u001B[0m\u001B[0;34m\u001B[0m\u001B[0;34m\u001B[0m\u001B[0m\n\u001B[0m\u001B[1;32m   1148\u001B[0m \u001B[0;34m\u001B[0m\u001B[0m\n\u001B[1;32m   1149\u001B[0m     \u001B[0;32mdef\u001B[0m \u001B[0m_do_wait_suspend\u001B[0m\u001B[0;34m(\u001B[0m\u001B[0mself\u001B[0m\u001B[0;34m,\u001B[0m \u001B[0mthread\u001B[0m\u001B[0;34m,\u001B[0m \u001B[0mframe\u001B[0m\u001B[0;34m,\u001B[0m \u001B[0mevent\u001B[0m\u001B[0;34m,\u001B[0m \u001B[0marg\u001B[0m\u001B[0;34m,\u001B[0m \u001B[0msuspend_type\u001B[0m\u001B[0;34m,\u001B[0m \u001B[0mfrom_this_thread\u001B[0m\u001B[0;34m)\u001B[0m\u001B[0;34m:\u001B[0m\u001B[0;34m\u001B[0m\u001B[0;34m\u001B[0m\u001B[0m\n",
      "\u001B[0;32m/Applications/PyCharm.app/Contents/plugins/python/helpers/pydev/pydevd.py\u001B[0m in \u001B[0;36m_do_wait_suspend\u001B[0;34m(self, thread, frame, event, arg, suspend_type, from_this_thread)\u001B[0m\n\u001B[1;32m   1160\u001B[0m \u001B[0;34m\u001B[0m\u001B[0m\n\u001B[1;32m   1161\u001B[0m                 \u001B[0mself\u001B[0m\u001B[0;34m.\u001B[0m\u001B[0mprocess_internal_commands\u001B[0m\u001B[0;34m(\u001B[0m\u001B[0;34m)\u001B[0m\u001B[0;34m\u001B[0m\u001B[0;34m\u001B[0m\u001B[0m\n\u001B[0;32m-> 1162\u001B[0;31m                 \u001B[0mtime\u001B[0m\u001B[0;34m.\u001B[0m\u001B[0msleep\u001B[0m\u001B[0;34m(\u001B[0m\u001B[0;36m0.01\u001B[0m\u001B[0;34m)\u001B[0m\u001B[0;34m\u001B[0m\u001B[0;34m\u001B[0m\u001B[0m\n\u001B[0m\u001B[1;32m   1163\u001B[0m \u001B[0;34m\u001B[0m\u001B[0m\n\u001B[1;32m   1164\u001B[0m         \u001B[0mself\u001B[0m\u001B[0;34m.\u001B[0m\u001B[0mcancel_async_evaluation\u001B[0m\u001B[0;34m(\u001B[0m\u001B[0mget_current_thread_id\u001B[0m\u001B[0;34m(\u001B[0m\u001B[0mthread\u001B[0m\u001B[0;34m)\u001B[0m\u001B[0;34m,\u001B[0m \u001B[0mstr\u001B[0m\u001B[0;34m(\u001B[0m\u001B[0mid\u001B[0m\u001B[0;34m(\u001B[0m\u001B[0mframe\u001B[0m\u001B[0;34m)\u001B[0m\u001B[0;34m)\u001B[0m\u001B[0;34m)\u001B[0m\u001B[0;34m\u001B[0m\u001B[0;34m\u001B[0m\u001B[0m\n",
      "\u001B[0;31mKeyboardInterrupt\u001B[0m: "
     ]
    }
   ],
   "source": [
    "from lark import Lark, Tree, Token\n",
    "json_parser = Lark(r\"\"\"\n",
    "    pair: pair \",\" pair // 1\n",
    "         | string // 2\n",
    "    string : \"a\" // 3\n",
    "        | \"b\" // 4\n",
    "\n",
    "    %import common.WS\n",
    "    %ignore WS\n",
    "    \"\"\", start='pair', keep_all_tokens=True)\n",
    "\n",
    "text = 'a'\n",
    "ast = json_parser.parse(text)\n",
    "print(ast)\n",
    "print(ast.pretty())\n",
    "# rule seq\n",
    "rule_seq = ['pair', 'string', \"1\"]\n",
    "rule_seq2 = ['pair->string', 'string->1']\n",
    "\n",
    "text = \"a, b\"\n",
    "ast = json_parser.parse(text)\n",
    "print(ast)\n",
    "print(ast.pretty())\n",
    "rule_seq2 = ['pair->pair \",\" pair', 'pair->string', 'pair->string', 'string->a', 'string->b']\n",
    "rule_seq2 = [rule.split('->') for rule in rule_seq2]\n",
    "rule_seq3 = [1, 2, 2, 3, 4]\n",
    "\n",
    "non_terminals = ['pair', 'string']\n",
    "terminals = [\",\", \"a\", \"b\"]\n",
    "\n",
    "def is_terminal(sym):\n",
    "    # true if matches hardcoded symbols in grammar or a regex, note this only works if the nt has been checked first.\n",
    "    return sym in terminals  # or matches regex\n",
    "\n",
    "def is_non_terminal(sym):\n",
    "    return sym in non_terminals\n",
    "\n",
    "def build_lark_tree(rule_seq:list[tuple]) -> Tree:\n",
    "    print(rule_seq)\n",
    "    nt, next_syms = rule_seq[0]\n",
    "    if len(rule_seq) == 1:\n",
    "        return Tree(nt, [Token('literal', next_syms)])\n",
    "    else:\n",
    "        rule_seq = rule_seq[1:]\n",
    "        next_syms = next_syms.split(\" \")\n",
    "        asts = []\n",
    "        nt_idx = 0\n",
    "        for next_sym in next_syms:\n",
    "            if is_non_terminal(next_sym):\n",
    "                ast = Tree(next_sym, build_lark_tree(rule_seq[nt_idx:]))\n",
    "                nt_idx += 1\n",
    "            elif is_terminal(next_sym):\n",
    "                ast = Token('literal', next_sym)\n",
    "            else:\n",
    "                raise ValueError(f'Invalid: {next_sym} didnt match anything')\n",
    "            asts.append(ast)\n",
    "        return Tree(nt, asts)\n",
    "\n",
    "print('---- generating ast from Rule Seq')\n",
    "build_lark_tree(rule_seq2)"
   ]
  },
  {
   "cell_type": "code",
   "execution_count": 7,
   "outputs": [
    {
     "name": "stdout",
     "output_type": "stream",
     "text": [
      "[Rule(NonTerminal('pair'), [NonTerminal('pair'), Terminal('COMMA'), NonTerminal('pair')], None, RuleOptions(True, False, None, None)), Rule(NonTerminal('pair'), [NonTerminal('string')], None, RuleOptions(True, False, None, None)), Rule(NonTerminal('string'), [Terminal('A')], None, RuleOptions(True, False, None, None)), Rule(NonTerminal('string'), [Terminal('B')], None, RuleOptions(True, False, None, None))]\n",
      "\n",
      "<pair : pair COMMA pair>\n"
     ]
    }
   ],
   "source": [
    "from typing import Union\n",
    "\n",
    "from collections import deque\n",
    "\n",
    "from lark import Lark, Tree, Token\n",
    "from lark.grammar import Rule, NonTerminal, Symbol, Terminal\n",
    "from lark.reconstruct import Reconstructor\n",
    "\n",
    "grammar = r\"\"\"\n",
    "    pair: pair \",\" pair // 1\n",
    "         | string // 2\n",
    "    string : \"a\" // 3\n",
    "        | \"b\" // 4\n",
    "\n",
    "    %import common.WS\n",
    "    %ignore WS\n",
    "    \"\"\"\n",
    "parser = Lark(grammar, start='pair', keep_all_tokens=True)\n",
    "print(parser.rules)\n",
    "print()\n",
    "print(parser.rules[0])"
   ],
   "metadata": {
    "collapsed": false,
    "pycharm": {
     "name": "#%%\n"
    }
   }
  }
 ],
 "metadata": {
  "kernelspec": {
   "display_name": "Python 3",
   "language": "python",
   "name": "python3"
  },
  "language_info": {
   "codemirror_mode": {
    "name": "ipython",
    "version": 2
   },
   "file_extension": ".py",
   "mimetype": "text/x-python",
   "name": "python",
   "nbconvert_exporter": "python",
   "pygments_lexer": "ipython2",
   "version": "2.7.6"
  }
 },
 "nbformat": 4,
 "nbformat_minor": 0
}